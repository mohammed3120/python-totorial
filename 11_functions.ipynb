{
 "cells": [
  {
   "cell_type": "markdown",
   "id": "a1a4493b",
   "metadata": {},
   "source": [
    "# Functions"
   ]
  },
  {
   "cell_type": "code",
   "execution_count": 1,
   "id": "ff5d182d",
   "metadata": {},
   "outputs": [],
   "source": [
    "def print_stars():\n",
    "    '''\n",
    "    This function print 20 stars\n",
    "    '''\n",
    "    for i in range(10):\n",
    "        print('**')"
   ]
  },
  {
   "cell_type": "code",
   "execution_count": 2,
   "id": "ab468a90",
   "metadata": {},
   "outputs": [
    {
     "name": "stdout",
     "output_type": "stream",
     "text": [
      "**\n",
      "**\n",
      "**\n",
      "**\n",
      "**\n",
      "**\n",
      "**\n",
      "**\n",
      "**\n",
      "**\n"
     ]
    }
   ],
   "source": [
    "print_stars()"
   ]
  },
  {
   "cell_type": "markdown",
   "id": "965b4ccb",
   "metadata": {},
   "source": [
    "# Function documentation"
   ]
  },
  {
   "cell_type": "code",
   "execution_count": 3,
   "id": "dfae332e",
   "metadata": {},
   "outputs": [
    {
     "name": "stdout",
     "output_type": "stream",
     "text": [
      "\n",
      "    This function print 20 stars\n",
      "    \n"
     ]
    }
   ],
   "source": [
    "print(print_stars.__doc__)"
   ]
  },
  {
   "cell_type": "code",
   "execution_count": 4,
   "id": "cfcd71e0",
   "metadata": {},
   "outputs": [
    {
     "name": "stdout",
     "output_type": "stream",
     "text": [
      "**\n",
      "**\n",
      "**\n",
      "**\n",
      "**\n",
      "**\n",
      "**\n",
      "**\n",
      "**\n",
      "**\n"
     ]
    }
   ],
   "source": [
    "d1 = print_stars()\n",
    "d1"
   ]
  },
  {
   "cell_type": "code",
   "execution_count": 5,
   "id": "aa7ad5f6",
   "metadata": {},
   "outputs": [],
   "source": [
    "def absolute_value(num):\n",
    "    \"\"\"This function returns the absolute\n",
    "    value of the entered number\"\"\"\n",
    "\n",
    "    if num >= 0:\n",
    "        return num\n",
    "    else:\n",
    "        return -num"
   ]
  },
  {
   "cell_type": "code",
   "execution_count": 6,
   "id": "2d874dd1",
   "metadata": {},
   "outputs": [
    {
     "name": "stdout",
     "output_type": "stream",
     "text": [
      "This function returns the absolute\n",
      "    value of the entered number\n"
     ]
    }
   ],
   "source": [
    "print(absolute_value.__doc__)"
   ]
  },
  {
   "cell_type": "code",
   "execution_count": 7,
   "id": "5ba4fe64",
   "metadata": {},
   "outputs": [
    {
     "name": "stdout",
     "output_type": "stream",
     "text": [
      "2\n"
     ]
    }
   ],
   "source": [
    "print(absolute_value(2))"
   ]
  },
  {
   "cell_type": "code",
   "execution_count": 8,
   "id": "0e12aa52",
   "metadata": {},
   "outputs": [
    {
     "name": "stdout",
     "output_type": "stream",
     "text": [
      "4\n"
     ]
    }
   ],
   "source": [
    "print(absolute_value(-4))"
   ]
  },
  {
   "cell_type": "code",
   "execution_count": 9,
   "id": "752e4710",
   "metadata": {},
   "outputs": [],
   "source": [
    "def multply(x1,y1):\n",
    "    print(x1 * y1)   "
   ]
  },
  {
   "cell_type": "code",
   "execution_count": 10,
   "id": "013e5350",
   "metadata": {},
   "outputs": [
    {
     "name": "stdout",
     "output_type": "stream",
     "text": [
      "20\n"
     ]
    }
   ],
   "source": [
    "multply(4,5)"
   ]
  },
  {
   "cell_type": "markdown",
   "id": "a8b4cb43",
   "metadata": {},
   "source": [
    "# *args (It is used with an unlimited number of parameters)"
   ]
  },
  {
   "cell_type": "code",
   "execution_count": 11,
   "id": "884d2413",
   "metadata": {},
   "outputs": [],
   "source": [
    "def func(*args):\n",
    "    print(len(args))\n",
    "    for i in args:\n",
    "        print(i)"
   ]
  },
  {
   "cell_type": "code",
   "execution_count": 12,
   "id": "7b6ba20f",
   "metadata": {},
   "outputs": [
    {
     "name": "stdout",
     "output_type": "stream",
     "text": [
      "4\n",
      "Ahmmed\n",
      "Abduallah\n",
      "25\n",
      "True\n"
     ]
    }
   ],
   "source": [
    "func('Ahmmed', 'Abduallah', 25, True)"
   ]
  },
  {
   "cell_type": "code",
   "execution_count": 13,
   "id": "6bb40ed8",
   "metadata": {},
   "outputs": [
    {
     "name": "stdout",
     "output_type": "stream",
     "text": [
      "0\n"
     ]
    }
   ],
   "source": [
    "func()"
   ]
  },
  {
   "cell_type": "code",
   "execution_count": 14,
   "id": "bf00c9d1",
   "metadata": {},
   "outputs": [
    {
     "name": "stdout",
     "output_type": "stream",
     "text": [
      "3\n",
      "4\n",
      "5\n",
      "6\n"
     ]
    }
   ],
   "source": [
    "func(4,5,6)"
   ]
  },
  {
   "cell_type": "code",
   "execution_count": 15,
   "id": "45e78ec5",
   "metadata": {},
   "outputs": [
    {
     "name": "stdout",
     "output_type": "stream",
     "text": [
      "1\n",
      "[1, 2, 3, 4, 5, 6]\n"
     ]
    }
   ],
   "source": [
    "func([1,2,3,4,5,6])"
   ]
  },
  {
   "cell_type": "code",
   "execution_count": 16,
   "id": "f550d687",
   "metadata": {},
   "outputs": [],
   "source": [
    "def sum_numbers(*k):\n",
    "    print(sum(k))"
   ]
  },
  {
   "cell_type": "code",
   "execution_count": 17,
   "id": "deda484d",
   "metadata": {},
   "outputs": [
    {
     "name": "stdout",
     "output_type": "stream",
     "text": [
      "15\n"
     ]
    }
   ],
   "source": [
    "sum_numbers(4,5,6)"
   ]
  },
  {
   "cell_type": "code",
   "execution_count": 18,
   "id": "3369813c",
   "metadata": {},
   "outputs": [],
   "source": [
    "def d2(a,b,*c):\n",
    "    print(a*b)\n",
    "    print(len(c))"
   ]
  },
  {
   "cell_type": "code",
   "execution_count": 19,
   "id": "97ab7396",
   "metadata": {},
   "outputs": [
    {
     "name": "stdout",
     "output_type": "stream",
     "text": [
      "18\n",
      "4\n"
     ]
    }
   ],
   "source": [
    "d2(2,9,10,20,50,6)"
   ]
  },
  {
   "cell_type": "code",
   "execution_count": 20,
   "id": "50f03d04",
   "metadata": {},
   "outputs": [
    {
     "name": "stdout",
     "output_type": "stream",
     "text": [
      "2\n",
      "4\n"
     ]
    }
   ],
   "source": [
    "l = [1,2,3,4,5,6]\n",
    "d2(*l)"
   ]
  },
  {
   "cell_type": "markdown",
   "id": "01dfb5cd",
   "metadata": {},
   "source": [
    "# **kwargs"
   ]
  },
  {
   "cell_type": "markdown",
   "id": "d4ff20a5",
   "metadata": {},
   "source": [
    "## use with dictionary"
   ]
  },
  {
   "cell_type": "code",
   "execution_count": 21,
   "id": "7b85ff22",
   "metadata": {},
   "outputs": [],
   "source": [
    "def print_args(a,b,*c,**d):\n",
    "    print(a)\n",
    "    print(b)\n",
    "    print(c)\n",
    "    print(d)"
   ]
  },
  {
   "cell_type": "code",
   "execution_count": 22,
   "id": "24ea0d89",
   "metadata": {},
   "outputs": [
    {
     "name": "stdout",
     "output_type": "stream",
     "text": [
      "1\n",
      "2\n",
      "(3, 4, 5, 6)\n",
      "{}\n"
     ]
    }
   ],
   "source": [
    "print_args(*l)"
   ]
  },
  {
   "cell_type": "code",
   "execution_count": 23,
   "id": "9fb16ced",
   "metadata": {},
   "outputs": [
    {
     "name": "stdout",
     "output_type": "stream",
     "text": [
      "5\n",
      "6\n",
      "(5, [5, 9, 7])\n",
      "{'c1': 15, 'c2': 50}\n"
     ]
    }
   ],
   "source": [
    "print_args(5,6,5,[5,9,7],c1 = 15,c2 = 50)"
   ]
  },
  {
   "cell_type": "code",
   "execution_count": 24,
   "id": "3a758f81",
   "metadata": {},
   "outputs": [
    {
     "name": "stdout",
     "output_type": "stream",
     "text": [
      "5\n",
      "6\n",
      "(5, [5, 9, 7])\n",
      "{}\n"
     ]
    }
   ],
   "source": [
    "print_args(5,6,5,[5,9,7])"
   ]
  },
  {
   "cell_type": "code",
   "execution_count": 25,
   "id": "228d4aa8",
   "metadata": {},
   "outputs": [
    {
     "name": "stdout",
     "output_type": "stream",
     "text": [
      "1\n",
      "2\n",
      "(3, 4, 5, 6, 7, 8, 9)\n",
      "{}\n"
     ]
    }
   ],
   "source": [
    "print_args(1,2,3,4,5,6,7,8,9)"
   ]
  },
  {
   "cell_type": "code",
   "execution_count": 26,
   "id": "90d55657",
   "metadata": {},
   "outputs": [],
   "source": [
    "def kwargs_function(**kwargs):\n",
    "    for k,v in kwargs.items():\n",
    "        print('key ',k,' value ',v)\n",
    "    "
   ]
  },
  {
   "cell_type": "code",
   "execution_count": 27,
   "id": "78cc0f5f",
   "metadata": {},
   "outputs": [
    {
     "name": "stdout",
     "output_type": "stream",
     "text": [
      "key  c1  value  10\n",
      "key  c2  value  20\n",
      "key  c3  value  30\n"
     ]
    }
   ],
   "source": [
    "kwargs_function(c1=10,c2=20,c3=30)"
   ]
  },
  {
   "cell_type": "code",
   "execution_count": 28,
   "id": "18298b98",
   "metadata": {},
   "outputs": [
    {
     "name": "stdout",
     "output_type": "stream",
     "text": [
      "key  a  value  50\n",
      "key  b  value  60\n",
      "key  c  value  90\n"
     ]
    }
   ],
   "source": [
    "dictioary1 = {'a':50, 'b':60, 'c':90}\n",
    "kwargs_function(**dictioary1)"
   ]
  },
  {
   "cell_type": "markdown",
   "id": "dfcf80a4",
   "metadata": {},
   "source": [
    "# defalut agrs"
   ]
  },
  {
   "cell_type": "code",
   "execution_count": 29,
   "id": "458bea38",
   "metadata": {},
   "outputs": [],
   "source": [
    "def power(a,b = 2):\n",
    "    return a**b"
   ]
  },
  {
   "cell_type": "code",
   "execution_count": 30,
   "id": "8c7377e1",
   "metadata": {},
   "outputs": [
    {
     "data": {
      "text/plain": [
       "100"
      ]
     },
     "execution_count": 30,
     "metadata": {},
     "output_type": "execute_result"
    }
   ],
   "source": [
    "power(10)"
   ]
  },
  {
   "cell_type": "code",
   "execution_count": 31,
   "id": "00c17335",
   "metadata": {},
   "outputs": [
    {
     "data": {
      "text/plain": [
       "1000"
      ]
     },
     "execution_count": 31,
     "metadata": {},
     "output_type": "execute_result"
    }
   ],
   "source": [
    "power(10,3)"
   ]
  },
  {
   "cell_type": "code",
   "execution_count": 32,
   "id": "36d27677",
   "metadata": {},
   "outputs": [
    {
     "data": {
      "text/plain": [
       "64"
      ]
     },
     "execution_count": 32,
     "metadata": {},
     "output_type": "execute_result"
    }
   ],
   "source": [
    "power(b = 3, a = 4)"
   ]
  },
  {
   "cell_type": "code",
   "execution_count": 33,
   "id": "cb7edd59",
   "metadata": {},
   "outputs": [],
   "source": [
    "# d8_power(b = 10, 2) it will be wrong"
   ]
  },
  {
   "cell_type": "code",
   "execution_count": 34,
   "id": "26e6c7a9",
   "metadata": {},
   "outputs": [],
   "source": [
    "#d8_power(a = 10, 2) it will be wrong"
   ]
  },
  {
   "cell_type": "markdown",
   "id": "68200d0f",
   "metadata": {},
   "source": [
    "# Global and Local varibles"
   ]
  },
  {
   "cell_type": "code",
   "execution_count": 35,
   "id": "6b927cb7",
   "metadata": {},
   "outputs": [],
   "source": [
    "def func1():\n",
    "    x1 = 20"
   ]
  },
  {
   "cell_type": "code",
   "execution_count": 36,
   "id": "271079d8",
   "metadata": {},
   "outputs": [
    {
     "data": {
      "text/plain": [
       "10"
      ]
     },
     "execution_count": 36,
     "metadata": {},
     "output_type": "execute_result"
    }
   ],
   "source": [
    "x1 = 10\n",
    "func1()\n",
    "x1"
   ]
  },
  {
   "cell_type": "code",
   "execution_count": 37,
   "id": "8ace490e",
   "metadata": {},
   "outputs": [],
   "source": [
    "def func2():\n",
    "    global x2\n",
    "    x2 = 50"
   ]
  },
  {
   "cell_type": "code",
   "execution_count": 38,
   "id": "875b68db",
   "metadata": {},
   "outputs": [
    {
     "data": {
      "text/plain": [
       "50"
      ]
     },
     "execution_count": 38,
     "metadata": {},
     "output_type": "execute_result"
    }
   ],
   "source": [
    "x2 = 100\n",
    "func2()\n",
    "x2"
   ]
  },
  {
   "cell_type": "markdown",
   "id": "10d97daa",
   "metadata": {},
   "source": [
    "# lambda"
   ]
  },
  {
   "cell_type": "markdown",
   "id": "477e91d3",
   "metadata": {},
   "source": [
    "### Syntax of Lambda Function in python\n",
    "### lambda arguments: expression"
   ]
  },
  {
   "cell_type": "markdown",
   "id": "70e26ab8",
   "metadata": {},
   "source": [
    "#### We use lambda functions when we require a nameless function for a short period of time."
   ]
  },
  {
   "cell_type": "code",
   "execution_count": 39,
   "id": "3afcb56e",
   "metadata": {},
   "outputs": [],
   "source": [
    "powers = lambda x,y:x**y"
   ]
  },
  {
   "cell_type": "code",
   "execution_count": 40,
   "id": "8acc9c2c",
   "metadata": {},
   "outputs": [
    {
     "data": {
      "text/plain": [
       "8"
      ]
     },
     "execution_count": 40,
     "metadata": {},
     "output_type": "execute_result"
    }
   ],
   "source": [
    "powers(2,3)"
   ]
  },
  {
   "cell_type": "code",
   "execution_count": 41,
   "id": "74a13340",
   "metadata": {},
   "outputs": [],
   "source": [
    "numbers = list(range(10))"
   ]
  },
  {
   "cell_type": "code",
   "execution_count": 42,
   "id": "da720f34",
   "metadata": {},
   "outputs": [],
   "source": [
    "evan_numbers = list(filter(lambda x:x%2==0, numbers))\n",
    "odd_numbers = list(filter(lambda x:x%2==1, numbers))"
   ]
  },
  {
   "cell_type": "code",
   "execution_count": 43,
   "id": "dea9596e",
   "metadata": {},
   "outputs": [
    {
     "data": {
      "text/plain": [
       "[0, 2, 4, 6, 8]"
      ]
     },
     "execution_count": 43,
     "metadata": {},
     "output_type": "execute_result"
    }
   ],
   "source": [
    "evan_numbers"
   ]
  },
  {
   "cell_type": "code",
   "execution_count": 44,
   "id": "fb1b1448",
   "metadata": {},
   "outputs": [
    {
     "data": {
      "text/plain": [
       "[1, 3, 5, 7, 9]"
      ]
     },
     "execution_count": 44,
     "metadata": {},
     "output_type": "execute_result"
    }
   ],
   "source": [
    "odd_numbers"
   ]
  },
  {
   "cell_type": "code",
   "execution_count": 45,
   "id": "2e89e467",
   "metadata": {},
   "outputs": [
    {
     "data": {
      "text/plain": [
       "[0, 1, 4, 9, 16, 25, 36, 49, 64, 81]"
      ]
     },
     "execution_count": 45,
     "metadata": {},
     "output_type": "execute_result"
    }
   ],
   "source": [
    "list(map(lambda x: x**2 , numbers))"
   ]
  },
  {
   "cell_type": "code",
   "execution_count": 46,
   "id": "4a4972ec",
   "metadata": {},
   "outputs": [],
   "source": [
    "def cube(x):\n",
    "    return x**3"
   ]
  },
  {
   "cell_type": "code",
   "execution_count": 47,
   "id": "4df3e142",
   "metadata": {},
   "outputs": [
    {
     "data": {
      "text/plain": [
       "[0, 1, 8, 27, 64, 125, 216, 343, 512, 729]"
      ]
     },
     "execution_count": 47,
     "metadata": {},
     "output_type": "execute_result"
    }
   ],
   "source": [
    "list(map(lambda x:cube(x), numbers))"
   ]
  },
  {
   "cell_type": "code",
   "execution_count": 48,
   "id": "c98ac28d",
   "metadata": {},
   "outputs": [],
   "source": [
    "def func3(): \n",
    "    for i in range(5):\n",
    "        yield i"
   ]
  },
  {
   "cell_type": "code",
   "execution_count": 49,
   "id": "3cae2d0d",
   "metadata": {},
   "outputs": [
    {
     "name": "stdout",
     "output_type": "stream",
     "text": [
      "0\n",
      "1\n",
      "2\n",
      "3\n",
      "4\n"
     ]
    }
   ],
   "source": [
    "d = func3()\n",
    "for g in d:\n",
    "    print(g)"
   ]
  },
  {
   "cell_type": "code",
   "execution_count": 50,
   "id": "79b95ade",
   "metadata": {},
   "outputs": [],
   "source": [
    "f = func3()"
   ]
  },
  {
   "cell_type": "code",
   "execution_count": 51,
   "id": "a61558f5",
   "metadata": {},
   "outputs": [
    {
     "data": {
      "text/plain": [
       "0"
      ]
     },
     "execution_count": 51,
     "metadata": {},
     "output_type": "execute_result"
    }
   ],
   "source": [
    "next(f)"
   ]
  },
  {
   "cell_type": "code",
   "execution_count": 52,
   "id": "8f6a6ed8",
   "metadata": {},
   "outputs": [
    {
     "data": {
      "text/plain": [
       "1"
      ]
     },
     "execution_count": 52,
     "metadata": {},
     "output_type": "execute_result"
    }
   ],
   "source": [
    "next(f)"
   ]
  },
  {
   "cell_type": "code",
   "execution_count": 53,
   "id": "abc5c1fd",
   "metadata": {},
   "outputs": [
    {
     "data": {
      "text/plain": [
       "2"
      ]
     },
     "execution_count": 53,
     "metadata": {},
     "output_type": "execute_result"
    }
   ],
   "source": [
    "next(f)"
   ]
  },
  {
   "cell_type": "code",
   "execution_count": 54,
   "id": "427fe875",
   "metadata": {},
   "outputs": [],
   "source": [
    "def fibonatchi(n):\n",
    "    a = b = 1\n",
    "    result = []\n",
    "    for i in range(n):\n",
    "        result.append(a)\n",
    "        a = b\n",
    "        b = b+a\n",
    "        \n",
    "    return result"
   ]
  },
  {
   "cell_type": "code",
   "execution_count": 55,
   "id": "c3ee838e",
   "metadata": {},
   "outputs": [
    {
     "data": {
      "text/plain": [
       "[1, 1, 2, 4, 8, 16, 32, 64, 128, 256]"
      ]
     },
     "execution_count": 55,
     "metadata": {},
     "output_type": "execute_result"
    }
   ],
   "source": [
    "fibonatchi(10)"
   ]
  },
  {
   "cell_type": "code",
   "execution_count": 56,
   "id": "4ea4dfd5",
   "metadata": {},
   "outputs": [],
   "source": [
    "def fibonatchi(n):\n",
    "    a = b = 1\n",
    "    for i in range(n):\n",
    "        yield a\n",
    "        a = b\n",
    "        b = b+a"
   ]
  },
  {
   "cell_type": "code",
   "execution_count": 57,
   "id": "7f8bc8b5",
   "metadata": {},
   "outputs": [
    {
     "data": {
      "text/plain": [
       "[1, 1, 2, 4, 8, 16, 32, 64, 128, 256]"
      ]
     },
     "execution_count": 57,
     "metadata": {},
     "output_type": "execute_result"
    }
   ],
   "source": [
    "list(fibonatchi(10))"
   ]
  },
  {
   "cell_type": "code",
   "execution_count": 58,
   "id": "ffc67da9",
   "metadata": {},
   "outputs": [
    {
     "data": {
      "text/plain": [
       "<generator object fibonatchi at 0x000002BE39C2CCF0>"
      ]
     },
     "execution_count": 58,
     "metadata": {},
     "output_type": "execute_result"
    }
   ],
   "source": [
    "fibonatchi(10)"
   ]
  },
  {
   "cell_type": "code",
   "execution_count": 59,
   "id": "12da5373",
   "metadata": {},
   "outputs": [
    {
     "name": "stdout",
     "output_type": "stream",
     "text": [
      "1\n",
      "1\n",
      "2\n",
      "4\n",
      "8\n",
      "16\n",
      "32\n",
      "64\n",
      "128\n",
      "256\n"
     ]
    }
   ],
   "source": [
    "for j in fibonatchi(10):\n",
    "    print(j)"
   ]
  },
  {
   "cell_type": "markdown",
   "id": "27a10a4e",
   "metadata": {},
   "source": [
    "# Recursive functions"
   ]
  },
  {
   "cell_type": "code",
   "execution_count": 60,
   "id": "27de13fc",
   "metadata": {},
   "outputs": [],
   "source": [
    "def facturial(n):\n",
    "    if n == 1 :\n",
    "        return 1\n",
    "    else:\n",
    "        return n * facturial(n-1)"
   ]
  },
  {
   "cell_type": "code",
   "execution_count": 61,
   "id": "108488e5",
   "metadata": {},
   "outputs": [
    {
     "data": {
      "text/plain": [
       "6"
      ]
     },
     "execution_count": 61,
     "metadata": {},
     "output_type": "execute_result"
    }
   ],
   "source": [
    "facturial(3)"
   ]
  },
  {
   "cell_type": "code",
   "execution_count": 62,
   "id": "1911ed3b",
   "metadata": {},
   "outputs": [],
   "source": [
    "import math"
   ]
  },
  {
   "cell_type": "code",
   "execution_count": 63,
   "id": "3a4eab3b",
   "metadata": {},
   "outputs": [
    {
     "data": {
      "text/plain": [
       "['__doc__',\n",
       " '__loader__',\n",
       " '__name__',\n",
       " '__package__',\n",
       " '__spec__',\n",
       " 'acos',\n",
       " 'acosh',\n",
       " 'asin',\n",
       " 'asinh',\n",
       " 'atan',\n",
       " 'atan2',\n",
       " 'atanh',\n",
       " 'ceil',\n",
       " 'comb',\n",
       " 'copysign',\n",
       " 'cos',\n",
       " 'cosh',\n",
       " 'degrees',\n",
       " 'dist',\n",
       " 'e',\n",
       " 'erf',\n",
       " 'erfc',\n",
       " 'exp',\n",
       " 'expm1',\n",
       " 'fabs',\n",
       " 'factorial',\n",
       " 'floor',\n",
       " 'fmod',\n",
       " 'frexp',\n",
       " 'fsum',\n",
       " 'gamma',\n",
       " 'gcd',\n",
       " 'hypot',\n",
       " 'inf',\n",
       " 'isclose',\n",
       " 'isfinite',\n",
       " 'isinf',\n",
       " 'isnan',\n",
       " 'isqrt',\n",
       " 'ldexp',\n",
       " 'lgamma',\n",
       " 'log',\n",
       " 'log10',\n",
       " 'log1p',\n",
       " 'log2',\n",
       " 'modf',\n",
       " 'nan',\n",
       " 'perm',\n",
       " 'pi',\n",
       " 'pow',\n",
       " 'prod',\n",
       " 'radians',\n",
       " 'remainder',\n",
       " 'sin',\n",
       " 'sinh',\n",
       " 'sqrt',\n",
       " 'tan',\n",
       " 'tanh',\n",
       " 'tau',\n",
       " 'trunc']"
      ]
     },
     "execution_count": 63,
     "metadata": {},
     "output_type": "execute_result"
    }
   ],
   "source": [
    "dir(math)"
   ]
  },
  {
   "cell_type": "code",
   "execution_count": 64,
   "id": "6b7058f3",
   "metadata": {},
   "outputs": [],
   "source": [
    "import sys"
   ]
  },
  {
   "cell_type": "code",
   "execution_count": 65,
   "id": "354a701c",
   "metadata": {
    "scrolled": false
   },
   "outputs": [
    {
     "data": {
      "text/plain": [
       "['C:\\\\Users\\\\mohammed\\\\Desktop\\\\python-totorial',\n",
       " 'C:\\\\Users\\\\mohammed\\\\anaconda3\\\\python38.zip',\n",
       " 'C:\\\\Users\\\\mohammed\\\\anaconda3\\\\DLLs',\n",
       " 'C:\\\\Users\\\\mohammed\\\\anaconda3\\\\lib',\n",
       " 'C:\\\\Users\\\\mohammed\\\\anaconda3',\n",
       " '',\n",
       " 'C:\\\\Users\\\\mohammed\\\\anaconda3\\\\lib\\\\site-packages',\n",
       " 'C:\\\\Users\\\\mohammed\\\\anaconda3\\\\lib\\\\site-packages\\\\locket-0.2.1-py3.8.egg',\n",
       " 'C:\\\\Users\\\\mohammed\\\\anaconda3\\\\lib\\\\site-packages\\\\win32',\n",
       " 'C:\\\\Users\\\\mohammed\\\\anaconda3\\\\lib\\\\site-packages\\\\win32\\\\lib',\n",
       " 'C:\\\\Users\\\\mohammed\\\\anaconda3\\\\lib\\\\site-packages\\\\Pythonwin',\n",
       " 'C:\\\\Users\\\\mohammed\\\\anaconda3\\\\lib\\\\site-packages\\\\IPython\\\\extensions',\n",
       " 'C:\\\\Users\\\\mohammed\\\\.ipython']"
      ]
     },
     "execution_count": 65,
     "metadata": {},
     "output_type": "execute_result"
    }
   ],
   "source": [
    "sys.path"
   ]
  }
 ],
 "metadata": {
  "kernelspec": {
   "display_name": "Python 3",
   "language": "python",
   "name": "python3"
  },
  "language_info": {
   "codemirror_mode": {
    "name": "ipython",
    "version": 3
   },
   "file_extension": ".py",
   "mimetype": "text/x-python",
   "name": "python",
   "nbconvert_exporter": "python",
   "pygments_lexer": "ipython3",
   "version": "3.8.8"
  }
 },
 "nbformat": 4,
 "nbformat_minor": 5
}
