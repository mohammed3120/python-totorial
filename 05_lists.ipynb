{
 "cells": [
  {
   "cell_type": "markdown",
   "id": "d95f42e0",
   "metadata": {},
   "source": [
    "# List is container that contains editable data"
   ]
  },
  {
   "cell_type": "code",
   "execution_count": null,
   "id": "017b7cca",
   "metadata": {},
   "outputs": [],
   "source": [
    "l1 = ['Ahmmed', 'Abduallah', 25, ['Lebanon', 5], 1-5j, True]\n",
    "l1"
   ]
  },
  {
   "cell_type": "code",
   "execution_count": null,
   "id": "d0c813ff",
   "metadata": {},
   "outputs": [],
   "source": [
    "l2 = [['a',10],['b',20]]\n",
    "l2"
   ]
  },
  {
   "cell_type": "code",
   "execution_count": null,
   "id": "3b6547fd",
   "metadata": {},
   "outputs": [],
   "source": [
    "l3 = list('I am Mohammed')\n",
    "l3"
   ]
  },
  {
   "cell_type": "code",
   "execution_count": null,
   "id": "1e437596",
   "metadata": {},
   "outputs": [],
   "source": [
    "[a,b,c,d] = 'a'*4\n",
    "a"
   ]
  },
  {
   "cell_type": "code",
   "execution_count": null,
   "id": "45e64f3e",
   "metadata": {},
   "outputs": [],
   "source": [
    "b"
   ]
  },
  {
   "cell_type": "code",
   "execution_count": null,
   "id": "7e762848",
   "metadata": {},
   "outputs": [],
   "source": [
    "l3 = 'aa'*10\n",
    "l3"
   ]
  },
  {
   "cell_type": "code",
   "execution_count": null,
   "id": "b8116b8e",
   "metadata": {},
   "outputs": [],
   "source": [
    "l1[0]"
   ]
  },
  {
   "cell_type": "code",
   "execution_count": null,
   "id": "e9dede88",
   "metadata": {},
   "outputs": [],
   "source": [
    "l1[:3]"
   ]
  },
  {
   "cell_type": "code",
   "execution_count": null,
   "id": "0ff8e2dd",
   "metadata": {},
   "outputs": [],
   "source": [
    "l1[:-2]"
   ]
  },
  {
   "cell_type": "code",
   "execution_count": null,
   "id": "ef5092fa",
   "metadata": {},
   "outputs": [],
   "source": [
    "l1[3][1]"
   ]
  },
  {
   "cell_type": "code",
   "execution_count": null,
   "id": "06a16303",
   "metadata": {},
   "outputs": [],
   "source": [
    "l1[::-1]"
   ]
  },
  {
   "cell_type": "code",
   "execution_count": null,
   "id": "84b3e71e",
   "metadata": {},
   "outputs": [],
   "source": [
    "l4 = [1,2,3,4,5,6]\n",
    "l4"
   ]
  },
  {
   "cell_type": "code",
   "execution_count": null,
   "id": "69d591a9",
   "metadata": {},
   "outputs": [],
   "source": [
    "l4[:3]"
   ]
  },
  {
   "cell_type": "code",
   "execution_count": null,
   "id": "171d449a",
   "metadata": {},
   "outputs": [],
   "source": [
    "l4[:3] = 7,8,9\n",
    "l4"
   ]
  },
  {
   "cell_type": "markdown",
   "id": "6c4c93f3",
   "metadata": {},
   "source": [
    "### To delete elements from list with multi specific places (places > 1)"
   ]
  },
  {
   "cell_type": "code",
   "execution_count": null,
   "id": "aeb76314",
   "metadata": {},
   "outputs": [],
   "source": [
    "l4[:3] = []\n",
    "l4"
   ]
  },
  {
   "cell_type": "markdown",
   "id": "4eb9ff9f",
   "metadata": {},
   "source": [
    "### To delete all elements from list"
   ]
  },
  {
   "cell_type": "code",
   "execution_count": null,
   "id": "8f61c8f4",
   "metadata": {},
   "outputs": [],
   "source": [
    "l4 = []\n",
    "l4"
   ]
  },
  {
   "cell_type": "markdown",
   "id": "8b173ac5",
   "metadata": {},
   "source": [
    "# del"
   ]
  },
  {
   "cell_type": "code",
   "execution_count": null,
   "id": "5a3a88e8",
   "metadata": {},
   "outputs": [],
   "source": [
    "l5 = ['a', 'b', 'c', 'd', 'e', 'f', 'g', 'h', 'i', 'i', 'j', 'k', 'k']\n",
    "l6 = l5.copy() # if do l6 = l5 then l6 will be reference to l5 and each diferance on l5 will apply on l6\n",
    "l5"
   ]
  },
  {
   "cell_type": "code",
   "execution_count": null,
   "id": "21c3c2a6",
   "metadata": {},
   "outputs": [],
   "source": [
    "del l5[2:-3]\n",
    "l5"
   ]
  },
  {
   "cell_type": "code",
   "execution_count": null,
   "id": "1493a80e",
   "metadata": {},
   "outputs": [],
   "source": [
    "del l5"
   ]
  },
  {
   "cell_type": "code",
   "execution_count": null,
   "id": "a4e13876",
   "metadata": {},
   "outputs": [],
   "source": [
    "l6"
   ]
  },
  {
   "cell_type": "markdown",
   "id": "503511d7",
   "metadata": {},
   "source": [
    "# delete first element equal to specific value"
   ]
  },
  {
   "cell_type": "code",
   "execution_count": null,
   "id": "c726cedf",
   "metadata": {},
   "outputs": [],
   "source": [
    "l6.remove('k')\n",
    "l6"
   ]
  },
  {
   "cell_type": "code",
   "execution_count": null,
   "id": "b0b1e1c6",
   "metadata": {},
   "outputs": [],
   "source": []
  }
 ],
 "metadata": {
  "kernelspec": {
   "display_name": "Python 3",
   "language": "python",
   "name": "python3"
  },
  "language_info": {
   "codemirror_mode": {
    "name": "ipython",
    "version": 3
   },
   "file_extension": ".py",
   "mimetype": "text/x-python",
   "name": "python",
   "nbconvert_exporter": "python",
   "pygments_lexer": "ipython3",
   "version": "3.8.8"
  }
 },
 "nbformat": 4,
 "nbformat_minor": 5
}
