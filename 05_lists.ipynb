{
 "cells": [
  {
   "cell_type": "markdown",
   "id": "d95f42e0",
   "metadata": {},
   "source": [
    "# List is container that contains editable data"
   ]
  },
  {
   "cell_type": "code",
   "execution_count": null,
   "id": "017b7cca",
   "metadata": {},
   "outputs": [],
   "source": [
    "l1 = ['Ahmmed', 'Abduallah', 25, ['Lebanon', 5], 1-5j, True]\n",
    "l1"
   ]
  },
  {
   "cell_type": "code",
   "execution_count": null,
   "id": "d0c813ff",
   "metadata": {},
   "outputs": [],
   "source": [
    "l2 = [['a',10],['b',20]]\n",
    "l2"
   ]
  },
  {
   "cell_type": "code",
   "execution_count": null,
   "id": "3b6547fd",
   "metadata": {},
   "outputs": [],
   "source": [
    "l3 = list('I am Mohammed')\n",
    "l3"
   ]
  },
  {
   "cell_type": "code",
   "execution_count": null,
   "id": "c730314d",
   "metadata": {},
   "outputs": [],
   "source": [
    "'I am Mohammed'.split(sep = ' ')"
   ]
  },
  {
   "cell_type": "code",
   "execution_count": null,
   "id": "1e437596",
   "metadata": {},
   "outputs": [],
   "source": [
    "[a,b,c,d] = 'a'*4\n",
    "a"
   ]
  },
  {
   "cell_type": "code",
   "execution_count": null,
   "id": "45e64f3e",
   "metadata": {},
   "outputs": [],
   "source": [
    "b"
   ]
  },
  {
   "cell_type": "code",
   "execution_count": null,
   "id": "7e762848",
   "metadata": {},
   "outputs": [],
   "source": [
    "l3 = 'aa'*10\n",
    "l3"
   ]
  },
  {
   "cell_type": "code",
   "execution_count": null,
   "id": "b8116b8e",
   "metadata": {},
   "outputs": [],
   "source": [
    "l1[0]"
   ]
  },
  {
   "cell_type": "code",
   "execution_count": null,
   "id": "e9dede88",
   "metadata": {},
   "outputs": [],
   "source": [
    "l1[:3]"
   ]
  },
  {
   "cell_type": "code",
   "execution_count": null,
   "id": "0ff8e2dd",
   "metadata": {},
   "outputs": [],
   "source": [
    "l1[:-2]"
   ]
  },
  {
   "cell_type": "code",
   "execution_count": null,
   "id": "ef5092fa",
   "metadata": {},
   "outputs": [],
   "source": [
    "l1[3][1]"
   ]
  },
  {
   "cell_type": "code",
   "execution_count": null,
   "id": "06a16303",
   "metadata": {},
   "outputs": [],
   "source": [
    "l1[::-1]"
   ]
  },
  {
   "cell_type": "code",
   "execution_count": null,
   "id": "84b3e71e",
   "metadata": {},
   "outputs": [],
   "source": [
    "l4 = [1,2,3,4,5,6,7,8,9]\n",
    "l4"
   ]
  },
  {
   "cell_type": "code",
   "execution_count": null,
   "id": "69d591a9",
   "metadata": {},
   "outputs": [],
   "source": [
    "l4[:3]"
   ]
  },
  {
   "cell_type": "code",
   "execution_count": null,
   "id": "171d449a",
   "metadata": {},
   "outputs": [],
   "source": [
    "l4[:3] = 10,11,12\n",
    "l4"
   ]
  },
  {
   "cell_type": "markdown",
   "id": "6c4c93f3",
   "metadata": {},
   "source": [
    "### To delete elements from list with multi specific places (places > 1)"
   ]
  },
  {
   "cell_type": "code",
   "execution_count": null,
   "id": "aeb76314",
   "metadata": {},
   "outputs": [],
   "source": [
    "l4[:3] = []\n",
    "l4"
   ]
  },
  {
   "cell_type": "markdown",
   "id": "4eb9ff9f",
   "metadata": {},
   "source": [
    "### To delete all elements from list"
   ]
  },
  {
   "cell_type": "code",
   "execution_count": null,
   "id": "8f61c8f4",
   "metadata": {},
   "outputs": [],
   "source": [
    "l4 = []\n",
    "l4"
   ]
  },
  {
   "cell_type": "markdown",
   "id": "8b173ac5",
   "metadata": {},
   "source": [
    "# del"
   ]
  },
  {
   "cell_type": "code",
   "execution_count": null,
   "id": "5a3a88e8",
   "metadata": {},
   "outputs": [],
   "source": [
    "l5 = ['a', 'b', 'c', 'd', 'e', 'f', 'g', 'h', 'i', 'i', 'j', 'k', 'k']\n",
    "l6 = l5.copy() # if do l6 = l5 then l6 will be reference to l5 and each diferance on l5 will apply on l6\n",
    "l5"
   ]
  },
  {
   "cell_type": "code",
   "execution_count": null,
   "id": "21c3c2a6",
   "metadata": {},
   "outputs": [],
   "source": [
    "del l5[2:-3]\n",
    "l5"
   ]
  },
  {
   "cell_type": "code",
   "execution_count": null,
   "id": "1493a80e",
   "metadata": {},
   "outputs": [],
   "source": [
    "del l5"
   ]
  },
  {
   "cell_type": "code",
   "execution_count": null,
   "id": "a4e13876",
   "metadata": {},
   "outputs": [],
   "source": [
    "l6"
   ]
  },
  {
   "cell_type": "markdown",
   "id": "503511d7",
   "metadata": {},
   "source": [
    "# delete first element equal to specific value"
   ]
  },
  {
   "cell_type": "code",
   "execution_count": null,
   "id": "c726cedf",
   "metadata": {},
   "outputs": [],
   "source": [
    "l6.remove('k')\n",
    "l6"
   ]
  },
  {
   "cell_type": "markdown",
   "id": "060a1390",
   "metadata": {},
   "source": [
    "# concatination lists"
   ]
  },
  {
   "cell_type": "code",
   "execution_count": null,
   "id": "f2b09d76",
   "metadata": {},
   "outputs": [],
   "source": [
    "l7 = [1,2,3,4]\n",
    "l8 = [5,6,7,8,9,10]\n",
    "l9 = l7 + l8\n",
    "l9"
   ]
  },
  {
   "cell_type": "code",
   "execution_count": null,
   "id": "fdc35966",
   "metadata": {},
   "outputs": [],
   "source": [
    "l7*3"
   ]
  },
  {
   "cell_type": "code",
   "execution_count": null,
   "id": "14397d41",
   "metadata": {},
   "outputs": [],
   "source": [
    "l10 = [['a', 'b']*4]*6\n",
    "l10"
   ]
  },
  {
   "cell_type": "markdown",
   "id": "506e8955",
   "metadata": {},
   "source": [
    "# length of list"
   ]
  },
  {
   "cell_type": "code",
   "execution_count": null,
   "id": "eed3ca62",
   "metadata": {},
   "outputs": [],
   "source": [
    "len(l10)"
   ]
  },
  {
   "cell_type": "code",
   "execution_count": null,
   "id": "08e35360",
   "metadata": {},
   "outputs": [],
   "source": [
    "len(l7)"
   ]
  },
  {
   "cell_type": "markdown",
   "id": "d0115560",
   "metadata": {},
   "source": [
    "# Sum of list"
   ]
  },
  {
   "cell_type": "code",
   "execution_count": null,
   "id": "7a8a0a56",
   "metadata": {},
   "outputs": [],
   "source": [
    "sum(l7)"
   ]
  },
  {
   "cell_type": "code",
   "execution_count": null,
   "id": "9997f172",
   "metadata": {},
   "outputs": [],
   "source": [
    "l11 = [[2]*4]*6\n",
    "l11"
   ]
  },
  {
   "cell_type": "code",
   "execution_count": null,
   "id": "9cb57e78",
   "metadata": {},
   "outputs": [],
   "source": [
    "sum(l11[0])"
   ]
  },
  {
   "cell_type": "code",
   "execution_count": null,
   "id": "83ff4c32",
   "metadata": {},
   "outputs": [],
   "source": [
    "sum([sum(r) for r in l11])"
   ]
  },
  {
   "cell_type": "markdown",
   "id": "6a4dde99",
   "metadata": {},
   "source": [
    "# Max and Min"
   ]
  },
  {
   "cell_type": "code",
   "execution_count": null,
   "id": "943487a8",
   "metadata": {},
   "outputs": [],
   "source": [
    "max(l9)"
   ]
  },
  {
   "cell_type": "code",
   "execution_count": null,
   "id": "2987d3f1",
   "metadata": {},
   "outputs": [],
   "source": [
    "max(l11)"
   ]
  },
  {
   "cell_type": "code",
   "execution_count": null,
   "id": "7ad58461",
   "metadata": {},
   "outputs": [],
   "source": [
    "l12 = [[1,10,5],[10,0,0]]\n",
    "l12"
   ]
  },
  {
   "cell_type": "code",
   "execution_count": null,
   "id": "e8810d7f",
   "metadata": {},
   "outputs": [],
   "source": [
    "max(l12)  # it will take first element if equal then take second element"
   ]
  },
  {
   "cell_type": "code",
   "execution_count": null,
   "id": "189e546d",
   "metadata": {},
   "outputs": [],
   "source": [
    "min(l12)"
   ]
  },
  {
   "cell_type": "code",
   "execution_count": null,
   "id": "4d068a9e",
   "metadata": {},
   "outputs": [],
   "source": [
    "min(l11)"
   ]
  },
  {
   "cell_type": "code",
   "execution_count": null,
   "id": "ee5403c8",
   "metadata": {},
   "outputs": [],
   "source": [
    "min(l9)"
   ]
  },
  {
   "cell_type": "code",
   "execution_count": null,
   "id": "58e702fe",
   "metadata": {},
   "outputs": [],
   "source": [
    "max(l6)"
   ]
  },
  {
   "cell_type": "code",
   "execution_count": null,
   "id": "6766ce36",
   "metadata": {},
   "outputs": [],
   "source": [
    "min(l6)"
   ]
  },
  {
   "cell_type": "code",
   "execution_count": null,
   "id": "e01d321c",
   "metadata": {},
   "outputs": [],
   "source": [
    "l13 = ['x', 'y', 't', 'k', '5', '6']\n",
    "l13"
   ]
  },
  {
   "cell_type": "code",
   "execution_count": null,
   "id": "452008d9",
   "metadata": {},
   "outputs": [],
   "source": [
    "min(l13)"
   ]
  },
  {
   "cell_type": "code",
   "execution_count": null,
   "id": "b77e9e89",
   "metadata": {},
   "outputs": [],
   "source": [
    "max(l13)"
   ]
  },
  {
   "cell_type": "markdown",
   "id": "030a9aee",
   "metadata": {},
   "source": [
    "# Sort list"
   ]
  },
  {
   "cell_type": "code",
   "execution_count": null,
   "id": "46cb32b9",
   "metadata": {},
   "outputs": [],
   "source": [
    "sorted(l13)"
   ]
  },
  {
   "cell_type": "code",
   "execution_count": null,
   "id": "9ce241ad",
   "metadata": {},
   "outputs": [],
   "source": [
    "sorted(l13, reverse=True)"
   ]
  },
  {
   "cell_type": "code",
   "execution_count": null,
   "id": "5ee76459",
   "metadata": {},
   "outputs": [],
   "source": [
    "l13.sort()\n",
    "l13"
   ]
  },
  {
   "cell_type": "code",
   "execution_count": null,
   "id": "06f8ac29",
   "metadata": {},
   "outputs": [],
   "source": [
    "l13.sort(reverse=True)\n",
    "l13"
   ]
  },
  {
   "cell_type": "markdown",
   "id": "72c38009",
   "metadata": {},
   "source": [
    "# Sort with specific rank"
   ]
  },
  {
   "cell_type": "code",
   "execution_count": null,
   "id": "bd2fb6b9",
   "metadata": {},
   "outputs": [],
   "source": [
    "l14 = [['Taha','Abo Loai', 32], \n",
    "       ['Hammad','Abo Zeid', 30], \n",
    "       ['Ahmmed','Abo Azzam', 25], \n",
    "       ['Mohammed','Abo Osama', 27]]\n",
    "l14"
   ]
  },
  {
   "cell_type": "code",
   "execution_count": null,
   "id": "8509c2a3",
   "metadata": {},
   "outputs": [],
   "source": [
    "print(sorted(l14, key = lambda f:f[0] ))"
   ]
  },
  {
   "cell_type": "code",
   "execution_count": null,
   "id": "7617a8a4",
   "metadata": {},
   "outputs": [],
   "source": [
    "print(sorted(l14, key = lambda f:f[1] ))"
   ]
  },
  {
   "cell_type": "code",
   "execution_count": null,
   "id": "88dd5eea",
   "metadata": {},
   "outputs": [],
   "source": [
    "print(sorted(l14, key = lambda f:f[2] ))"
   ]
  },
  {
   "cell_type": "code",
   "execution_count": null,
   "id": "d812cfd4",
   "metadata": {},
   "outputs": [],
   "source": [
    "print(sorted(l14, reverse = True,  key = lambda f:f[0] ))"
   ]
  },
  {
   "cell_type": "code",
   "execution_count": null,
   "id": "a25b788b",
   "metadata": {},
   "outputs": [],
   "source": [
    "cars = [\n",
    "    {\n",
    "        \"model\": \"Ford T\",\n",
    "        \"price\": 2000\n",
    "    },\n",
    "    {\n",
    "        \"model\": \"Ford F150\",\n",
    "        \"price\": 25000\n",
    "    },\n",
    "    {\n",
    "        \"model\": \"Ford Focus\",\n",
    "        \"price\": 12000\n",
    "    },\n",
    "    {\n",
    "        \"model\": \"Ford Focus 2\",\n",
    "        \"price\": None\n",
    "    },\n",
    "]\n",
    "cars"
   ]
  },
  {
   "cell_type": "code",
   "execution_count": null,
   "id": "ec1a983c",
   "metadata": {},
   "outputs": [],
   "source": [
    "print (sorted(cars, key = lambda i: i['model']))"
   ]
  },
  {
   "cell_type": "code",
   "execution_count": null,
   "id": "163180e5",
   "metadata": {
    "scrolled": true
   },
   "outputs": [],
   "source": [
    "print (sorted(cars, key = lambda i: i['price']!= None ))"
   ]
  },
  {
   "cell_type": "markdown",
   "id": "656e88ad",
   "metadata": {},
   "source": [
    "# in"
   ]
  },
  {
   "cell_type": "code",
   "execution_count": null,
   "id": "a8774366",
   "metadata": {},
   "outputs": [],
   "source": [
    "print({\n",
    "        \"model\": \"Ford T\",\n",
    "        \"price\": 2000\n",
    "    } in cars)"
   ]
  },
  {
   "cell_type": "code",
   "execution_count": null,
   "id": "b8020c1b",
   "metadata": {},
   "outputs": [],
   "source": [
    "l15 = [1,2,3,4]\n",
    "l15"
   ]
  },
  {
   "cell_type": "code",
   "execution_count": null,
   "id": "e5d84601",
   "metadata": {},
   "outputs": [],
   "source": [
    "5 in l15"
   ]
  },
  {
   "cell_type": "code",
   "execution_count": null,
   "id": "2e0306fc",
   "metadata": {},
   "outputs": [],
   "source": [
    "2 in l15"
   ]
  },
  {
   "cell_type": "markdown",
   "id": "b4a4040b",
   "metadata": {},
   "source": [
    "# extend"
   ]
  },
  {
   "cell_type": "code",
   "execution_count": null,
   "id": "1c1cfcfb",
   "metadata": {},
   "outputs": [],
   "source": [
    "l16 = ['Ahmmed', 'Abduallah', 'aa', 'bb']\n",
    "l16"
   ]
  },
  {
   "cell_type": "code",
   "execution_count": null,
   "id": "8779402a",
   "metadata": {},
   "outputs": [],
   "source": [
    "l15.extend(l16)\n",
    "l15"
   ]
  },
  {
   "cell_type": "code",
   "execution_count": null,
   "id": "8f603800",
   "metadata": {},
   "outputs": [],
   "source": [
    "l16"
   ]
  },
  {
   "cell_type": "markdown",
   "id": "676700aa",
   "metadata": {},
   "source": [
    "# append"
   ]
  },
  {
   "cell_type": "code",
   "execution_count": null,
   "id": "09468f4b",
   "metadata": {},
   "outputs": [],
   "source": [
    "l17 = [1,2,3,4,5,6]\n",
    "l17"
   ]
  },
  {
   "cell_type": "code",
   "execution_count": null,
   "id": "dc090560",
   "metadata": {},
   "outputs": [],
   "source": [
    "l17.append(20)  # adding to the end of list\n",
    "l17"
   ]
  },
  {
   "cell_type": "markdown",
   "id": "528d6213",
   "metadata": {},
   "source": [
    "# insert"
   ]
  },
  {
   "cell_type": "code",
   "execution_count": null,
   "id": "d0bf0bf9",
   "metadata": {},
   "outputs": [],
   "source": [
    "l17.insert(2, 100)  # adding 100 in index 2 in the list\n",
    "l17"
   ]
  },
  {
   "cell_type": "code",
   "execution_count": null,
   "id": "c897da55",
   "metadata": {},
   "outputs": [],
   "source": [
    "l17.insert(5, 'Mohammed') \n",
    "l17"
   ]
  },
  {
   "cell_type": "code",
   "execution_count": null,
   "id": "d0941665",
   "metadata": {},
   "outputs": [],
   "source": [
    "l17.insert(2, ['True', True]) \n",
    "l17"
   ]
  },
  {
   "cell_type": "markdown",
   "id": "1d50fcc8",
   "metadata": {},
   "source": [
    "# count"
   ]
  },
  {
   "cell_type": "code",
   "execution_count": null,
   "id": "043e4ad7",
   "metadata": {},
   "outputs": [],
   "source": [
    "l18 = [1,5,'Ahmmed', 'Mohammed', True, 5,'Ahmmed']\n",
    "l18"
   ]
  },
  {
   "cell_type": "code",
   "execution_count": null,
   "id": "a50cc0d5",
   "metadata": {},
   "outputs": [],
   "source": [
    "l18.count(2)"
   ]
  },
  {
   "cell_type": "code",
   "execution_count": null,
   "id": "a641e8ce",
   "metadata": {},
   "outputs": [],
   "source": [
    "l18.count('Ahmmed') # 1 and True"
   ]
  },
  {
   "cell_type": "code",
   "execution_count": null,
   "id": "4d31cc76",
   "metadata": {},
   "outputs": [],
   "source": [
    "l18.count(True)"
   ]
  },
  {
   "cell_type": "code",
   "execution_count": null,
   "id": "2d862f79",
   "metadata": {},
   "outputs": [],
   "source": [
    "l19 = [1] # 1 equal to True\n",
    "l19"
   ]
  },
  {
   "cell_type": "code",
   "execution_count": null,
   "id": "20b4d431",
   "metadata": {},
   "outputs": [],
   "source": [
    "l19.count(True)"
   ]
  },
  {
   "cell_type": "code",
   "execution_count": null,
   "id": "732d1313",
   "metadata": {},
   "outputs": [],
   "source": [
    "l20 = [10, 0,1000, \"Taha\", False, 'mm','ff','dd', True, ['aa', 'xx']]\n",
    "l20"
   ]
  },
  {
   "cell_type": "code",
   "execution_count": null,
   "id": "086eda99",
   "metadata": {},
   "outputs": [],
   "source": [
    "l20.count(False) # 0 and False"
   ]
  },
  {
   "cell_type": "markdown",
   "id": "b7e0bb5f",
   "metadata": {},
   "source": [
    "# index "
   ]
  },
  {
   "cell_type": "code",
   "execution_count": null,
   "id": "28123fbc",
   "metadata": {},
   "outputs": [],
   "source": [
    "l20.index('Taha')"
   ]
  },
  {
   "cell_type": "code",
   "execution_count": null,
   "id": "cf187c38",
   "metadata": {},
   "outputs": [],
   "source": [
    "l20.index(False)"
   ]
  },
  {
   "cell_type": "code",
   "execution_count": null,
   "id": "8dc6817d",
   "metadata": {},
   "outputs": [],
   "source": [
    "l20.index(False, 2) # start searching from 2 index to end"
   ]
  },
  {
   "cell_type": "code",
   "execution_count": null,
   "id": "a7464cfa",
   "metadata": {},
   "outputs": [],
   "source": [
    "l20.index(False, 2,7) # start searching from 2 index to 7 index"
   ]
  },
  {
   "cell_type": "markdown",
   "id": "4f7b7c49",
   "metadata": {},
   "source": [
    "# reverse"
   ]
  },
  {
   "cell_type": "code",
   "execution_count": null,
   "id": "b2b957f5",
   "metadata": {},
   "outputs": [],
   "source": [
    "l20.reverse()\n",
    "l20"
   ]
  },
  {
   "cell_type": "markdown",
   "id": "b1edba78",
   "metadata": {},
   "source": [
    "# pop"
   ]
  },
  {
   "cell_type": "code",
   "execution_count": null,
   "id": "570ae1ed",
   "metadata": {},
   "outputs": [],
   "source": [
    "l20[-1]"
   ]
  },
  {
   "cell_type": "code",
   "execution_count": null,
   "id": "a8832078",
   "metadata": {},
   "outputs": [],
   "source": [
    "l20.pop() # remove last element from the list\n",
    "l20"
   ]
  },
  {
   "cell_type": "code",
   "execution_count": null,
   "id": "cd379c87",
   "metadata": {},
   "outputs": [],
   "source": [
    "l20[-1]"
   ]
  },
  {
   "cell_type": "code",
   "execution_count": null,
   "id": "c2bfd5ff",
   "metadata": {},
   "outputs": [],
   "source": [
    "l20[5]"
   ]
  },
  {
   "cell_type": "code",
   "execution_count": null,
   "id": "7a13adba",
   "metadata": {},
   "outputs": [],
   "source": [
    "l20.pop(5) # remove element with index 5 from the list\n",
    "l20"
   ]
  },
  {
   "cell_type": "code",
   "execution_count": null,
   "id": "bac7ee9a",
   "metadata": {},
   "outputs": [],
   "source": [
    "l20[5]"
   ]
  },
  {
   "cell_type": "code",
   "execution_count": null,
   "id": "db3ff114",
   "metadata": {},
   "outputs": [],
   "source": [
    "l20.pop(-2)\n",
    "l20"
   ]
  },
  {
   "cell_type": "markdown",
   "id": "b3d5058a",
   "metadata": {},
   "source": [
    "# range"
   ]
  },
  {
   "cell_type": "code",
   "execution_count": null,
   "id": "0ebbc44d",
   "metadata": {},
   "outputs": [],
   "source": [
    "l21 = range(20)\n",
    "l21"
   ]
  },
  {
   "cell_type": "code",
   "execution_count": null,
   "id": "893270c7",
   "metadata": {},
   "outputs": [],
   "source": [
    "type(l21)"
   ]
  },
  {
   "cell_type": "code",
   "execution_count": null,
   "id": "c40a9d42",
   "metadata": {},
   "outputs": [],
   "source": [
    "l22 = list(range(30))\n",
    "l22"
   ]
  },
  {
   "cell_type": "code",
   "execution_count": null,
   "id": "5c56055d",
   "metadata": {},
   "outputs": [],
   "source": [
    "type(l22)"
   ]
  },
  {
   "cell_type": "code",
   "execution_count": null,
   "id": "17a14b64",
   "metadata": {},
   "outputs": [],
   "source": [
    "l23 = list(range(60,80))\n",
    "l23"
   ]
  },
  {
   "cell_type": "code",
   "execution_count": null,
   "id": "3265c63d",
   "metadata": {},
   "outputs": [],
   "source": [
    "l24 = list(range(200,210,2))\n",
    "l24"
   ]
  },
  {
   "cell_type": "code",
   "execution_count": null,
   "id": "49ae5ad5",
   "metadata": {},
   "outputs": [],
   "source": [
    "l25 = list(range(210,178,-2))\n",
    "l25"
   ]
  },
  {
   "cell_type": "code",
   "execution_count": null,
   "id": "07004f29",
   "metadata": {},
   "outputs": [],
   "source": [
    "l26 = [e**2 for e in range(20)]\n",
    "l26"
   ]
  },
  {
   "cell_type": "code",
   "execution_count": null,
   "id": "2bca3d46",
   "metadata": {},
   "outputs": [],
   "source": [
    "import math"
   ]
  },
  {
   "cell_type": "code",
   "execution_count": null,
   "id": "df1baccb",
   "metadata": {},
   "outputs": [],
   "source": [
    "math.sqrt(289)"
   ]
  },
  {
   "cell_type": "code",
   "execution_count": null,
   "id": "5fab7ed7",
   "metadata": {},
   "outputs": [],
   "source": [
    "l27 = [e**3 for e in range(10)]\n",
    "l27"
   ]
  },
  {
   "cell_type": "markdown",
   "id": "fccf6f4e",
   "metadata": {},
   "source": [
    "# map"
   ]
  },
  {
   "cell_type": "markdown",
   "id": "34f9392f",
   "metadata": {},
   "source": [
    "### map(func, *iterables) --> map object\n",
    "\n",
    "### Make an iterator that computes the function using arguments from\n",
    "### each of the iterables.  Stops when the shortest iterable is exhausted."
   ]
  },
  {
   "cell_type": "code",
   "execution_count": null,
   "id": "27db2043",
   "metadata": {},
   "outputs": [],
   "source": [
    "l28 = list(map(lambda e : e**3, range(10)))\n",
    "l28"
   ]
  },
  {
   "cell_type": "code",
   "execution_count": null,
   "id": "13da4cbe",
   "metadata": {},
   "outputs": [],
   "source": [
    "l29 = [x + 3 - y for x in range(10) for y in range(10) if y > x]\n",
    "l29"
   ]
  },
  {
   "cell_type": "code",
   "execution_count": null,
   "id": "2b536bae",
   "metadata": {},
   "outputs": [],
   "source": [
    "l30 = [[(2**i)*j for i in range(5)] for j in range(6,11)]\n",
    "l30"
   ]
  },
  {
   "cell_type": "code",
   "execution_count": null,
   "id": "531f0708",
   "metadata": {},
   "outputs": [],
   "source": [
    "l31 = [[10 for i in range(10)] for j in range(10)]\n",
    "l31"
   ]
  },
  {
   "cell_type": "markdown",
   "id": "4e73b4c5",
   "metadata": {},
   "source": [
    "# iter"
   ]
  },
  {
   "cell_type": "code",
   "execution_count": null,
   "id": "15150dde",
   "metadata": {},
   "outputs": [],
   "source": [
    "l32 = iter(['Ahmmed', 'Mohammed', 'Hammad', 'Taha'])\n",
    "l32"
   ]
  },
  {
   "cell_type": "code",
   "execution_count": null,
   "id": "cd8ce8fa",
   "metadata": {},
   "outputs": [],
   "source": [
    "next(l32)"
   ]
  },
  {
   "cell_type": "code",
   "execution_count": null,
   "id": "2b89d8f5",
   "metadata": {},
   "outputs": [],
   "source": [
    "next(l32)"
   ]
  },
  {
   "cell_type": "code",
   "execution_count": null,
   "id": "c8b072ef",
   "metadata": {},
   "outputs": [],
   "source": [
    "next(l32)"
   ]
  },
  {
   "cell_type": "code",
   "execution_count": null,
   "id": "feda2592",
   "metadata": {},
   "outputs": [],
   "source": [
    "next(l32)"
   ]
  },
  {
   "cell_type": "code",
   "execution_count": null,
   "id": "7291c281",
   "metadata": {},
   "outputs": [],
   "source": [
    "l32 = iter(['Ahmmed', 'Mohammed', 'Hammad', 'Taha'])\n",
    "for i in range(4):\n",
    "    for j in next(l32):\n",
    "        print(j)\n",
    "    print('\\n')"
   ]
  },
  {
   "cell_type": "markdown",
   "id": "dd5055e9",
   "metadata": {},
   "source": [
    "# enumerate"
   ]
  },
  {
   "cell_type": "code",
   "execution_count": null,
   "id": "f85defbf",
   "metadata": {},
   "outputs": [],
   "source": [
    "l33 = ['Ahmmed', 'Mohammed', 'Hammad', 'Taha']\n",
    "l33"
   ]
  },
  {
   "cell_type": "code",
   "execution_count": null,
   "id": "da56d025",
   "metadata": {},
   "outputs": [],
   "source": [
    "for c, v in enumerate(l33): #enumerate(iterable, start=0)\n",
    "    print(c, v)"
   ]
  },
  {
   "cell_type": "code",
   "execution_count": null,
   "id": "42c8a9b2",
   "metadata": {},
   "outputs": [],
   "source": [
    "for c, v in enumerate(l33, start = 3119): #enumerate(iterable, start=0)\n",
    "    print(c, v)"
   ]
  },
  {
   "cell_type": "markdown",
   "id": "a759c0a2",
   "metadata": {},
   "source": [
    "# zip"
   ]
  },
  {
   "cell_type": "markdown",
   "id": "38ffe064",
   "metadata": {},
   "source": [
    "#### zip(list1, list2, list3,.............)"
   ]
  },
  {
   "cell_type": "code",
   "execution_count": null,
   "id": "76e45787",
   "metadata": {},
   "outputs": [],
   "source": [
    "names = l33.copy()\n",
    "ages = [25, 27, 30,32]\n",
    "print(names)\n",
    "print(ages)"
   ]
  },
  {
   "cell_type": "code",
   "execution_count": null,
   "id": "2ef99538",
   "metadata": {},
   "outputs": [],
   "source": [
    "for name, age in zip(names, ages):\n",
    "    print(name, age)"
   ]
  },
  {
   "cell_type": "code",
   "execution_count": null,
   "id": "fb9063ee",
   "metadata": {},
   "outputs": [],
   "source": [
    "list(zip('abcdefg', range(3), range(4)))"
   ]
  },
  {
   "cell_type": "code",
   "execution_count": null,
   "id": "2bf194ff",
   "metadata": {},
   "outputs": [],
   "source": [
    "degrees = ['prep', 'Bachelor\\'s', 'licensing', 'prep']\n",
    "degrees"
   ]
  },
  {
   "cell_type": "code",
   "execution_count": null,
   "id": "eaa0dfa5",
   "metadata": {},
   "outputs": [],
   "source": [
    "for name, age, degree in zip(names, ages, degrees):\n",
    "    print(name, age, degree)"
   ]
  },
  {
   "cell_type": "markdown",
   "id": "0ad261ca",
   "metadata": {},
   "source": [
    "# itemgetter"
   ]
  },
  {
   "cell_type": "code",
   "execution_count": null,
   "id": "a2232d55",
   "metadata": {},
   "outputs": [],
   "source": [
    "from operator import itemgetter"
   ]
  },
  {
   "cell_type": "code",
   "execution_count": null,
   "id": "62eaa3f0",
   "metadata": {},
   "outputs": [],
   "source": [
    "itemgetter(2)"
   ]
  },
  {
   "cell_type": "code",
   "execution_count": null,
   "id": "3882eb1d",
   "metadata": {},
   "outputs": [],
   "source": [
    "employees = [\n",
    "    ('Ahmmed', 'Ali', 25),\n",
    "    ('Sami', 'Jaqub', 25),\n",
    "    ('Sami', 'Ali', 25),\n",
    "    ('Osama', 'Mohammed', 22),\n",
    "    ('Mona', 'Mohammed', 22),\n",
    "    ('Saeed', 'Moseeb', 40),\n",
    "    ('Taha', 'Abduallah', 32)\n",
    "]\n",
    "employees"
   ]
  },
  {
   "cell_type": "code",
   "execution_count": null,
   "id": "6069898d",
   "metadata": {},
   "outputs": [],
   "source": [
    "sorted(employees, key = itemgetter(2))"
   ]
  },
  {
   "cell_type": "code",
   "execution_count": null,
   "id": "df627536",
   "metadata": {},
   "outputs": [],
   "source": [
    "sorted(employees, key = itemgetter(2,0))"
   ]
  },
  {
   "cell_type": "code",
   "execution_count": null,
   "id": "19cbcf73",
   "metadata": {},
   "outputs": [],
   "source": [
    "sorted(employees, key = itemgetter(2,0,1))"
   ]
  },
  {
   "cell_type": "markdown",
   "id": "ba945b34",
   "metadata": {},
   "source": [
    "# methodcaller"
   ]
  },
  {
   "cell_type": "code",
   "execution_count": null,
   "id": "68471244",
   "metadata": {},
   "outputs": [],
   "source": [
    "from operator import methodcaller"
   ]
  },
  {
   "cell_type": "code",
   "execution_count": null,
   "id": "f30593ee",
   "metadata": {},
   "outputs": [],
   "source": [
    "sorted(names, key = methodcaller('count', 'a'))"
   ]
  }
 ],
 "metadata": {
  "kernelspec": {
   "display_name": "Python 3",
   "language": "python",
   "name": "python3"
  },
  "language_info": {
   "codemirror_mode": {
    "name": "ipython",
    "version": 3
   },
   "file_extension": ".py",
   "mimetype": "text/x-python",
   "name": "python",
   "nbconvert_exporter": "python",
   "pygments_lexer": "ipython3",
   "version": "3.8.8"
  }
 },
 "nbformat": 4,
 "nbformat_minor": 5
}
