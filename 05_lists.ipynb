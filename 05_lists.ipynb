{
 "cells": [
  {
   "cell_type": "markdown",
   "id": "d95f42e0",
   "metadata": {},
   "source": [
    "# List is container that contains editable data"
   ]
  },
  {
   "cell_type": "code",
   "execution_count": 1,
   "id": "017b7cca",
   "metadata": {},
   "outputs": [
    {
     "data": {
      "text/plain": [
       "['Ahmmed', 'Abduallah', 25, ['Lebanon', 5], (1-5j), True]"
      ]
     },
     "execution_count": 1,
     "metadata": {},
     "output_type": "execute_result"
    }
   ],
   "source": [
    "l1 = ['Ahmmed', 'Abduallah', 25, ['Lebanon', 5], 1-5j, True]\n",
    "l1"
   ]
  },
  {
   "cell_type": "code",
   "execution_count": 2,
   "id": "d0c813ff",
   "metadata": {},
   "outputs": [
    {
     "data": {
      "text/plain": [
       "[['a', 10], ['b', 20]]"
      ]
     },
     "execution_count": 2,
     "metadata": {},
     "output_type": "execute_result"
    }
   ],
   "source": [
    "l2 = [['a',10],['b',20]]\n",
    "l2"
   ]
  },
  {
   "cell_type": "code",
   "execution_count": 3,
   "id": "3b6547fd",
   "metadata": {},
   "outputs": [
    {
     "data": {
      "text/plain": [
       "['I', ' ', 'a', 'm', ' ', 'M', 'o', 'h', 'a', 'm', 'm', 'e', 'd']"
      ]
     },
     "execution_count": 3,
     "metadata": {},
     "output_type": "execute_result"
    }
   ],
   "source": [
    "l3 = list('I am Mohammed')\n",
    "l3"
   ]
  },
  {
   "cell_type": "code",
   "execution_count": 4,
   "id": "c730314d",
   "metadata": {},
   "outputs": [
    {
     "data": {
      "text/plain": [
       "['I', 'am', 'Mohammed']"
      ]
     },
     "execution_count": 4,
     "metadata": {},
     "output_type": "execute_result"
    }
   ],
   "source": [
    "'I am Mohammed'.split(sep = ' ')"
   ]
  },
  {
   "cell_type": "code",
   "execution_count": 5,
   "id": "1e437596",
   "metadata": {},
   "outputs": [
    {
     "data": {
      "text/plain": [
       "'a'"
      ]
     },
     "execution_count": 5,
     "metadata": {},
     "output_type": "execute_result"
    }
   ],
   "source": [
    "[a,b,c,d] = 'a'*4\n",
    "a"
   ]
  },
  {
   "cell_type": "code",
   "execution_count": 6,
   "id": "45e64f3e",
   "metadata": {},
   "outputs": [
    {
     "data": {
      "text/plain": [
       "'a'"
      ]
     },
     "execution_count": 6,
     "metadata": {},
     "output_type": "execute_result"
    }
   ],
   "source": [
    "b"
   ]
  },
  {
   "cell_type": "code",
   "execution_count": 7,
   "id": "7e762848",
   "metadata": {},
   "outputs": [
    {
     "data": {
      "text/plain": [
       "'aaaaaaaaaaaaaaaaaaaa'"
      ]
     },
     "execution_count": 7,
     "metadata": {},
     "output_type": "execute_result"
    }
   ],
   "source": [
    "l3 = 'aa'*10\n",
    "l3"
   ]
  },
  {
   "cell_type": "code",
   "execution_count": 8,
   "id": "b8116b8e",
   "metadata": {},
   "outputs": [
    {
     "data": {
      "text/plain": [
       "'Ahmmed'"
      ]
     },
     "execution_count": 8,
     "metadata": {},
     "output_type": "execute_result"
    }
   ],
   "source": [
    "l1[0]"
   ]
  },
  {
   "cell_type": "code",
   "execution_count": 9,
   "id": "e9dede88",
   "metadata": {},
   "outputs": [
    {
     "data": {
      "text/plain": [
       "['Ahmmed', 'Abduallah', 25]"
      ]
     },
     "execution_count": 9,
     "metadata": {},
     "output_type": "execute_result"
    }
   ],
   "source": [
    "l1[:3]"
   ]
  },
  {
   "cell_type": "code",
   "execution_count": 10,
   "id": "0ff8e2dd",
   "metadata": {},
   "outputs": [
    {
     "data": {
      "text/plain": [
       "['Ahmmed', 'Abduallah', 25, ['Lebanon', 5]]"
      ]
     },
     "execution_count": 10,
     "metadata": {},
     "output_type": "execute_result"
    }
   ],
   "source": [
    "l1[:-2]"
   ]
  },
  {
   "cell_type": "code",
   "execution_count": 11,
   "id": "ef5092fa",
   "metadata": {},
   "outputs": [
    {
     "data": {
      "text/plain": [
       "5"
      ]
     },
     "execution_count": 11,
     "metadata": {},
     "output_type": "execute_result"
    }
   ],
   "source": [
    "l1[3][1]"
   ]
  },
  {
   "cell_type": "code",
   "execution_count": 12,
   "id": "06a16303",
   "metadata": {},
   "outputs": [
    {
     "data": {
      "text/plain": [
       "[True, (1-5j), ['Lebanon', 5], 25, 'Abduallah', 'Ahmmed']"
      ]
     },
     "execution_count": 12,
     "metadata": {},
     "output_type": "execute_result"
    }
   ],
   "source": [
    "l1[::-1]"
   ]
  },
  {
   "cell_type": "code",
   "execution_count": 13,
   "id": "84b3e71e",
   "metadata": {},
   "outputs": [
    {
     "data": {
      "text/plain": [
       "[1, 2, 3, 4, 5, 6, 7, 8, 9]"
      ]
     },
     "execution_count": 13,
     "metadata": {},
     "output_type": "execute_result"
    }
   ],
   "source": [
    "l4 = [1,2,3,4,5,6,7,8,9]\n",
    "l4"
   ]
  },
  {
   "cell_type": "code",
   "execution_count": 14,
   "id": "69d591a9",
   "metadata": {},
   "outputs": [
    {
     "data": {
      "text/plain": [
       "[1, 2, 3]"
      ]
     },
     "execution_count": 14,
     "metadata": {},
     "output_type": "execute_result"
    }
   ],
   "source": [
    "l4[:3]"
   ]
  },
  {
   "cell_type": "code",
   "execution_count": 15,
   "id": "171d449a",
   "metadata": {},
   "outputs": [
    {
     "data": {
      "text/plain": [
       "[10, 11, 12, 4, 5, 6, 7, 8, 9]"
      ]
     },
     "execution_count": 15,
     "metadata": {},
     "output_type": "execute_result"
    }
   ],
   "source": [
    "l4[:3] = 10,11,12\n",
    "l4"
   ]
  },
  {
   "cell_type": "markdown",
   "id": "6c4c93f3",
   "metadata": {},
   "source": [
    "### To delete elements from list with multi specific places (places > 1)"
   ]
  },
  {
   "cell_type": "code",
   "execution_count": 16,
   "id": "aeb76314",
   "metadata": {},
   "outputs": [
    {
     "data": {
      "text/plain": [
       "[4, 5, 6, 7, 8, 9]"
      ]
     },
     "execution_count": 16,
     "metadata": {},
     "output_type": "execute_result"
    }
   ],
   "source": [
    "l4[:3] = []\n",
    "l4"
   ]
  },
  {
   "cell_type": "markdown",
   "id": "4eb9ff9f",
   "metadata": {},
   "source": [
    "### To delete all elements from list"
   ]
  },
  {
   "cell_type": "code",
   "execution_count": 17,
   "id": "8f61c8f4",
   "metadata": {},
   "outputs": [
    {
     "data": {
      "text/plain": [
       "[]"
      ]
     },
     "execution_count": 17,
     "metadata": {},
     "output_type": "execute_result"
    }
   ],
   "source": [
    "l4 = []\n",
    "l4"
   ]
  },
  {
   "cell_type": "markdown",
   "id": "8b173ac5",
   "metadata": {},
   "source": [
    "# del"
   ]
  },
  {
   "cell_type": "code",
   "execution_count": 18,
   "id": "5a3a88e8",
   "metadata": {},
   "outputs": [
    {
     "data": {
      "text/plain": [
       "['a', 'b', 'c', 'd', 'e', 'f', 'g', 'h', 'i', 'i', 'j', 'k', 'k']"
      ]
     },
     "execution_count": 18,
     "metadata": {},
     "output_type": "execute_result"
    }
   ],
   "source": [
    "l5 = ['a', 'b', 'c', 'd', 'e', 'f', 'g', 'h', 'i', 'i', 'j', 'k', 'k']\n",
    "l6 = l5.copy() # if do l6 = l5 then l6 will be reference to l5 and each diferance on l5 will apply on l6\n",
    "l5"
   ]
  },
  {
   "cell_type": "code",
   "execution_count": 19,
   "id": "21c3c2a6",
   "metadata": {},
   "outputs": [
    {
     "data": {
      "text/plain": [
       "['a', 'b', 'j', 'k', 'k']"
      ]
     },
     "execution_count": 19,
     "metadata": {},
     "output_type": "execute_result"
    }
   ],
   "source": [
    "del l5[2:-3]\n",
    "l5"
   ]
  },
  {
   "cell_type": "code",
   "execution_count": 20,
   "id": "1493a80e",
   "metadata": {},
   "outputs": [],
   "source": [
    "del l5"
   ]
  },
  {
   "cell_type": "code",
   "execution_count": 21,
   "id": "a4e13876",
   "metadata": {},
   "outputs": [
    {
     "data": {
      "text/plain": [
       "['a', 'b', 'c', 'd', 'e', 'f', 'g', 'h', 'i', 'i', 'j', 'k', 'k']"
      ]
     },
     "execution_count": 21,
     "metadata": {},
     "output_type": "execute_result"
    }
   ],
   "source": [
    "l6"
   ]
  },
  {
   "cell_type": "markdown",
   "id": "503511d7",
   "metadata": {},
   "source": [
    "# delete first element equal to specific value"
   ]
  },
  {
   "cell_type": "code",
   "execution_count": 22,
   "id": "c726cedf",
   "metadata": {},
   "outputs": [
    {
     "data": {
      "text/plain": [
       "['a', 'b', 'c', 'd', 'e', 'f', 'g', 'h', 'i', 'i', 'j', 'k']"
      ]
     },
     "execution_count": 22,
     "metadata": {},
     "output_type": "execute_result"
    }
   ],
   "source": [
    "l6.remove('k')\n",
    "l6"
   ]
  },
  {
   "cell_type": "markdown",
   "id": "060a1390",
   "metadata": {},
   "source": [
    "# concatination lists"
   ]
  },
  {
   "cell_type": "code",
   "execution_count": 23,
   "id": "f2b09d76",
   "metadata": {},
   "outputs": [
    {
     "data": {
      "text/plain": [
       "[1, 2, 3, 4, 5, 6, 7, 8, 9, 10]"
      ]
     },
     "execution_count": 23,
     "metadata": {},
     "output_type": "execute_result"
    }
   ],
   "source": [
    "l7 = [1,2,3,4]\n",
    "l8 = [5,6,7,8,9,10]\n",
    "l9 = l7 + l8\n",
    "l9"
   ]
  },
  {
   "cell_type": "code",
   "execution_count": 24,
   "id": "fdc35966",
   "metadata": {},
   "outputs": [
    {
     "data": {
      "text/plain": [
       "[1, 2, 3, 4, 1, 2, 3, 4, 1, 2, 3, 4]"
      ]
     },
     "execution_count": 24,
     "metadata": {},
     "output_type": "execute_result"
    }
   ],
   "source": [
    "l7*3"
   ]
  },
  {
   "cell_type": "code",
   "execution_count": 25,
   "id": "14397d41",
   "metadata": {},
   "outputs": [
    {
     "data": {
      "text/plain": [
       "[['a', 'b', 'a', 'b', 'a', 'b', 'a', 'b'],\n",
       " ['a', 'b', 'a', 'b', 'a', 'b', 'a', 'b'],\n",
       " ['a', 'b', 'a', 'b', 'a', 'b', 'a', 'b'],\n",
       " ['a', 'b', 'a', 'b', 'a', 'b', 'a', 'b'],\n",
       " ['a', 'b', 'a', 'b', 'a', 'b', 'a', 'b'],\n",
       " ['a', 'b', 'a', 'b', 'a', 'b', 'a', 'b']]"
      ]
     },
     "execution_count": 25,
     "metadata": {},
     "output_type": "execute_result"
    }
   ],
   "source": [
    "l10 = [['a', 'b']*4]*6\n",
    "l10"
   ]
  },
  {
   "cell_type": "markdown",
   "id": "506e8955",
   "metadata": {},
   "source": [
    "# length of list"
   ]
  },
  {
   "cell_type": "code",
   "execution_count": 26,
   "id": "eed3ca62",
   "metadata": {},
   "outputs": [
    {
     "data": {
      "text/plain": [
       "6"
      ]
     },
     "execution_count": 26,
     "metadata": {},
     "output_type": "execute_result"
    }
   ],
   "source": [
    "len(l10)"
   ]
  },
  {
   "cell_type": "code",
   "execution_count": 27,
   "id": "08e35360",
   "metadata": {},
   "outputs": [
    {
     "data": {
      "text/plain": [
       "4"
      ]
     },
     "execution_count": 27,
     "metadata": {},
     "output_type": "execute_result"
    }
   ],
   "source": [
    "len(l7)"
   ]
  },
  {
   "cell_type": "markdown",
   "id": "d0115560",
   "metadata": {},
   "source": [
    "# Sum of list"
   ]
  },
  {
   "cell_type": "code",
   "execution_count": 28,
   "id": "7a8a0a56",
   "metadata": {},
   "outputs": [
    {
     "data": {
      "text/plain": [
       "10"
      ]
     },
     "execution_count": 28,
     "metadata": {},
     "output_type": "execute_result"
    }
   ],
   "source": [
    "sum(l7)"
   ]
  },
  {
   "cell_type": "code",
   "execution_count": 29,
   "id": "9997f172",
   "metadata": {},
   "outputs": [
    {
     "data": {
      "text/plain": [
       "[[2, 2, 2, 2],\n",
       " [2, 2, 2, 2],\n",
       " [2, 2, 2, 2],\n",
       " [2, 2, 2, 2],\n",
       " [2, 2, 2, 2],\n",
       " [2, 2, 2, 2]]"
      ]
     },
     "execution_count": 29,
     "metadata": {},
     "output_type": "execute_result"
    }
   ],
   "source": [
    "l11 = [[2]*4]*6\n",
    "l11"
   ]
  },
  {
   "cell_type": "code",
   "execution_count": 30,
   "id": "9cb57e78",
   "metadata": {},
   "outputs": [
    {
     "data": {
      "text/plain": [
       "8"
      ]
     },
     "execution_count": 30,
     "metadata": {},
     "output_type": "execute_result"
    }
   ],
   "source": [
    "sum(l11[0])"
   ]
  },
  {
   "cell_type": "code",
   "execution_count": 31,
   "id": "83ff4c32",
   "metadata": {},
   "outputs": [
    {
     "data": {
      "text/plain": [
       "48"
      ]
     },
     "execution_count": 31,
     "metadata": {},
     "output_type": "execute_result"
    }
   ],
   "source": [
    "sum([sum(r) for r in l11])"
   ]
  },
  {
   "cell_type": "markdown",
   "id": "6a4dde99",
   "metadata": {},
   "source": [
    "# Max and Min"
   ]
  },
  {
   "cell_type": "code",
   "execution_count": 32,
   "id": "943487a8",
   "metadata": {},
   "outputs": [
    {
     "data": {
      "text/plain": [
       "10"
      ]
     },
     "execution_count": 32,
     "metadata": {},
     "output_type": "execute_result"
    }
   ],
   "source": [
    "max(l9)"
   ]
  },
  {
   "cell_type": "code",
   "execution_count": 33,
   "id": "2987d3f1",
   "metadata": {},
   "outputs": [
    {
     "data": {
      "text/plain": [
       "[2, 2, 2, 2]"
      ]
     },
     "execution_count": 33,
     "metadata": {},
     "output_type": "execute_result"
    }
   ],
   "source": [
    "max(l11)"
   ]
  },
  {
   "cell_type": "code",
   "execution_count": 34,
   "id": "7ad58461",
   "metadata": {},
   "outputs": [
    {
     "data": {
      "text/plain": [
       "[[1, 10, 5], [10, 0, 0]]"
      ]
     },
     "execution_count": 34,
     "metadata": {},
     "output_type": "execute_result"
    }
   ],
   "source": [
    "l12 = [[1,10,5],[10,0,0]]\n",
    "l12"
   ]
  },
  {
   "cell_type": "code",
   "execution_count": 35,
   "id": "e8810d7f",
   "metadata": {},
   "outputs": [
    {
     "data": {
      "text/plain": [
       "[10, 0, 0]"
      ]
     },
     "execution_count": 35,
     "metadata": {},
     "output_type": "execute_result"
    }
   ],
   "source": [
    "max(l12)  # it will take first element if equal then take second element"
   ]
  },
  {
   "cell_type": "code",
   "execution_count": 36,
   "id": "189e546d",
   "metadata": {},
   "outputs": [
    {
     "data": {
      "text/plain": [
       "[1, 10, 5]"
      ]
     },
     "execution_count": 36,
     "metadata": {},
     "output_type": "execute_result"
    }
   ],
   "source": [
    "min(l12)"
   ]
  },
  {
   "cell_type": "code",
   "execution_count": 37,
   "id": "4d068a9e",
   "metadata": {},
   "outputs": [
    {
     "data": {
      "text/plain": [
       "[2, 2, 2, 2]"
      ]
     },
     "execution_count": 37,
     "metadata": {},
     "output_type": "execute_result"
    }
   ],
   "source": [
    "min(l11)"
   ]
  },
  {
   "cell_type": "code",
   "execution_count": 38,
   "id": "ee5403c8",
   "metadata": {},
   "outputs": [
    {
     "data": {
      "text/plain": [
       "1"
      ]
     },
     "execution_count": 38,
     "metadata": {},
     "output_type": "execute_result"
    }
   ],
   "source": [
    "min(l9)"
   ]
  },
  {
   "cell_type": "code",
   "execution_count": 39,
   "id": "58e702fe",
   "metadata": {},
   "outputs": [
    {
     "data": {
      "text/plain": [
       "'k'"
      ]
     },
     "execution_count": 39,
     "metadata": {},
     "output_type": "execute_result"
    }
   ],
   "source": [
    "max(l6)"
   ]
  },
  {
   "cell_type": "code",
   "execution_count": 40,
   "id": "6766ce36",
   "metadata": {},
   "outputs": [
    {
     "data": {
      "text/plain": [
       "'a'"
      ]
     },
     "execution_count": 40,
     "metadata": {},
     "output_type": "execute_result"
    }
   ],
   "source": [
    "min(l6)"
   ]
  },
  {
   "cell_type": "code",
   "execution_count": 41,
   "id": "e01d321c",
   "metadata": {},
   "outputs": [
    {
     "data": {
      "text/plain": [
       "['x', 'y', 't', 'k', '5', '6']"
      ]
     },
     "execution_count": 41,
     "metadata": {},
     "output_type": "execute_result"
    }
   ],
   "source": [
    "l13 = ['x', 'y', 't', 'k', '5', '6']\n",
    "l13"
   ]
  },
  {
   "cell_type": "code",
   "execution_count": 42,
   "id": "452008d9",
   "metadata": {},
   "outputs": [
    {
     "data": {
      "text/plain": [
       "'5'"
      ]
     },
     "execution_count": 42,
     "metadata": {},
     "output_type": "execute_result"
    }
   ],
   "source": [
    "min(l13)"
   ]
  },
  {
   "cell_type": "code",
   "execution_count": 43,
   "id": "b77e9e89",
   "metadata": {},
   "outputs": [
    {
     "data": {
      "text/plain": [
       "'y'"
      ]
     },
     "execution_count": 43,
     "metadata": {},
     "output_type": "execute_result"
    }
   ],
   "source": [
    "max(l13)"
   ]
  },
  {
   "cell_type": "markdown",
   "id": "030a9aee",
   "metadata": {},
   "source": [
    "# Sort list"
   ]
  },
  {
   "cell_type": "code",
   "execution_count": 44,
   "id": "46cb32b9",
   "metadata": {},
   "outputs": [
    {
     "data": {
      "text/plain": [
       "['5', '6', 'k', 't', 'x', 'y']"
      ]
     },
     "execution_count": 44,
     "metadata": {},
     "output_type": "execute_result"
    }
   ],
   "source": [
    "sorted(l13)"
   ]
  },
  {
   "cell_type": "code",
   "execution_count": 45,
   "id": "9ce241ad",
   "metadata": {},
   "outputs": [
    {
     "data": {
      "text/plain": [
       "['y', 'x', 't', 'k', '6', '5']"
      ]
     },
     "execution_count": 45,
     "metadata": {},
     "output_type": "execute_result"
    }
   ],
   "source": [
    "sorted(l13, reverse=True)"
   ]
  },
  {
   "cell_type": "code",
   "execution_count": 46,
   "id": "5ee76459",
   "metadata": {},
   "outputs": [
    {
     "data": {
      "text/plain": [
       "['5', '6', 'k', 't', 'x', 'y']"
      ]
     },
     "execution_count": 46,
     "metadata": {},
     "output_type": "execute_result"
    }
   ],
   "source": [
    "l13.sort()\n",
    "l13"
   ]
  },
  {
   "cell_type": "code",
   "execution_count": 47,
   "id": "06f8ac29",
   "metadata": {},
   "outputs": [
    {
     "data": {
      "text/plain": [
       "['y', 'x', 't', 'k', '6', '5']"
      ]
     },
     "execution_count": 47,
     "metadata": {},
     "output_type": "execute_result"
    }
   ],
   "source": [
    "l13.sort(reverse=True)\n",
    "l13"
   ]
  },
  {
   "cell_type": "markdown",
   "id": "72c38009",
   "metadata": {},
   "source": [
    "# Sort with specific rank"
   ]
  },
  {
   "cell_type": "code",
   "execution_count": 48,
   "id": "bd2fb6b9",
   "metadata": {},
   "outputs": [
    {
     "data": {
      "text/plain": [
       "[['Taha', 'Abo Loai', 32],\n",
       " ['Hammad', 'Abo Zeid', 30],\n",
       " ['Ahmmed', 'Abo Azzam', 25],\n",
       " ['Mohammed', 'Abo Osama', 27]]"
      ]
     },
     "execution_count": 48,
     "metadata": {},
     "output_type": "execute_result"
    }
   ],
   "source": [
    "l14 = [['Taha','Abo Loai', 32], \n",
    "       ['Hammad','Abo Zeid', 30], \n",
    "       ['Ahmmed','Abo Azzam', 25], \n",
    "       ['Mohammed','Abo Osama', 27]]\n",
    "l14"
   ]
  },
  {
   "cell_type": "code",
   "execution_count": 49,
   "id": "8509c2a3",
   "metadata": {},
   "outputs": [
    {
     "name": "stdout",
     "output_type": "stream",
     "text": [
      "[['Ahmmed', 'Abo Azzam', 25], ['Hammad', 'Abo Zeid', 30], ['Mohammed', 'Abo Osama', 27], ['Taha', 'Abo Loai', 32]]\n"
     ]
    }
   ],
   "source": [
    "print(sorted(l14, key = lambda f:f[0] ))"
   ]
  },
  {
   "cell_type": "code",
   "execution_count": 50,
   "id": "7617a8a4",
   "metadata": {},
   "outputs": [
    {
     "name": "stdout",
     "output_type": "stream",
     "text": [
      "[['Ahmmed', 'Abo Azzam', 25], ['Taha', 'Abo Loai', 32], ['Mohammed', 'Abo Osama', 27], ['Hammad', 'Abo Zeid', 30]]\n"
     ]
    }
   ],
   "source": [
    "print(sorted(l14, key = lambda f:f[1] ))"
   ]
  },
  {
   "cell_type": "code",
   "execution_count": 51,
   "id": "88dd5eea",
   "metadata": {},
   "outputs": [
    {
     "name": "stdout",
     "output_type": "stream",
     "text": [
      "[['Ahmmed', 'Abo Azzam', 25], ['Mohammed', 'Abo Osama', 27], ['Hammad', 'Abo Zeid', 30], ['Taha', 'Abo Loai', 32]]\n"
     ]
    }
   ],
   "source": [
    "print(sorted(l14, key = lambda f:f[2] ))"
   ]
  },
  {
   "cell_type": "code",
   "execution_count": 52,
   "id": "d812cfd4",
   "metadata": {},
   "outputs": [
    {
     "name": "stdout",
     "output_type": "stream",
     "text": [
      "[['Taha', 'Abo Loai', 32], ['Mohammed', 'Abo Osama', 27], ['Hammad', 'Abo Zeid', 30], ['Ahmmed', 'Abo Azzam', 25]]\n"
     ]
    }
   ],
   "source": [
    "print(sorted(l14, reverse = True,  key = lambda f:f[0] ))"
   ]
  },
  {
   "cell_type": "code",
   "execution_count": 53,
   "id": "a25b788b",
   "metadata": {},
   "outputs": [
    {
     "data": {
      "text/plain": [
       "[{'model': 'Ford T', 'price': 2000},\n",
       " {'model': 'Ford F150', 'price': 25000},\n",
       " {'model': 'Ford Focus', 'price': 12000},\n",
       " {'model': 'Ford Focus 2', 'price': None}]"
      ]
     },
     "execution_count": 53,
     "metadata": {},
     "output_type": "execute_result"
    }
   ],
   "source": [
    "cars = [\n",
    "    {\n",
    "        \"model\": \"Ford T\",\n",
    "        \"price\": 2000\n",
    "    },\n",
    "    {\n",
    "        \"model\": \"Ford F150\",\n",
    "        \"price\": 25000\n",
    "    },\n",
    "    {\n",
    "        \"model\": \"Ford Focus\",\n",
    "        \"price\": 12000\n",
    "    },\n",
    "    {\n",
    "        \"model\": \"Ford Focus 2\",\n",
    "        \"price\": None\n",
    "    },\n",
    "]\n",
    "cars"
   ]
  },
  {
   "cell_type": "code",
   "execution_count": 54,
   "id": "ec1a983c",
   "metadata": {},
   "outputs": [
    {
     "name": "stdout",
     "output_type": "stream",
     "text": [
      "[{'model': 'Ford F150', 'price': 25000}, {'model': 'Ford Focus', 'price': 12000}, {'model': 'Ford Focus 2', 'price': None}, {'model': 'Ford T', 'price': 2000}]\n"
     ]
    }
   ],
   "source": [
    "print (sorted(cars, key = lambda i: i['model']))"
   ]
  },
  {
   "cell_type": "code",
   "execution_count": 55,
   "id": "163180e5",
   "metadata": {
    "scrolled": true
   },
   "outputs": [
    {
     "name": "stdout",
     "output_type": "stream",
     "text": [
      "[{'model': 'Ford Focus 2', 'price': None}, {'model': 'Ford T', 'price': 2000}, {'model': 'Ford F150', 'price': 25000}, {'model': 'Ford Focus', 'price': 12000}]\n"
     ]
    }
   ],
   "source": [
    "print (sorted(cars, key = lambda i: i['price']!= None ))"
   ]
  },
  {
   "cell_type": "markdown",
   "id": "656e88ad",
   "metadata": {},
   "source": [
    "# in"
   ]
  },
  {
   "cell_type": "code",
   "execution_count": 56,
   "id": "a8774366",
   "metadata": {},
   "outputs": [
    {
     "name": "stdout",
     "output_type": "stream",
     "text": [
      "True\n"
     ]
    }
   ],
   "source": [
    "print({\n",
    "        \"model\": \"Ford T\",\n",
    "        \"price\": 2000\n",
    "    } in cars)"
   ]
  },
  {
   "cell_type": "code",
   "execution_count": 57,
   "id": "b8020c1b",
   "metadata": {},
   "outputs": [
    {
     "data": {
      "text/plain": [
       "[1, 2, 3, 4]"
      ]
     },
     "execution_count": 57,
     "metadata": {},
     "output_type": "execute_result"
    }
   ],
   "source": [
    "l15 = [1,2,3,4]\n",
    "l15"
   ]
  },
  {
   "cell_type": "code",
   "execution_count": 58,
   "id": "e5d84601",
   "metadata": {},
   "outputs": [
    {
     "data": {
      "text/plain": [
       "False"
      ]
     },
     "execution_count": 58,
     "metadata": {},
     "output_type": "execute_result"
    }
   ],
   "source": [
    "5 in l15"
   ]
  },
  {
   "cell_type": "code",
   "execution_count": 59,
   "id": "2e0306fc",
   "metadata": {},
   "outputs": [
    {
     "data": {
      "text/plain": [
       "True"
      ]
     },
     "execution_count": 59,
     "metadata": {},
     "output_type": "execute_result"
    }
   ],
   "source": [
    "2 in l15"
   ]
  },
  {
   "cell_type": "markdown",
   "id": "b4a4040b",
   "metadata": {},
   "source": [
    "# extend"
   ]
  },
  {
   "cell_type": "code",
   "execution_count": 60,
   "id": "1c1cfcfb",
   "metadata": {},
   "outputs": [
    {
     "data": {
      "text/plain": [
       "['Ahmmed', 'Abduallah', 'aa', 'bb']"
      ]
     },
     "execution_count": 60,
     "metadata": {},
     "output_type": "execute_result"
    }
   ],
   "source": [
    "l16 = ['Ahmmed', 'Abduallah', 'aa', 'bb']\n",
    "l16"
   ]
  },
  {
   "cell_type": "code",
   "execution_count": 61,
   "id": "8779402a",
   "metadata": {},
   "outputs": [
    {
     "data": {
      "text/plain": [
       "[1, 2, 3, 4, 'Ahmmed', 'Abduallah', 'aa', 'bb']"
      ]
     },
     "execution_count": 61,
     "metadata": {},
     "output_type": "execute_result"
    }
   ],
   "source": [
    "l15.extend(l16)\n",
    "l15"
   ]
  },
  {
   "cell_type": "code",
   "execution_count": 62,
   "id": "8f603800",
   "metadata": {},
   "outputs": [
    {
     "data": {
      "text/plain": [
       "['Ahmmed', 'Abduallah', 'aa', 'bb']"
      ]
     },
     "execution_count": 62,
     "metadata": {},
     "output_type": "execute_result"
    }
   ],
   "source": [
    "l16"
   ]
  },
  {
   "cell_type": "markdown",
   "id": "676700aa",
   "metadata": {},
   "source": [
    "# append"
   ]
  },
  {
   "cell_type": "code",
   "execution_count": 63,
   "id": "09468f4b",
   "metadata": {},
   "outputs": [
    {
     "data": {
      "text/plain": [
       "[1, 2, 3, 4, 5, 6]"
      ]
     },
     "execution_count": 63,
     "metadata": {},
     "output_type": "execute_result"
    }
   ],
   "source": [
    "l17 = [1,2,3,4,5,6]\n",
    "l17"
   ]
  },
  {
   "cell_type": "code",
   "execution_count": 64,
   "id": "dc090560",
   "metadata": {},
   "outputs": [
    {
     "data": {
      "text/plain": [
       "[1, 2, 3, 4, 5, 6, 20]"
      ]
     },
     "execution_count": 64,
     "metadata": {},
     "output_type": "execute_result"
    }
   ],
   "source": [
    "l17.append(20)  # adding to the end of list\n",
    "l17"
   ]
  },
  {
   "cell_type": "markdown",
   "id": "528d6213",
   "metadata": {},
   "source": [
    "# insert"
   ]
  },
  {
   "cell_type": "code",
   "execution_count": 65,
   "id": "d0bf0bf9",
   "metadata": {},
   "outputs": [
    {
     "data": {
      "text/plain": [
       "[1, 2, 100, 3, 4, 5, 6, 20]"
      ]
     },
     "execution_count": 65,
     "metadata": {},
     "output_type": "execute_result"
    }
   ],
   "source": [
    "l17.insert(2, 100)  # adding 100 in index 2 in the list\n",
    "l17"
   ]
  },
  {
   "cell_type": "code",
   "execution_count": 66,
   "id": "c897da55",
   "metadata": {},
   "outputs": [
    {
     "data": {
      "text/plain": [
       "[1, 2, 100, 3, 4, 'Mohammed', 5, 6, 20]"
      ]
     },
     "execution_count": 66,
     "metadata": {},
     "output_type": "execute_result"
    }
   ],
   "source": [
    "l17.insert(5, 'Mohammed') \n",
    "l17"
   ]
  },
  {
   "cell_type": "code",
   "execution_count": 67,
   "id": "d0941665",
   "metadata": {},
   "outputs": [
    {
     "data": {
      "text/plain": [
       "[1, 2, ['True', True], 100, 3, 4, 'Mohammed', 5, 6, 20]"
      ]
     },
     "execution_count": 67,
     "metadata": {},
     "output_type": "execute_result"
    }
   ],
   "source": [
    "l17.insert(2, ['True', True]) \n",
    "l17"
   ]
  },
  {
   "cell_type": "markdown",
   "id": "1d50fcc8",
   "metadata": {},
   "source": [
    "# count"
   ]
  },
  {
   "cell_type": "code",
   "execution_count": 68,
   "id": "043e4ad7",
   "metadata": {},
   "outputs": [
    {
     "data": {
      "text/plain": [
       "[1, 5, 'Ahmmed', 'Mohammed', True, 5, 'Ahmmed']"
      ]
     },
     "execution_count": 68,
     "metadata": {},
     "output_type": "execute_result"
    }
   ],
   "source": [
    "l18 = [1,5,'Ahmmed', 'Mohammed', True, 5,'Ahmmed']\n",
    "l18"
   ]
  },
  {
   "cell_type": "code",
   "execution_count": 69,
   "id": "a50cc0d5",
   "metadata": {},
   "outputs": [
    {
     "data": {
      "text/plain": [
       "0"
      ]
     },
     "execution_count": 69,
     "metadata": {},
     "output_type": "execute_result"
    }
   ],
   "source": [
    "l18.count(2)"
   ]
  },
  {
   "cell_type": "code",
   "execution_count": 70,
   "id": "a641e8ce",
   "metadata": {},
   "outputs": [
    {
     "data": {
      "text/plain": [
       "2"
      ]
     },
     "execution_count": 70,
     "metadata": {},
     "output_type": "execute_result"
    }
   ],
   "source": [
    "l18.count('Ahmmed') # 1 and True"
   ]
  },
  {
   "cell_type": "code",
   "execution_count": 71,
   "id": "4d31cc76",
   "metadata": {},
   "outputs": [
    {
     "data": {
      "text/plain": [
       "2"
      ]
     },
     "execution_count": 71,
     "metadata": {},
     "output_type": "execute_result"
    }
   ],
   "source": [
    "l18.count(True)"
   ]
  },
  {
   "cell_type": "code",
   "execution_count": 72,
   "id": "2d862f79",
   "metadata": {},
   "outputs": [
    {
     "data": {
      "text/plain": [
       "[1]"
      ]
     },
     "execution_count": 72,
     "metadata": {},
     "output_type": "execute_result"
    }
   ],
   "source": [
    "l19 = [1] # 1 equal to True\n",
    "l19"
   ]
  },
  {
   "cell_type": "code",
   "execution_count": 73,
   "id": "20b4d431",
   "metadata": {},
   "outputs": [
    {
     "data": {
      "text/plain": [
       "1"
      ]
     },
     "execution_count": 73,
     "metadata": {},
     "output_type": "execute_result"
    }
   ],
   "source": [
    "l19.count(True)"
   ]
  },
  {
   "cell_type": "code",
   "execution_count": 74,
   "id": "732d1313",
   "metadata": {},
   "outputs": [
    {
     "data": {
      "text/plain": [
       "[10, 0, 1000, 'Taha', False, 'mm', 'ff', 'dd', True, ['aa', 'xx']]"
      ]
     },
     "execution_count": 74,
     "metadata": {},
     "output_type": "execute_result"
    }
   ],
   "source": [
    "l20 = [10, 0,1000, \"Taha\", False, 'mm','ff','dd', True, ['aa', 'xx']]\n",
    "l20"
   ]
  },
  {
   "cell_type": "code",
   "execution_count": 75,
   "id": "086eda99",
   "metadata": {},
   "outputs": [
    {
     "data": {
      "text/plain": [
       "2"
      ]
     },
     "execution_count": 75,
     "metadata": {},
     "output_type": "execute_result"
    }
   ],
   "source": [
    "l20.count(False) # 0 and False"
   ]
  },
  {
   "cell_type": "markdown",
   "id": "b7e0bb5f",
   "metadata": {},
   "source": [
    "# index "
   ]
  },
  {
   "cell_type": "code",
   "execution_count": 76,
   "id": "28123fbc",
   "metadata": {},
   "outputs": [
    {
     "data": {
      "text/plain": [
       "3"
      ]
     },
     "execution_count": 76,
     "metadata": {},
     "output_type": "execute_result"
    }
   ],
   "source": [
    "l20.index('Taha')"
   ]
  },
  {
   "cell_type": "code",
   "execution_count": 77,
   "id": "cf187c38",
   "metadata": {},
   "outputs": [
    {
     "data": {
      "text/plain": [
       "1"
      ]
     },
     "execution_count": 77,
     "metadata": {},
     "output_type": "execute_result"
    }
   ],
   "source": [
    "l20.index(False)"
   ]
  },
  {
   "cell_type": "code",
   "execution_count": 78,
   "id": "8dc6817d",
   "metadata": {},
   "outputs": [
    {
     "data": {
      "text/plain": [
       "4"
      ]
     },
     "execution_count": 78,
     "metadata": {},
     "output_type": "execute_result"
    }
   ],
   "source": [
    "l20.index(False, 2) # start searching from 2 index to end"
   ]
  },
  {
   "cell_type": "code",
   "execution_count": 79,
   "id": "a7464cfa",
   "metadata": {},
   "outputs": [
    {
     "data": {
      "text/plain": [
       "4"
      ]
     },
     "execution_count": 79,
     "metadata": {},
     "output_type": "execute_result"
    }
   ],
   "source": [
    "l20.index(False, 2,7) # start searching from 2 index to 7 index"
   ]
  },
  {
   "cell_type": "markdown",
   "id": "4f7b7c49",
   "metadata": {},
   "source": [
    "# reverse"
   ]
  },
  {
   "cell_type": "code",
   "execution_count": 80,
   "id": "b2b957f5",
   "metadata": {},
   "outputs": [
    {
     "data": {
      "text/plain": [
       "[['aa', 'xx'], True, 'dd', 'ff', 'mm', False, 'Taha', 1000, 0, 10]"
      ]
     },
     "execution_count": 80,
     "metadata": {},
     "output_type": "execute_result"
    }
   ],
   "source": [
    "l20.reverse()\n",
    "l20"
   ]
  },
  {
   "cell_type": "markdown",
   "id": "b1edba78",
   "metadata": {},
   "source": [
    "# pop"
   ]
  },
  {
   "cell_type": "code",
   "execution_count": 81,
   "id": "570ae1ed",
   "metadata": {},
   "outputs": [
    {
     "data": {
      "text/plain": [
       "10"
      ]
     },
     "execution_count": 81,
     "metadata": {},
     "output_type": "execute_result"
    }
   ],
   "source": [
    "l20[-1]"
   ]
  },
  {
   "cell_type": "code",
   "execution_count": 82,
   "id": "a8832078",
   "metadata": {},
   "outputs": [
    {
     "data": {
      "text/plain": [
       "[['aa', 'xx'], True, 'dd', 'ff', 'mm', False, 'Taha', 1000, 0]"
      ]
     },
     "execution_count": 82,
     "metadata": {},
     "output_type": "execute_result"
    }
   ],
   "source": [
    "l20.pop() # remove last element from the list\n",
    "l20"
   ]
  },
  {
   "cell_type": "code",
   "execution_count": 83,
   "id": "cd379c87",
   "metadata": {},
   "outputs": [
    {
     "data": {
      "text/plain": [
       "0"
      ]
     },
     "execution_count": 83,
     "metadata": {},
     "output_type": "execute_result"
    }
   ],
   "source": [
    "l20[-1]"
   ]
  },
  {
   "cell_type": "code",
   "execution_count": 84,
   "id": "c2bfd5ff",
   "metadata": {},
   "outputs": [
    {
     "data": {
      "text/plain": [
       "False"
      ]
     },
     "execution_count": 84,
     "metadata": {},
     "output_type": "execute_result"
    }
   ],
   "source": [
    "l20[5]"
   ]
  },
  {
   "cell_type": "code",
   "execution_count": 85,
   "id": "7a13adba",
   "metadata": {},
   "outputs": [
    {
     "data": {
      "text/plain": [
       "[['aa', 'xx'], True, 'dd', 'ff', 'mm', 'Taha', 1000, 0]"
      ]
     },
     "execution_count": 85,
     "metadata": {},
     "output_type": "execute_result"
    }
   ],
   "source": [
    "l20.pop(5) # remove element with index 5 from the list\n",
    "l20"
   ]
  },
  {
   "cell_type": "code",
   "execution_count": 86,
   "id": "bac7ee9a",
   "metadata": {},
   "outputs": [
    {
     "data": {
      "text/plain": [
       "'Taha'"
      ]
     },
     "execution_count": 86,
     "metadata": {},
     "output_type": "execute_result"
    }
   ],
   "source": [
    "l20[5]"
   ]
  },
  {
   "cell_type": "code",
   "execution_count": 87,
   "id": "db3ff114",
   "metadata": {},
   "outputs": [
    {
     "data": {
      "text/plain": [
       "[['aa', 'xx'], True, 'dd', 'ff', 'mm', 'Taha', 0]"
      ]
     },
     "execution_count": 87,
     "metadata": {},
     "output_type": "execute_result"
    }
   ],
   "source": [
    "l20.pop(-2)\n",
    "l20"
   ]
  },
  {
   "cell_type": "markdown",
   "id": "b3d5058a",
   "metadata": {},
   "source": [
    "# range"
   ]
  },
  {
   "cell_type": "code",
   "execution_count": 88,
   "id": "0ebbc44d",
   "metadata": {},
   "outputs": [
    {
     "data": {
      "text/plain": [
       "range(0, 20)"
      ]
     },
     "execution_count": 88,
     "metadata": {},
     "output_type": "execute_result"
    }
   ],
   "source": [
    "l21 = range(20)\n",
    "l21"
   ]
  },
  {
   "cell_type": "code",
   "execution_count": 89,
   "id": "893270c7",
   "metadata": {},
   "outputs": [
    {
     "data": {
      "text/plain": [
       "range"
      ]
     },
     "execution_count": 89,
     "metadata": {},
     "output_type": "execute_result"
    }
   ],
   "source": [
    "type(l21)"
   ]
  },
  {
   "cell_type": "code",
   "execution_count": 90,
   "id": "c40a9d42",
   "metadata": {},
   "outputs": [
    {
     "data": {
      "text/plain": [
       "[0,\n",
       " 1,\n",
       " 2,\n",
       " 3,\n",
       " 4,\n",
       " 5,\n",
       " 6,\n",
       " 7,\n",
       " 8,\n",
       " 9,\n",
       " 10,\n",
       " 11,\n",
       " 12,\n",
       " 13,\n",
       " 14,\n",
       " 15,\n",
       " 16,\n",
       " 17,\n",
       " 18,\n",
       " 19,\n",
       " 20,\n",
       " 21,\n",
       " 22,\n",
       " 23,\n",
       " 24,\n",
       " 25,\n",
       " 26,\n",
       " 27,\n",
       " 28,\n",
       " 29]"
      ]
     },
     "execution_count": 90,
     "metadata": {},
     "output_type": "execute_result"
    }
   ],
   "source": [
    "l22 = list(range(30))\n",
    "l22"
   ]
  },
  {
   "cell_type": "code",
   "execution_count": 91,
   "id": "5c56055d",
   "metadata": {},
   "outputs": [
    {
     "data": {
      "text/plain": [
       "list"
      ]
     },
     "execution_count": 91,
     "metadata": {},
     "output_type": "execute_result"
    }
   ],
   "source": [
    "type(l22)"
   ]
  },
  {
   "cell_type": "code",
   "execution_count": 92,
   "id": "17a14b64",
   "metadata": {},
   "outputs": [
    {
     "data": {
      "text/plain": [
       "[60,\n",
       " 61,\n",
       " 62,\n",
       " 63,\n",
       " 64,\n",
       " 65,\n",
       " 66,\n",
       " 67,\n",
       " 68,\n",
       " 69,\n",
       " 70,\n",
       " 71,\n",
       " 72,\n",
       " 73,\n",
       " 74,\n",
       " 75,\n",
       " 76,\n",
       " 77,\n",
       " 78,\n",
       " 79]"
      ]
     },
     "execution_count": 92,
     "metadata": {},
     "output_type": "execute_result"
    }
   ],
   "source": [
    "l23 = list(range(60,80))\n",
    "l23"
   ]
  },
  {
   "cell_type": "code",
   "execution_count": 93,
   "id": "3265c63d",
   "metadata": {},
   "outputs": [
    {
     "data": {
      "text/plain": [
       "[200, 202, 204, 206, 208]"
      ]
     },
     "execution_count": 93,
     "metadata": {},
     "output_type": "execute_result"
    }
   ],
   "source": [
    "l24 = list(range(200,210,2))\n",
    "l24"
   ]
  },
  {
   "cell_type": "code",
   "execution_count": 94,
   "id": "49ae5ad5",
   "metadata": {},
   "outputs": [
    {
     "data": {
      "text/plain": [
       "[210,\n",
       " 208,\n",
       " 206,\n",
       " 204,\n",
       " 202,\n",
       " 200,\n",
       " 198,\n",
       " 196,\n",
       " 194,\n",
       " 192,\n",
       " 190,\n",
       " 188,\n",
       " 186,\n",
       " 184,\n",
       " 182,\n",
       " 180]"
      ]
     },
     "execution_count": 94,
     "metadata": {},
     "output_type": "execute_result"
    }
   ],
   "source": [
    "l25 = list(range(210,178,-2))\n",
    "l25"
   ]
  },
  {
   "cell_type": "code",
   "execution_count": 95,
   "id": "07004f29",
   "metadata": {},
   "outputs": [
    {
     "data": {
      "text/plain": [
       "[0,\n",
       " 1,\n",
       " 4,\n",
       " 9,\n",
       " 16,\n",
       " 25,\n",
       " 36,\n",
       " 49,\n",
       " 64,\n",
       " 81,\n",
       " 100,\n",
       " 121,\n",
       " 144,\n",
       " 169,\n",
       " 196,\n",
       " 225,\n",
       " 256,\n",
       " 289,\n",
       " 324,\n",
       " 361]"
      ]
     },
     "execution_count": 95,
     "metadata": {},
     "output_type": "execute_result"
    }
   ],
   "source": [
    "l26 = [e**2 for e in range(20)]\n",
    "l26"
   ]
  },
  {
   "cell_type": "code",
   "execution_count": 96,
   "id": "2bca3d46",
   "metadata": {},
   "outputs": [],
   "source": [
    "import math"
   ]
  },
  {
   "cell_type": "code",
   "execution_count": 97,
   "id": "df1baccb",
   "metadata": {},
   "outputs": [
    {
     "data": {
      "text/plain": [
       "17.0"
      ]
     },
     "execution_count": 97,
     "metadata": {},
     "output_type": "execute_result"
    }
   ],
   "source": [
    "math.sqrt(289)"
   ]
  },
  {
   "cell_type": "code",
   "execution_count": 98,
   "id": "5fab7ed7",
   "metadata": {},
   "outputs": [
    {
     "data": {
      "text/plain": [
       "[0, 1, 8, 27, 64, 125, 216, 343, 512, 729]"
      ]
     },
     "execution_count": 98,
     "metadata": {},
     "output_type": "execute_result"
    }
   ],
   "source": [
    "l27 = [e**3 for e in range(10)]\n",
    "l27"
   ]
  },
  {
   "cell_type": "markdown",
   "id": "fccf6f4e",
   "metadata": {},
   "source": [
    "# map"
   ]
  },
  {
   "cell_type": "markdown",
   "id": "34f9392f",
   "metadata": {},
   "source": [
    "### map(func, *iterables) --> map object\n",
    "\n",
    "### Make an iterator that computes the function using arguments from\n",
    "### each of the iterables.  Stops when the shortest iterable is exhausted."
   ]
  },
  {
   "cell_type": "code",
   "execution_count": 99,
   "id": "27db2043",
   "metadata": {},
   "outputs": [
    {
     "data": {
      "text/plain": [
       "[0, 1, 8, 27, 64, 125, 216, 343, 512, 729]"
      ]
     },
     "execution_count": 99,
     "metadata": {},
     "output_type": "execute_result"
    }
   ],
   "source": [
    "l28 = list(map(lambda e : e**3, range(10)))\n",
    "l28"
   ]
  },
  {
   "cell_type": "code",
   "execution_count": 100,
   "id": "13da4cbe",
   "metadata": {},
   "outputs": [
    {
     "data": {
      "text/plain": [
       "[2,\n",
       " 1,\n",
       " 0,\n",
       " -1,\n",
       " -2,\n",
       " -3,\n",
       " -4,\n",
       " -5,\n",
       " -6,\n",
       " 2,\n",
       " 1,\n",
       " 0,\n",
       " -1,\n",
       " -2,\n",
       " -3,\n",
       " -4,\n",
       " -5,\n",
       " 2,\n",
       " 1,\n",
       " 0,\n",
       " -1,\n",
       " -2,\n",
       " -3,\n",
       " -4,\n",
       " 2,\n",
       " 1,\n",
       " 0,\n",
       " -1,\n",
       " -2,\n",
       " -3,\n",
       " 2,\n",
       " 1,\n",
       " 0,\n",
       " -1,\n",
       " -2,\n",
       " 2,\n",
       " 1,\n",
       " 0,\n",
       " -1,\n",
       " 2,\n",
       " 1,\n",
       " 0,\n",
       " 2,\n",
       " 1,\n",
       " 2]"
      ]
     },
     "execution_count": 100,
     "metadata": {},
     "output_type": "execute_result"
    }
   ],
   "source": [
    "l29 = [x + 3 - y for x in range(10) for y in range(10) if y > x]\n",
    "l29"
   ]
  },
  {
   "cell_type": "code",
   "execution_count": 101,
   "id": "2b536bae",
   "metadata": {},
   "outputs": [
    {
     "data": {
      "text/plain": [
       "[[6, 12, 24, 48, 96],\n",
       " [7, 14, 28, 56, 112],\n",
       " [8, 16, 32, 64, 128],\n",
       " [9, 18, 36, 72, 144],\n",
       " [10, 20, 40, 80, 160]]"
      ]
     },
     "execution_count": 101,
     "metadata": {},
     "output_type": "execute_result"
    }
   ],
   "source": [
    "l30 = [[(2**i)*j for i in range(5)] for j in range(6,11)]\n",
    "l30"
   ]
  },
  {
   "cell_type": "code",
   "execution_count": 102,
   "id": "531f0708",
   "metadata": {},
   "outputs": [
    {
     "data": {
      "text/plain": [
       "[[10, 10, 10, 10, 10, 10, 10, 10, 10, 10],\n",
       " [10, 10, 10, 10, 10, 10, 10, 10, 10, 10],\n",
       " [10, 10, 10, 10, 10, 10, 10, 10, 10, 10],\n",
       " [10, 10, 10, 10, 10, 10, 10, 10, 10, 10],\n",
       " [10, 10, 10, 10, 10, 10, 10, 10, 10, 10],\n",
       " [10, 10, 10, 10, 10, 10, 10, 10, 10, 10],\n",
       " [10, 10, 10, 10, 10, 10, 10, 10, 10, 10],\n",
       " [10, 10, 10, 10, 10, 10, 10, 10, 10, 10],\n",
       " [10, 10, 10, 10, 10, 10, 10, 10, 10, 10],\n",
       " [10, 10, 10, 10, 10, 10, 10, 10, 10, 10]]"
      ]
     },
     "execution_count": 102,
     "metadata": {},
     "output_type": "execute_result"
    }
   ],
   "source": [
    "l31 = [[10 for i in range(10)] for j in range(10)]\n",
    "l31"
   ]
  },
  {
   "cell_type": "markdown",
   "id": "4e73b4c5",
   "metadata": {},
   "source": [
    "# iter"
   ]
  },
  {
   "cell_type": "code",
   "execution_count": 103,
   "id": "15150dde",
   "metadata": {},
   "outputs": [
    {
     "data": {
      "text/plain": [
       "<list_iterator at 0x1abf8017c70>"
      ]
     },
     "execution_count": 103,
     "metadata": {},
     "output_type": "execute_result"
    }
   ],
   "source": [
    "l32 = iter(['Ahmmed', 'Mohammed', 'Hammad', 'Taha'])\n",
    "l32"
   ]
  },
  {
   "cell_type": "code",
   "execution_count": 104,
   "id": "cd8ce8fa",
   "metadata": {},
   "outputs": [
    {
     "data": {
      "text/plain": [
       "'Ahmmed'"
      ]
     },
     "execution_count": 104,
     "metadata": {},
     "output_type": "execute_result"
    }
   ],
   "source": [
    "next(l32)"
   ]
  },
  {
   "cell_type": "code",
   "execution_count": 105,
   "id": "2b89d8f5",
   "metadata": {},
   "outputs": [
    {
     "data": {
      "text/plain": [
       "'Mohammed'"
      ]
     },
     "execution_count": 105,
     "metadata": {},
     "output_type": "execute_result"
    }
   ],
   "source": [
    "next(l32)"
   ]
  },
  {
   "cell_type": "code",
   "execution_count": 106,
   "id": "c8b072ef",
   "metadata": {},
   "outputs": [
    {
     "data": {
      "text/plain": [
       "'Hammad'"
      ]
     },
     "execution_count": 106,
     "metadata": {},
     "output_type": "execute_result"
    }
   ],
   "source": [
    "next(l32)"
   ]
  },
  {
   "cell_type": "code",
   "execution_count": 107,
   "id": "feda2592",
   "metadata": {},
   "outputs": [
    {
     "data": {
      "text/plain": [
       "'Taha'"
      ]
     },
     "execution_count": 107,
     "metadata": {},
     "output_type": "execute_result"
    }
   ],
   "source": [
    "next(l32)"
   ]
  },
  {
   "cell_type": "code",
   "execution_count": 108,
   "id": "7291c281",
   "metadata": {},
   "outputs": [
    {
     "name": "stdout",
     "output_type": "stream",
     "text": [
      "A\n",
      "h\n",
      "m\n",
      "m\n",
      "e\n",
      "d\n",
      "\n",
      "\n",
      "M\n",
      "o\n",
      "h\n",
      "a\n",
      "m\n",
      "m\n",
      "e\n",
      "d\n",
      "\n",
      "\n",
      "H\n",
      "a\n",
      "m\n",
      "m\n",
      "a\n",
      "d\n",
      "\n",
      "\n",
      "T\n",
      "a\n",
      "h\n",
      "a\n",
      "\n",
      "\n"
     ]
    }
   ],
   "source": [
    "l32 = iter(['Ahmmed', 'Mohammed', 'Hammad', 'Taha'])\n",
    "for i in range(4):\n",
    "    for j in next(l32):\n",
    "        print(j)\n",
    "    print('\\n')"
   ]
  },
  {
   "cell_type": "markdown",
   "id": "dd5055e9",
   "metadata": {},
   "source": [
    "# enumerate"
   ]
  },
  {
   "cell_type": "code",
   "execution_count": 109,
   "id": "f85defbf",
   "metadata": {},
   "outputs": [
    {
     "data": {
      "text/plain": [
       "['Ahmmed', 'Mohammed', 'Hammad', 'Taha']"
      ]
     },
     "execution_count": 109,
     "metadata": {},
     "output_type": "execute_result"
    }
   ],
   "source": [
    "l33 = ['Ahmmed', 'Mohammed', 'Hammad', 'Taha']\n",
    "l33"
   ]
  },
  {
   "cell_type": "code",
   "execution_count": 110,
   "id": "da56d025",
   "metadata": {},
   "outputs": [
    {
     "name": "stdout",
     "output_type": "stream",
     "text": [
      "0 Ahmmed\n",
      "1 Mohammed\n",
      "2 Hammad\n",
      "3 Taha\n"
     ]
    }
   ],
   "source": [
    "for c, v in enumerate(l33): #enumerate(iterable, start=0)\n",
    "    print(c, v)"
   ]
  },
  {
   "cell_type": "code",
   "execution_count": 111,
   "id": "42c8a9b2",
   "metadata": {},
   "outputs": [
    {
     "name": "stdout",
     "output_type": "stream",
     "text": [
      "3119 Ahmmed\n",
      "3120 Mohammed\n",
      "3121 Hammad\n",
      "3122 Taha\n"
     ]
    }
   ],
   "source": [
    "for c, v in enumerate(l33, start = 3119): #enumerate(iterable, start=0)\n",
    "    print(c, v)"
   ]
  },
  {
   "cell_type": "markdown",
   "id": "a759c0a2",
   "metadata": {},
   "source": [
    "# zip"
   ]
  },
  {
   "cell_type": "markdown",
   "id": "38ffe064",
   "metadata": {},
   "source": [
    "#### zip(list1, list2, list3,.............)"
   ]
  },
  {
   "cell_type": "code",
   "execution_count": 112,
   "id": "76e45787",
   "metadata": {},
   "outputs": [
    {
     "name": "stdout",
     "output_type": "stream",
     "text": [
      "['Ahmmed', 'Mohammed', 'Hammad', 'Taha']\n",
      "[25, 27, 30, 32]\n"
     ]
    }
   ],
   "source": [
    "names = l33.copy()\n",
    "ages = [25, 27, 30,32]\n",
    "print(names)\n",
    "print(ages)"
   ]
  },
  {
   "cell_type": "code",
   "execution_count": 113,
   "id": "2ef99538",
   "metadata": {},
   "outputs": [
    {
     "name": "stdout",
     "output_type": "stream",
     "text": [
      "Ahmmed 25\n",
      "Mohammed 27\n",
      "Hammad 30\n",
      "Taha 32\n"
     ]
    }
   ],
   "source": [
    "for name, age in zip(names, ages):\n",
    "    print(name, age)"
   ]
  },
  {
   "cell_type": "code",
   "execution_count": 114,
   "id": "fb9063ee",
   "metadata": {},
   "outputs": [
    {
     "data": {
      "text/plain": [
       "[('a', 0, 0), ('b', 1, 1), ('c', 2, 2)]"
      ]
     },
     "execution_count": 114,
     "metadata": {},
     "output_type": "execute_result"
    }
   ],
   "source": [
    "list(zip('abcdefg', range(3), range(4)))"
   ]
  },
  {
   "cell_type": "code",
   "execution_count": 115,
   "id": "2bf194ff",
   "metadata": {},
   "outputs": [
    {
     "data": {
      "text/plain": [
       "['prep', \"Bachelor's\", 'licensing', 'prep']"
      ]
     },
     "execution_count": 115,
     "metadata": {},
     "output_type": "execute_result"
    }
   ],
   "source": [
    "degrees = ['prep', 'Bachelor\\'s', 'licensing', 'prep']\n",
    "degrees"
   ]
  },
  {
   "cell_type": "code",
   "execution_count": 116,
   "id": "eaa0dfa5",
   "metadata": {},
   "outputs": [
    {
     "name": "stdout",
     "output_type": "stream",
     "text": [
      "Ahmmed 25 prep\n",
      "Mohammed 27 Bachelor's\n",
      "Hammad 30 licensing\n",
      "Taha 32 prep\n"
     ]
    }
   ],
   "source": [
    "for name, age, degree in zip(names, ages, degrees):\n",
    "    print(name, age, degree)"
   ]
  },
  {
   "cell_type": "markdown",
   "id": "0ad261ca",
   "metadata": {},
   "source": [
    "# itemgetter"
   ]
  },
  {
   "cell_type": "code",
   "execution_count": 117,
   "id": "a2232d55",
   "metadata": {},
   "outputs": [],
   "source": [
    "from operator import itemgetter"
   ]
  },
  {
   "cell_type": "code",
   "execution_count": 118,
   "id": "62eaa3f0",
   "metadata": {},
   "outputs": [
    {
     "data": {
      "text/plain": [
       "operator.itemgetter(2)"
      ]
     },
     "execution_count": 118,
     "metadata": {},
     "output_type": "execute_result"
    }
   ],
   "source": [
    "itemgetter(2)"
   ]
  },
  {
   "cell_type": "code",
   "execution_count": 119,
   "id": "3882eb1d",
   "metadata": {},
   "outputs": [
    {
     "data": {
      "text/plain": [
       "[('Ahmmed', 'Ali', 25),\n",
       " ('Sami', 'Jaqub', 25),\n",
       " ('Sami', 'Ali', 25),\n",
       " ('Osama', 'Mohammed', 22),\n",
       " ('Mona', 'Mohammed', 22),\n",
       " ('Saeed', 'Moseeb', 40),\n",
       " ('Taha', 'Abduallah', 32)]"
      ]
     },
     "execution_count": 119,
     "metadata": {},
     "output_type": "execute_result"
    }
   ],
   "source": [
    "employees = [\n",
    "    ('Ahmmed', 'Ali', 25),\n",
    "    ('Sami', 'Jaqub', 25),\n",
    "    ('Sami', 'Ali', 25),\n",
    "    ('Osama', 'Mohammed', 22),\n",
    "    ('Mona', 'Mohammed', 22),\n",
    "    ('Saeed', 'Moseeb', 40),\n",
    "    ('Taha', 'Abduallah', 32)\n",
    "]\n",
    "employees"
   ]
  },
  {
   "cell_type": "code",
   "execution_count": 120,
   "id": "6069898d",
   "metadata": {},
   "outputs": [
    {
     "data": {
      "text/plain": [
       "[('Osama', 'Mohammed', 22),\n",
       " ('Mona', 'Mohammed', 22),\n",
       " ('Ahmmed', 'Ali', 25),\n",
       " ('Sami', 'Jaqub', 25),\n",
       " ('Sami', 'Ali', 25),\n",
       " ('Taha', 'Abduallah', 32),\n",
       " ('Saeed', 'Moseeb', 40)]"
      ]
     },
     "execution_count": 120,
     "metadata": {},
     "output_type": "execute_result"
    }
   ],
   "source": [
    "sorted(employees, key = itemgetter(2))"
   ]
  },
  {
   "cell_type": "code",
   "execution_count": 121,
   "id": "df627536",
   "metadata": {},
   "outputs": [
    {
     "data": {
      "text/plain": [
       "[('Mona', 'Mohammed', 22),\n",
       " ('Osama', 'Mohammed', 22),\n",
       " ('Ahmmed', 'Ali', 25),\n",
       " ('Sami', 'Jaqub', 25),\n",
       " ('Sami', 'Ali', 25),\n",
       " ('Taha', 'Abduallah', 32),\n",
       " ('Saeed', 'Moseeb', 40)]"
      ]
     },
     "execution_count": 121,
     "metadata": {},
     "output_type": "execute_result"
    }
   ],
   "source": [
    "sorted(employees, key = itemgetter(2,0))"
   ]
  },
  {
   "cell_type": "code",
   "execution_count": 122,
   "id": "19cbcf73",
   "metadata": {},
   "outputs": [
    {
     "data": {
      "text/plain": [
       "[('Mona', 'Mohammed', 22),\n",
       " ('Osama', 'Mohammed', 22),\n",
       " ('Ahmmed', 'Ali', 25),\n",
       " ('Sami', 'Ali', 25),\n",
       " ('Sami', 'Jaqub', 25),\n",
       " ('Taha', 'Abduallah', 32),\n",
       " ('Saeed', 'Moseeb', 40)]"
      ]
     },
     "execution_count": 122,
     "metadata": {},
     "output_type": "execute_result"
    }
   ],
   "source": [
    "sorted(employees, key = itemgetter(2,0,1))"
   ]
  },
  {
   "cell_type": "markdown",
   "id": "ba945b34",
   "metadata": {},
   "source": [
    "# methodcaller"
   ]
  },
  {
   "cell_type": "code",
   "execution_count": 123,
   "id": "68471244",
   "metadata": {},
   "outputs": [],
   "source": [
    "from operator import methodcaller"
   ]
  },
  {
   "cell_type": "code",
   "execution_count": 124,
   "id": "f30593ee",
   "metadata": {},
   "outputs": [
    {
     "data": {
      "text/plain": [
       "['Ahmmed', 'Mohammed', 'Hammad', 'Taha']"
      ]
     },
     "execution_count": 124,
     "metadata": {},
     "output_type": "execute_result"
    }
   ],
   "source": [
    "sorted(names, key = methodcaller('count', 'a'))"
   ]
  }
 ],
 "metadata": {
  "kernelspec": {
   "display_name": "Python 3",
   "language": "python",
   "name": "python3"
  },
  "language_info": {
   "codemirror_mode": {
    "name": "ipython",
    "version": 3
   },
   "file_extension": ".py",
   "mimetype": "text/x-python",
   "name": "python",
   "nbconvert_exporter": "python",
   "pygments_lexer": "ipython3",
   "version": "3.8.8"
  }
 },
 "nbformat": 4,
 "nbformat_minor": 5
}
