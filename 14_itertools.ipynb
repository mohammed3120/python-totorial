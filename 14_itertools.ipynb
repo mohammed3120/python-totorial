{
 "cells": [
  {
   "cell_type": "code",
   "execution_count": 1,
   "id": "e7730603",
   "metadata": {},
   "outputs": [],
   "source": [
    "import itertools"
   ]
  },
  {
   "cell_type": "code",
   "execution_count": 2,
   "id": "dd330f04",
   "metadata": {},
   "outputs": [],
   "source": [
    "import time"
   ]
  },
  {
   "cell_type": "markdown",
   "id": "74993263",
   "metadata": {},
   "source": [
    "# def accumulate(iterable, func=operator.add, *, initial=None)"
   ]
  },
  {
   "cell_type": "markdown",
   "id": "7b62c9ad",
   "metadata": {},
   "source": [
    "### Make an iterator that returns accumulated sums, or accumulated results of other binary functions (specified via the optional func argument)."
   ]
  },
  {
   "cell_type": "code",
   "execution_count": 3,
   "id": "411a54be",
   "metadata": {},
   "outputs": [],
   "source": [
    "a_list = [1,2,3,4,5]"
   ]
  },
  {
   "cell_type": "code",
   "execution_count": 4,
   "id": "ab90a05a",
   "metadata": {},
   "outputs": [
    {
     "name": "stdout",
     "output_type": "stream",
     "text": [
      "[1, 3, 6, 10, 15]\n"
     ]
    },
    {
     "data": {
      "text/plain": [
       "0.0009989738464355469"
      ]
     },
     "execution_count": 4,
     "metadata": {},
     "output_type": "execute_result"
    }
   ],
   "source": [
    "t0 = time.time()\n",
    "l = list(itertools.accumulate(a_list))\n",
    "print(l)\n",
    "t1 = time.time()\n",
    "t1 -t0"
   ]
  },
  {
   "cell_type": "code",
   "execution_count": null,
   "id": "0bb809b1",
   "metadata": {},
   "outputs": [],
   "source": [
    "t0 = time.time()\n",
    "l = []\n",
    "for i in range(len(a_list)):\n",
    "    l.append(sum(a_list[:i+1]))\n",
    "print(l)\n",
    "t1 = time.time()\n",
    "t1 -t0"
   ]
  },
  {
   "cell_type": "code",
   "execution_count": null,
   "id": "d64528aa",
   "metadata": {},
   "outputs": [],
   "source": [
    "t0 = time.time()\n",
    "l = [sum(a_list[:i+1]) for i in range(len(a_list)) ]\n",
    "print(l)\n",
    "t1 = time.time()\n",
    "t1 -t0"
   ]
  },
  {
   "cell_type": "markdown",
   "id": "6c186dd9",
   "metadata": {},
   "source": [
    "# itertools.combinations(iterable, r)"
   ]
  },
  {
   "cell_type": "markdown",
   "id": "83bf2547",
   "metadata": {},
   "source": [
    "### Grouping a certain number of characters (r)"
   ]
  },
  {
   "cell_type": "code",
   "execution_count": null,
   "id": "9095b1c7",
   "metadata": {},
   "outputs": [],
   "source": [
    "list(itertools.combinations(\"ABC\", 2))"
   ]
  },
  {
   "cell_type": "code",
   "execution_count": null,
   "id": "05ab535c",
   "metadata": {},
   "outputs": [],
   "source": [
    "sorted(list(itertools.combinations(\"DFA\", 2)))"
   ]
  },
  {
   "cell_type": "markdown",
   "id": "ed500660",
   "metadata": {},
   "source": [
    "# itertools.combinations_with_replacement(iterable, r)"
   ]
  },
  {
   "cell_type": "markdown",
   "id": "75580924",
   "metadata": {},
   "source": [
    "### Return r length subsequences of elements from the input iterable allowing individual elements to be repeated more than once."
   ]
  },
  {
   "cell_type": "code",
   "execution_count": null,
   "id": "d5e9ff0a",
   "metadata": {},
   "outputs": [],
   "source": [
    "list(itertools.combinations_with_replacement(\"ABC\", 2))"
   ]
  },
  {
   "cell_type": "markdown",
   "id": "34110a25",
   "metadata": {},
   "source": [
    "# itertools.product(*iterables, repeat=1)"
   ]
  },
  {
   "cell_type": "markdown",
   "id": "44c32db8",
   "metadata": {},
   "source": [
    "### Cartesian product of input iterables."
   ]
  },
  {
   "cell_type": "code",
   "execution_count": null,
   "id": "41459dfa",
   "metadata": {},
   "outputs": [],
   "source": [
    "list(itertools.product([2,4,8], repeat = 2))"
   ]
  },
  {
   "cell_type": "code",
   "execution_count": null,
   "id": "4dc13b61",
   "metadata": {},
   "outputs": [],
   "source": [
    "list(itertools.product([2,4,8], repeat = 2))"
   ]
  },
  {
   "cell_type": "code",
   "execution_count": null,
   "id": "dd5fc126",
   "metadata": {},
   "outputs": [],
   "source": [
    "A = [2,3,5]\n",
    "B = [4,6,7]\n",
    "p = list([A,B])\n",
    "p"
   ]
  },
  {
   "cell_type": "code",
   "execution_count": null,
   "id": "67b049c6",
   "metadata": {},
   "outputs": [],
   "source": [
    "list(itertools.product(*p))"
   ]
  },
  {
   "cell_type": "markdown",
   "id": "ecb49128",
   "metadata": {},
   "source": [
    "# itertools.permutations(iterable, r=None)"
   ]
  },
  {
   "cell_type": "markdown",
   "id": "213521a7",
   "metadata": {},
   "source": [
    "### Return successive r length permutations of elements in the iterable."
   ]
  },
  {
   "cell_type": "code",
   "execution_count": null,
   "id": "39e9ab44",
   "metadata": {},
   "outputs": [],
   "source": [
    "list(itertools.permutations(['1','2','3']))"
   ]
  },
  {
   "cell_type": "code",
   "execution_count": null,
   "id": "10bf0b20",
   "metadata": {},
   "outputs": [],
   "source": [
    "list(itertools.permutations(['1','2','3'],2))"
   ]
  },
  {
   "cell_type": "code",
   "execution_count": null,
   "id": "77722572",
   "metadata": {},
   "outputs": [],
   "source": [
    "list(itertools.permutations(\"abc\",3))"
   ]
  }
 ],
 "metadata": {
  "kernelspec": {
   "display_name": "Python 3 (ipykernel)",
   "language": "python",
   "name": "python3"
  },
  "language_info": {
   "codemirror_mode": {
    "name": "ipython",
    "version": 3
   },
   "file_extension": ".py",
   "mimetype": "text/x-python",
   "name": "python",
   "nbconvert_exporter": "python",
   "pygments_lexer": "ipython3",
   "version": "3.9.12"
  }
 },
 "nbformat": 4,
 "nbformat_minor": 5
}
