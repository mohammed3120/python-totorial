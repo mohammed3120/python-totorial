{
 "cells": [
  {
   "cell_type": "markdown",
   "id": "47410efb",
   "metadata": {},
   "source": [
    "# if"
   ]
  },
  {
   "cell_type": "code",
   "execution_count": 1,
   "id": "8ab36239",
   "metadata": {},
   "outputs": [
    {
     "data": {
      "text/plain": [
       "[10, 20, 30]"
      ]
     },
     "execution_count": 1,
     "metadata": {},
     "output_type": "execute_result"
    }
   ],
   "source": [
    "s1 = [10, 20, 30]\n",
    "s1"
   ]
  },
  {
   "cell_type": "code",
   "execution_count": 2,
   "id": "4339bf95",
   "metadata": {},
   "outputs": [
    {
     "name": "stdout",
     "output_type": "stream",
     "text": [
      "Yes\n"
     ]
    }
   ],
   "source": [
    "if 30 in s1:\n",
    "    print('Yes')"
   ]
  },
  {
   "cell_type": "code",
   "execution_count": 3,
   "id": "d330c7b1",
   "metadata": {},
   "outputs": [],
   "source": [
    "if 10 =='10': print('Yes')"
   ]
  },
  {
   "cell_type": "code",
   "execution_count": 4,
   "id": "9c581de0",
   "metadata": {},
   "outputs": [
    {
     "name": "stdout",
     "output_type": "stream",
     "text": [
      "Exist 10\n"
     ]
    }
   ],
   "source": [
    "if 10 in s1: print('Exist 10')"
   ]
  },
  {
   "cell_type": "markdown",
   "id": "101672e5",
   "metadata": {},
   "source": [
    "# if - else"
   ]
  },
  {
   "cell_type": "code",
   "execution_count": 5,
   "id": "7d7b321f",
   "metadata": {},
   "outputs": [
    {
     "name": "stdout",
     "output_type": "stream",
     "text": [
      "No\n"
     ]
    }
   ],
   "source": [
    "if 40 in s1:\n",
    "    print('Yes')\n",
    "else:\n",
    "    print('No')"
   ]
  },
  {
   "cell_type": "code",
   "execution_count": 6,
   "id": "495b3ae3",
   "metadata": {},
   "outputs": [
    {
     "name": "stdout",
     "output_type": "stream",
     "text": [
      "There is 10 in list s1\n"
     ]
    }
   ],
   "source": [
    "if 20 in s1: print('There is 10 in list s1')\n",
    "else: print('Not exist')"
   ]
  },
  {
   "cell_type": "code",
   "execution_count": 7,
   "id": "c46c1dc3",
   "metadata": {},
   "outputs": [
    {
     "name": "stdout",
     "output_type": "stream",
     "text": [
      "Not exist\n"
     ]
    }
   ],
   "source": [
    "if 100 in s1: print('There is 10 in list s1')\n",
    "else: print('Not exist')"
   ]
  },
  {
   "cell_type": "markdown",
   "id": "1610491d",
   "metadata": {},
   "source": [
    "# if - elif - else"
   ]
  },
  {
   "cell_type": "code",
   "execution_count": 8,
   "id": "f9938abb",
   "metadata": {},
   "outputs": [
    {
     "name": "stdout",
     "output_type": "stream",
     "text": [
      "2\n"
     ]
    }
   ],
   "source": [
    "if 50 in s1:\n",
    "    print(s1.index(50))\n",
    "elif 30 in s1:\n",
    "    print(s1.index(30))\n",
    "else:\n",
    "    print('Not exist')"
   ]
  },
  {
   "cell_type": "code",
   "execution_count": 9,
   "id": "8021558d",
   "metadata": {},
   "outputs": [
    {
     "data": {
      "text/plain": [
       "30"
      ]
     },
     "execution_count": 9,
     "metadata": {},
     "output_type": "execute_result"
    }
   ],
   "source": [
    "s1[2]"
   ]
  },
  {
   "cell_type": "code",
   "execution_count": 10,
   "id": "bc727e9d",
   "metadata": {},
   "outputs": [
    {
     "name": "stdout",
     "output_type": "stream",
     "text": [
      "2\n"
     ]
    }
   ],
   "source": [
    "if 50 in s1:print(s1.index(50))    \n",
    "elif 30 in s1:print(s1.index(30))\n",
    "else:print('Not exist')"
   ]
  },
  {
   "cell_type": "markdown",
   "id": "27622645",
   "metadata": {},
   "source": [
    "# Shortcut if"
   ]
  },
  {
   "cell_type": "code",
   "execution_count": 11,
   "id": "ce911f8d",
   "metadata": {},
   "outputs": [
    {
     "name": "stdout",
     "output_type": "stream",
     "text": [
      "20\n"
     ]
    }
   ],
   "source": [
    "x1 = 20 #input('Enter first number')\n",
    "x2 = 10 #input('Enter second number')\n",
    "max_number = x1 if x1 > x2 else x2\n",
    "print(max_number)"
   ]
  },
  {
   "cell_type": "code",
   "execution_count": 12,
   "id": "47fd8ad1",
   "metadata": {},
   "outputs": [
    {
     "name": "stdout",
     "output_type": "stream",
     "text": [
      "20\n"
     ]
    }
   ],
   "source": [
    "max_number = x1 if x1 > x2 else x2 if x1 < x2 else 'Equal'\n",
    "print(max_number)"
   ]
  },
  {
   "cell_type": "code",
   "execution_count": 13,
   "id": "259e1fdd",
   "metadata": {},
   "outputs": [
    {
     "name": "stdout",
     "output_type": "stream",
     "text": [
      "Equal\n"
     ]
    }
   ],
   "source": [
    "x1 = 24\n",
    "x2 = 24\n",
    "max_number = x1 if x1 > x2 else x2 if x1 < x2 else 'Equal'\n",
    "print(max_number)"
   ]
  },
  {
   "cell_type": "code",
   "execution_count": null,
   "id": "074a0879",
   "metadata": {},
   "outputs": [],
   "source": []
  }
 ],
 "metadata": {
  "kernelspec": {
   "display_name": "Python 3",
   "language": "python",
   "name": "python3"
  },
  "language_info": {
   "codemirror_mode": {
    "name": "ipython",
    "version": 3
   },
   "file_extension": ".py",
   "mimetype": "text/x-python",
   "name": "python",
   "nbconvert_exporter": "python",
   "pygments_lexer": "ipython3",
   "version": "3.8.8"
  }
 },
 "nbformat": 4,
 "nbformat_minor": 5
}
