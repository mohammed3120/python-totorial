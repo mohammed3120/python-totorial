{
 "cells": [
  {
   "cell_type": "markdown",
   "id": "385da60e",
   "metadata": {},
   "source": [
    "# Tuple can not editable or remove from it"
   ]
  },
  {
   "cell_type": "code",
   "execution_count": 1,
   "id": "35c22515",
   "metadata": {},
   "outputs": [
    {
     "data": {
      "text/plain": [
       "(1, 2, 3, 4)"
      ]
     },
     "execution_count": 1,
     "metadata": {},
     "output_type": "execute_result"
    }
   ],
   "source": [
    "t1 = (1,2,3,4)\n",
    "t1"
   ]
  },
  {
   "cell_type": "code",
   "execution_count": 2,
   "id": "39f5d8f4",
   "metadata": {},
   "outputs": [
    {
     "data": {
      "text/plain": [
       "4"
      ]
     },
     "execution_count": 2,
     "metadata": {},
     "output_type": "execute_result"
    }
   ],
   "source": [
    "max(t1)"
   ]
  },
  {
   "cell_type": "code",
   "execution_count": 3,
   "id": "9b341ab9",
   "metadata": {},
   "outputs": [
    {
     "data": {
      "text/plain": [
       "1"
      ]
     },
     "execution_count": 3,
     "metadata": {},
     "output_type": "execute_result"
    }
   ],
   "source": [
    "min(t1)"
   ]
  },
  {
   "cell_type": "code",
   "execution_count": 4,
   "id": "47588c11",
   "metadata": {},
   "outputs": [
    {
     "data": {
      "text/plain": [
       "('ahmmed', 'mohammed', 'sammer')"
      ]
     },
     "execution_count": 4,
     "metadata": {},
     "output_type": "execute_result"
    }
   ],
   "source": [
    "t2 = ('ahmmed','mohammed','sammer')\n",
    "t2"
   ]
  },
  {
   "cell_type": "code",
   "execution_count": 5,
   "id": "7c5ecf91",
   "metadata": {},
   "outputs": [
    {
     "data": {
      "text/plain": [
       "'sammer'"
      ]
     },
     "execution_count": 5,
     "metadata": {},
     "output_type": "execute_result"
    }
   ],
   "source": [
    "max(t2)"
   ]
  },
  {
   "cell_type": "code",
   "execution_count": 6,
   "id": "186d2ccf",
   "metadata": {},
   "outputs": [
    {
     "data": {
      "text/plain": [
       "'ahmmed'"
      ]
     },
     "execution_count": 6,
     "metadata": {},
     "output_type": "execute_result"
    }
   ],
   "source": [
    "min(t2)"
   ]
  },
  {
   "cell_type": "code",
   "execution_count": 7,
   "id": "1e8d3a58",
   "metadata": {},
   "outputs": [
    {
     "data": {
      "text/plain": [
       "[1, 2, 3, 4]"
      ]
     },
     "execution_count": 7,
     "metadata": {},
     "output_type": "execute_result"
    }
   ],
   "source": [
    "l1 = list(t1)\n",
    "l1"
   ]
  },
  {
   "cell_type": "code",
   "execution_count": 8,
   "id": "634035db",
   "metadata": {},
   "outputs": [
    {
     "data": {
      "text/plain": [
       "[1, 2, 3, 4, 5]"
      ]
     },
     "execution_count": 8,
     "metadata": {},
     "output_type": "execute_result"
    }
   ],
   "source": [
    "l1.append(5)\n",
    "l1"
   ]
  },
  {
   "cell_type": "code",
   "execution_count": 9,
   "id": "5bce6738",
   "metadata": {},
   "outputs": [
    {
     "data": {
      "text/plain": [
       "(1, 2, 3, 4, 5)"
      ]
     },
     "execution_count": 9,
     "metadata": {},
     "output_type": "execute_result"
    }
   ],
   "source": [
    "t3 = tuple(l1)\n",
    "t3"
   ]
  },
  {
   "cell_type": "code",
   "execution_count": 10,
   "id": "4bdaec8f",
   "metadata": {},
   "outputs": [
    {
     "data": {
      "text/plain": [
       "[('Taha', 'Abo Loai', 32),\n",
       " ('Hammad', 'Abo Zeid', 30),\n",
       " ('Ahmmed', 'Abo Azzam', 25),\n",
       " ('Mohammed', 'Abo Osama', 27)]"
      ]
     },
     "execution_count": 10,
     "metadata": {},
     "output_type": "execute_result"
    }
   ],
   "source": [
    "l2 = [('Taha','Abo Loai', 32), \n",
    "       ('Hammad','Abo Zeid', 30), \n",
    "       ('Ahmmed','Abo Azzam', 25), \n",
    "       ('Mohammed','Abo Osama', 27)]\n",
    "l2"
   ]
  },
  {
   "cell_type": "code",
   "execution_count": 11,
   "id": "35cd4e0e",
   "metadata": {},
   "outputs": [
    {
     "data": {
      "text/plain": [
       "[('Ahmmed', 'Abo Azzam', 25),\n",
       " ('Hammad', 'Abo Zeid', 30),\n",
       " ('Mohammed', 'Abo Osama', 27),\n",
       " ('Taha', 'Abo Loai', 32)]"
      ]
     },
     "execution_count": 11,
     "metadata": {},
     "output_type": "execute_result"
    }
   ],
   "source": [
    "sorted(l2, key = lambda i : i[0])"
   ]
  },
  {
   "cell_type": "markdown",
   "id": "5b0f3a6f",
   "metadata": {},
   "source": [
    "# map"
   ]
  },
  {
   "cell_type": "code",
   "execution_count": 12,
   "id": "7034750f",
   "metadata": {},
   "outputs": [
    {
     "data": {
      "text/plain": [
       "(0, 1, 8, 27, 64, 125, 216, 343, 512, 729)"
      ]
     },
     "execution_count": 12,
     "metadata": {},
     "output_type": "execute_result"
    }
   ],
   "source": [
    "t4 = tuple(map(lambda e : e**3, range(10)))\n",
    "t4"
   ]
  },
  {
   "cell_type": "code",
   "execution_count": 13,
   "id": "455e7a76",
   "metadata": {},
   "outputs": [
    {
     "data": {
      "text/plain": [
       "((6, 6, 6, 6, 6),\n",
       " (6, 6, 6, 6, 6),\n",
       " (6, 6, 6, 6, 6),\n",
       " (6, 6, 6, 6, 6),\n",
       " (6, 6, 6, 6, 6))"
      ]
     },
     "execution_count": 13,
     "metadata": {},
     "output_type": "execute_result"
    }
   ],
   "source": [
    "t5 = tuple(tuple(6 for i in range(5)) for j in range(5))\n",
    "t5"
   ]
  },
  {
   "cell_type": "markdown",
   "id": "670531c3",
   "metadata": {},
   "source": [
    "# iter"
   ]
  },
  {
   "cell_type": "code",
   "execution_count": 14,
   "id": "2ad0f425",
   "metadata": {},
   "outputs": [
    {
     "data": {
      "text/plain": [
       "<tuple_iterator at 0x2486d5662b0>"
      ]
     },
     "execution_count": 14,
     "metadata": {},
     "output_type": "execute_result"
    }
   ],
   "source": [
    "t6 = iter(('Ahmmed', 'Mohammed', 'Hammad', 'Taha'))\n",
    "t6"
   ]
  },
  {
   "cell_type": "code",
   "execution_count": 15,
   "id": "09b123c4",
   "metadata": {},
   "outputs": [
    {
     "data": {
      "text/plain": [
       "'Ahmmed'"
      ]
     },
     "execution_count": 15,
     "metadata": {},
     "output_type": "execute_result"
    }
   ],
   "source": [
    "next(t6)"
   ]
  },
  {
   "cell_type": "markdown",
   "id": "778f0ee6",
   "metadata": {},
   "source": [
    "# enumerate"
   ]
  },
  {
   "cell_type": "code",
   "execution_count": 16,
   "id": "db28fab2",
   "metadata": {},
   "outputs": [
    {
     "data": {
      "text/plain": [
       "('Ahmmed', 'Mohammed', 'Hammad', 'Taha')"
      ]
     },
     "execution_count": 16,
     "metadata": {},
     "output_type": "execute_result"
    }
   ],
   "source": [
    "t7 = ('Ahmmed', 'Mohammed', 'Hammad', 'Taha')\n",
    "t7"
   ]
  },
  {
   "cell_type": "code",
   "execution_count": 17,
   "id": "ffcfd23d",
   "metadata": {},
   "outputs": [
    {
     "name": "stdout",
     "output_type": "stream",
     "text": [
      "(0, 'Ahmmed')\n",
      "(1, 'Mohammed')\n",
      "(2, 'Hammad')\n",
      "(3, 'Taha')\n"
     ]
    }
   ],
   "source": [
    "for name in enumerate(t7):\n",
    "    print(name)"
   ]
  },
  {
   "cell_type": "code",
   "execution_count": 18,
   "id": "3683de38",
   "metadata": {},
   "outputs": [
    {
     "name": "stdout",
     "output_type": "stream",
     "text": [
      "(600, 'Ahmmed')\n",
      "(601, 'Mohammed')\n",
      "(602, 'Hammad')\n",
      "(603, 'Taha')\n"
     ]
    }
   ],
   "source": [
    "for name in enumerate(t7, start = 600):\n",
    "    print(name)"
   ]
  },
  {
   "cell_type": "code",
   "execution_count": 19,
   "id": "d4af78e8",
   "metadata": {},
   "outputs": [
    {
     "name": "stdout",
     "output_type": "stream",
     "text": [
      "('Ahmmed', 'Mohammed', 'Hammad', 'Taha')\n",
      "(25, 27, 30, 32)\n"
     ]
    }
   ],
   "source": [
    "names = ('Ahmmed', 'Mohammed', 'Hammad', 'Taha')\n",
    "ages = (25, 27, 30,32)\n",
    "print(names)\n",
    "print(ages)"
   ]
  },
  {
   "cell_type": "code",
   "execution_count": 20,
   "id": "5c7c90c1",
   "metadata": {},
   "outputs": [
    {
     "name": "stdout",
     "output_type": "stream",
     "text": [
      "Ahmmed 25\n",
      "Mohammed 27\n",
      "Hammad 30\n",
      "Taha 32\n"
     ]
    }
   ],
   "source": [
    "for name, age in zip(names, ages):\n",
    "    print(name, age)"
   ]
  },
  {
   "cell_type": "code",
   "execution_count": 21,
   "id": "a313b0d4",
   "metadata": {},
   "outputs": [
    {
     "data": {
      "text/plain": [
       "(('a', 0, 0),\n",
       " ('b', 1, 1),\n",
       " ('c', 2, 2),\n",
       " ('d', 3, 3),\n",
       " ('e', 4, 4),\n",
       " ('f', 5, 5),\n",
       " ('g', 6, 6))"
      ]
     },
     "execution_count": 21,
     "metadata": {},
     "output_type": "execute_result"
    }
   ],
   "source": [
    "st = 'abcdefg'\n",
    "tuple(zip(st, range(len(st)), range(len(st))))"
   ]
  },
  {
   "cell_type": "markdown",
   "id": "5d0c31ad",
   "metadata": {},
   "source": [
    "# itemgetter"
   ]
  },
  {
   "cell_type": "code",
   "execution_count": 22,
   "id": "46ccefa0",
   "metadata": {},
   "outputs": [],
   "source": [
    "from operator import itemgetter"
   ]
  },
  {
   "cell_type": "code",
   "execution_count": 23,
   "id": "a6dde4bc",
   "metadata": {},
   "outputs": [
    {
     "data": {
      "text/plain": [
       "(('Ahmmed', 'Ali', 25),\n",
       " ('Sami', 'Jaqub', 25),\n",
       " ('Sami', 'Ali', 25),\n",
       " ('Osama', 'Mohammed', 22),\n",
       " ('Mona', 'Mohammed', 22),\n",
       " ('Saeed', 'Moseeb', 40),\n",
       " ('Taha', 'Abduallah', 32))"
      ]
     },
     "execution_count": 23,
     "metadata": {},
     "output_type": "execute_result"
    }
   ],
   "source": [
    "employees = (\n",
    "    ('Ahmmed', 'Ali', 25),\n",
    "    ('Sami', 'Jaqub', 25),\n",
    "    ('Sami', 'Ali', 25),\n",
    "    ('Osama', 'Mohammed', 22),\n",
    "    ('Mona', 'Mohammed', 22),\n",
    "    ('Saeed', 'Moseeb', 40),\n",
    "    ('Taha', 'Abduallah', 32)\n",
    ")\n",
    "employees"
   ]
  },
  {
   "cell_type": "code",
   "execution_count": 24,
   "id": "5c83a374",
   "metadata": {},
   "outputs": [
    {
     "data": {
      "text/plain": [
       "[('Taha', 'Abduallah', 32),\n",
       " ('Ahmmed', 'Ali', 25),\n",
       " ('Sami', 'Ali', 25),\n",
       " ('Sami', 'Jaqub', 25),\n",
       " ('Mona', 'Mohammed', 22),\n",
       " ('Osama', 'Mohammed', 22),\n",
       " ('Saeed', 'Moseeb', 40)]"
      ]
     },
     "execution_count": 24,
     "metadata": {},
     "output_type": "execute_result"
    }
   ],
   "source": [
    "sorted(employees, key = itemgetter(1,2,0))"
   ]
  }
 ],
 "metadata": {
  "kernelspec": {
   "display_name": "Python 3",
   "language": "python",
   "name": "python3"
  },
  "language_info": {
   "codemirror_mode": {
    "name": "ipython",
    "version": 3
   },
   "file_extension": ".py",
   "mimetype": "text/x-python",
   "name": "python",
   "nbconvert_exporter": "python",
   "pygments_lexer": "ipython3",
   "version": "3.8.8"
  }
 },
 "nbformat": 4,
 "nbformat_minor": 5
}
