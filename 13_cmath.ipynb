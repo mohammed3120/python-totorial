{
 "cells": [
  {
   "cell_type": "code",
   "execution_count": 1,
   "id": "f15c5667",
   "metadata": {},
   "outputs": [],
   "source": [
    "import cmath"
   ]
  },
  {
   "cell_type": "code",
   "execution_count": 2,
   "id": "9de11da2",
   "metadata": {},
   "outputs": [
    {
     "data": {
      "text/plain": [
       "3.141592653589793"
      ]
     },
     "execution_count": 2,
     "metadata": {},
     "output_type": "execute_result"
    }
   ],
   "source": [
    "cmath.phase(complex(-1,0))"
   ]
  },
  {
   "cell_type": "code",
   "execution_count": 3,
   "id": "fa627b06",
   "metadata": {},
   "outputs": [],
   "source": [
    "import math"
   ]
  },
  {
   "cell_type": "code",
   "execution_count": 4,
   "id": "3af1b2c5",
   "metadata": {},
   "outputs": [
    {
     "data": {
      "text/plain": [
       "3.141592653589793"
      ]
     },
     "execution_count": 4,
     "metadata": {},
     "output_type": "execute_result"
    }
   ],
   "source": [
    "math.atan2(0,-1)"
   ]
  },
  {
   "cell_type": "markdown",
   "id": "77533f4f",
   "metadata": {},
   "source": [
    "# Convert to Polar"
   ]
  },
  {
   "cell_type": "code",
   "execution_count": 5,
   "id": "3a6b4705",
   "metadata": {},
   "outputs": [],
   "source": [
    "z = 3+2j"
   ]
  },
  {
   "cell_type": "code",
   "execution_count": 6,
   "id": "a0d64032",
   "metadata": {},
   "outputs": [
    {
     "data": {
      "text/plain": [
       "(3.605551275463989, 0.5880026035475675)"
      ]
     },
     "execution_count": 6,
     "metadata": {},
     "output_type": "execute_result"
    }
   ],
   "source": [
    "cmath.polar(z)"
   ]
  },
  {
   "cell_type": "code",
   "execution_count": 7,
   "id": "d7c71426",
   "metadata": {},
   "outputs": [
    {
     "data": {
      "text/plain": [
       "0.5880026035475675"
      ]
     },
     "execution_count": 7,
     "metadata": {},
     "output_type": "execute_result"
    }
   ],
   "source": [
    "cmath.phase(z)"
   ]
  },
  {
   "cell_type": "code",
   "execution_count": 8,
   "id": "382bfd1c",
   "metadata": {},
   "outputs": [
    {
     "data": {
      "text/plain": [
       "3.605551275463989"
      ]
     },
     "execution_count": 8,
     "metadata": {},
     "output_type": "execute_result"
    }
   ],
   "source": [
    "math.sqrt(z.real**2 + z.imag**2)"
   ]
  },
  {
   "cell_type": "code",
   "execution_count": 9,
   "id": "25788b25",
   "metadata": {},
   "outputs": [
    {
     "data": {
      "text/plain": [
       "(3.605551275463989+0j)"
      ]
     },
     "execution_count": 9,
     "metadata": {},
     "output_type": "execute_result"
    }
   ],
   "source": [
    "cmath.sqrt(z.real**2 + z.imag**2)"
   ]
  },
  {
   "cell_type": "code",
   "execution_count": null,
   "id": "aabe038f",
   "metadata": {},
   "outputs": [],
   "source": []
  }
 ],
 "metadata": {
  "kernelspec": {
   "display_name": "Python 3 (ipykernel)",
   "language": "python",
   "name": "python3"
  },
  "language_info": {
   "codemirror_mode": {
    "name": "ipython",
    "version": 3
   },
   "file_extension": ".py",
   "mimetype": "text/x-python",
   "name": "python",
   "nbconvert_exporter": "python",
   "pygments_lexer": "ipython3",
   "version": "3.9.12"
  }
 },
 "nbformat": 4,
 "nbformat_minor": 5
}
