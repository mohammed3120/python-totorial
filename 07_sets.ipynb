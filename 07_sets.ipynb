{
 "cells": [
  {
   "cell_type": "markdown",
   "id": "85587499",
   "metadata": {},
   "source": [
    "# Sets remove all duplicated values with default sorting to numbers"
   ]
  },
  {
   "cell_type": "code",
   "execution_count": 1,
   "id": "30c9591b",
   "metadata": {},
   "outputs": [
    {
     "data": {
      "text/plain": [
       "{1, 2, 3, 4, 5, 6, 7, 8, 9}"
      ]
     },
     "execution_count": 1,
     "metadata": {},
     "output_type": "execute_result"
    }
   ],
   "source": [
    "s1 = {1,2,3,4,5,6,7,8,9}\n",
    "s1"
   ]
  },
  {
   "cell_type": "code",
   "execution_count": 2,
   "id": "8a0d5100",
   "metadata": {},
   "outputs": [
    {
     "data": {
      "text/plain": [
       "{1, 2, 3, 5, 6}"
      ]
     },
     "execution_count": 2,
     "metadata": {},
     "output_type": "execute_result"
    }
   ],
   "source": [
    "s2 = {1,2,5,3,6,2}\n",
    "s2"
   ]
  },
  {
   "cell_type": "code",
   "execution_count": 3,
   "id": "0822d9f3",
   "metadata": {},
   "outputs": [
    {
     "data": {
      "text/plain": [
       "{(1, 2, 3), 1.0, 'Hello'}"
      ]
     },
     "execution_count": 3,
     "metadata": {},
     "output_type": "execute_result"
    }
   ],
   "source": [
    "s3 = {1.0, \"Hello\", (1, 2, 3)}\n",
    "s3"
   ]
  },
  {
   "cell_type": "code",
   "execution_count": 4,
   "id": "bd95e550",
   "metadata": {},
   "outputs": [
    {
     "data": {
      "text/plain": [
       "3"
      ]
     },
     "execution_count": 4,
     "metadata": {},
     "output_type": "execute_result"
    }
   ],
   "source": [
    "len(s3)"
   ]
  },
  {
   "cell_type": "code",
   "execution_count": 5,
   "id": "ba0d3464",
   "metadata": {},
   "outputs": [
    {
     "name": "stdout",
     "output_type": "stream",
     "text": [
      "{'m', 3, 'Mohammed', 15.0}\n"
     ]
    }
   ],
   "source": [
    "s4 = {15.0, \"Mohammed\", 3, 'm'}\n",
    "print(s4)"
   ]
  },
  {
   "cell_type": "code",
   "execution_count": 6,
   "id": "8951f72e",
   "metadata": {},
   "outputs": [
    {
     "data": {
      "text/plain": [
       "{15.0, 3, 'Mohammed', 'm'}"
      ]
     },
     "execution_count": 6,
     "metadata": {},
     "output_type": "execute_result"
    }
   ],
   "source": [
    "s4"
   ]
  },
  {
   "cell_type": "code",
   "execution_count": 7,
   "id": "6eab653a",
   "metadata": {},
   "outputs": [
    {
     "name": "stdout",
     "output_type": "stream",
     "text": [
      "{1, 3, 9, 25, -1}\n"
     ]
    }
   ],
   "source": [
    "print({9,-1,1,25,3,})"
   ]
  },
  {
   "cell_type": "markdown",
   "id": "e9b87f7b",
   "metadata": {},
   "source": [
    "# There is not sorting to strings in set"
   ]
  },
  {
   "cell_type": "code",
   "execution_count": 8,
   "id": "94521b51",
   "metadata": {},
   "outputs": [
    {
     "data": {
      "text/plain": [
       "{'a', 'e', 'm', 'r', 's', 't'}"
      ]
     },
     "execution_count": 8,
     "metadata": {},
     "output_type": "execute_result"
    }
   ],
   "source": [
    "s5 = {'s','m','e','r','m','t','r','a'}\n",
    "s5"
   ]
  },
  {
   "cell_type": "code",
   "execution_count": 9,
   "id": "ad1b6f3c",
   "metadata": {},
   "outputs": [
    {
     "name": "stdout",
     "output_type": "stream",
     "text": [
      "{'s', 'r', 'e', 'a', 't', 'm'}\n"
     ]
    }
   ],
   "source": [
    "print(s5)"
   ]
  },
  {
   "cell_type": "code",
   "execution_count": 10,
   "id": "74000808",
   "metadata": {},
   "outputs": [
    {
     "data": {
      "text/plain": [
       "{15.0, 3, 'Mohammed', 'm'}"
      ]
     },
     "execution_count": 10,
     "metadata": {},
     "output_type": "execute_result"
    }
   ],
   "source": [
    "s4 or s5"
   ]
  },
  {
   "cell_type": "markdown",
   "id": "e59c1719",
   "metadata": {},
   "source": [
    "# union"
   ]
  },
  {
   "cell_type": "code",
   "execution_count": 11,
   "id": "9e9248ad",
   "metadata": {},
   "outputs": [
    {
     "data": {
      "text/plain": [
       "{15.0, 3, 'Mohammed', 'a', 'e', 'm', 'r', 's', 't'}"
      ]
     },
     "execution_count": 11,
     "metadata": {},
     "output_type": "execute_result"
    }
   ],
   "source": [
    "s4|s5"
   ]
  },
  {
   "cell_type": "code",
   "execution_count": 12,
   "id": "fda54337",
   "metadata": {},
   "outputs": [
    {
     "data": {
      "text/plain": [
       "{15.0, 3, 'Mohammed', 'a', 'e', 'm', 'r', 's', 't'}"
      ]
     },
     "execution_count": 12,
     "metadata": {},
     "output_type": "execute_result"
    }
   ],
   "source": [
    "s4.union(s5)"
   ]
  },
  {
   "cell_type": "code",
   "execution_count": 13,
   "id": "fdbf8fd2",
   "metadata": {},
   "outputs": [
    {
     "data": {
      "text/plain": [
       "{15.0, 3, 'Mohammed', 'm'}"
      ]
     },
     "execution_count": 13,
     "metadata": {},
     "output_type": "execute_result"
    }
   ],
   "source": [
    "s4"
   ]
  },
  {
   "cell_type": "markdown",
   "id": "73c08ac7",
   "metadata": {},
   "source": [
    "# intersection"
   ]
  },
  {
   "cell_type": "code",
   "execution_count": 14,
   "id": "6f8a8d09",
   "metadata": {},
   "outputs": [
    {
     "data": {
      "text/plain": [
       "{'m'}"
      ]
     },
     "execution_count": 14,
     "metadata": {},
     "output_type": "execute_result"
    }
   ],
   "source": [
    "s4 & s5"
   ]
  },
  {
   "cell_type": "code",
   "execution_count": 15,
   "id": "44d81f42",
   "metadata": {},
   "outputs": [
    {
     "data": {
      "text/plain": [
       "{'m'}"
      ]
     },
     "execution_count": 15,
     "metadata": {},
     "output_type": "execute_result"
    }
   ],
   "source": [
    "s4.intersection(s5)"
   ]
  },
  {
   "cell_type": "markdown",
   "id": "f94496ba",
   "metadata": {},
   "source": [
    "# All elements except comman (symmetric_difference)"
   ]
  },
  {
   "cell_type": "code",
   "execution_count": 16,
   "id": "c659d84d",
   "metadata": {},
   "outputs": [
    {
     "data": {
      "text/plain": [
       "{15.0, 3, 'Mohammed', 'a', 'e', 'r', 's', 't'}"
      ]
     },
     "execution_count": 16,
     "metadata": {},
     "output_type": "execute_result"
    }
   ],
   "source": [
    "s4 ^ s5"
   ]
  },
  {
   "cell_type": "code",
   "execution_count": 17,
   "id": "70769b8c",
   "metadata": {},
   "outputs": [
    {
     "data": {
      "text/plain": [
       "{15.0, 3, 'Mohammed', 'a', 'e', 'r', 's', 't'}"
      ]
     },
     "execution_count": 17,
     "metadata": {},
     "output_type": "execute_result"
    }
   ],
   "source": [
    "s4.symmetric_difference(s5)"
   ]
  },
  {
   "cell_type": "markdown",
   "id": "d778ce5e",
   "metadata": {},
   "source": [
    "# difference (set1 - set2)"
   ]
  },
  {
   "cell_type": "code",
   "execution_count": 18,
   "id": "a2b8d1c9",
   "metadata": {},
   "outputs": [
    {
     "data": {
      "text/plain": [
       "{15.0, 3, 'Mohammed'}"
      ]
     },
     "execution_count": 18,
     "metadata": {},
     "output_type": "execute_result"
    }
   ],
   "source": [
    "s4 - s5"
   ]
  },
  {
   "cell_type": "code",
   "execution_count": 19,
   "id": "008dadc3",
   "metadata": {},
   "outputs": [
    {
     "data": {
      "text/plain": [
       "{15.0, 3, 'Mohammed'}"
      ]
     },
     "execution_count": 19,
     "metadata": {},
     "output_type": "execute_result"
    }
   ],
   "source": [
    "s4.difference(s5)"
   ]
  },
  {
   "cell_type": "code",
   "execution_count": 20,
   "id": "e331c35f",
   "metadata": {},
   "outputs": [
    {
     "data": {
      "text/plain": [
       "{'a', 'e', 'r', 's', 't'}"
      ]
     },
     "execution_count": 20,
     "metadata": {},
     "output_type": "execute_result"
    }
   ],
   "source": [
    "s5 - s4"
   ]
  },
  {
   "cell_type": "markdown",
   "id": "f4956b24",
   "metadata": {},
   "source": [
    "# add"
   ]
  },
  {
   "cell_type": "code",
   "execution_count": 21,
   "id": "ac73e82e",
   "metadata": {},
   "outputs": [
    {
     "data": {
      "text/plain": [
       "{2, 3, 4, 5, 9, 10}"
      ]
     },
     "execution_count": 21,
     "metadata": {},
     "output_type": "execute_result"
    }
   ],
   "source": [
    "s6 = {9,5,2,3,4,10}\n",
    "s6"
   ]
  },
  {
   "cell_type": "code",
   "execution_count": 22,
   "id": "ae307524",
   "metadata": {},
   "outputs": [
    {
     "data": {
      "text/plain": [
       "{2, 3, 4, 5, 9, 10, 11}"
      ]
     },
     "execution_count": 22,
     "metadata": {},
     "output_type": "execute_result"
    }
   ],
   "source": [
    "s6.add(11)\n",
    "s6"
   ]
  },
  {
   "cell_type": "code",
   "execution_count": 23,
   "id": "1baa60e4",
   "metadata": {},
   "outputs": [
    {
     "data": {
      "text/plain": [
       "{10, 11, 2, 3, 4, 5, 9, 'a'}"
      ]
     },
     "execution_count": 23,
     "metadata": {},
     "output_type": "execute_result"
    }
   ],
   "source": [
    "s6.add('a')\n",
    "s6"
   ]
  },
  {
   "cell_type": "code",
   "execution_count": 24,
   "id": "b5bd6b18",
   "metadata": {},
   "outputs": [
    {
     "data": {
      "text/plain": [
       "{10, 11, 2, 3, 4, 5, 9, True, 'a'}"
      ]
     },
     "execution_count": 24,
     "metadata": {},
     "output_type": "execute_result"
    }
   ],
   "source": [
    "s6.add(True)\n",
    "s6"
   ]
  },
  {
   "cell_type": "markdown",
   "id": "3dd2d47e",
   "metadata": {},
   "source": [
    "# update"
   ]
  },
  {
   "cell_type": "code",
   "execution_count": 25,
   "id": "b8f2864b",
   "metadata": {},
   "outputs": [
    {
     "data": {
      "text/plain": [
       "{10, 11, 13, 2, 22, 3, 4, 5, 66, 9, True, 'a'}"
      ]
     },
     "execution_count": 25,
     "metadata": {},
     "output_type": "execute_result"
    }
   ],
   "source": [
    "s6.update([22,13,66])\n",
    "s6"
   ]
  },
  {
   "cell_type": "code",
   "execution_count": 26,
   "id": "6cd4130a",
   "metadata": {},
   "outputs": [
    {
     "data": {
      "text/plain": [
       "{10, 11, 13, 16, 2, 22, 3, 4, 45, 48, 5, 50, 61, 66, 9, True, 'a'}"
      ]
     },
     "execution_count": 26,
     "metadata": {},
     "output_type": "execute_result"
    }
   ],
   "source": [
    "s6.update([45, 50], {16, 61, 48})\n",
    "s6"
   ]
  },
  {
   "cell_type": "code",
   "execution_count": null,
   "id": "2f1d0373",
   "metadata": {},
   "outputs": [],
   "source": []
  }
 ],
 "metadata": {
  "kernelspec": {
   "display_name": "Python 3",
   "language": "python",
   "name": "python3"
  },
  "language_info": {
   "codemirror_mode": {
    "name": "ipython",
    "version": 3
   },
   "file_extension": ".py",
   "mimetype": "text/x-python",
   "name": "python",
   "nbconvert_exporter": "python",
   "pygments_lexer": "ipython3",
   "version": "3.8.8"
  }
 },
 "nbformat": 4,
 "nbformat_minor": 5
}
