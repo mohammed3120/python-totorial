{
 "cells": [
  {
   "cell_type": "markdown",
   "id": "567740be",
   "metadata": {},
   "source": [
    "# for loop"
   ]
  },
  {
   "cell_type": "code",
   "execution_count": 1,
   "id": "fed931d0",
   "metadata": {},
   "outputs": [
    {
     "name": "stdout",
     "output_type": "stream",
     "text": [
      "0\n",
      "1\n",
      "4\n",
      "9\n",
      "16\n",
      "25\n",
      "36\n",
      "49\n",
      "64\n",
      "81\n"
     ]
    }
   ],
   "source": [
    "for e in range(10):\n",
    "    print(e**2)"
   ]
  },
  {
   "cell_type": "code",
   "execution_count": 2,
   "id": "6388a500",
   "metadata": {},
   "outputs": [
    {
     "data": {
      "text/plain": [
       "[(1, 6),\n",
       " (1, 7),\n",
       " (1, 8),\n",
       " (1, 9),\n",
       " (2, 6),\n",
       " (2, 7),\n",
       " (2, 8),\n",
       " (2, 9),\n",
       " (3, 6),\n",
       " (3, 7),\n",
       " (3, 8),\n",
       " (3, 9),\n",
       " (4, 6),\n",
       " (4, 7),\n",
       " (4, 8),\n",
       " (4, 9)]"
      ]
     },
     "execution_count": 2,
     "metadata": {},
     "output_type": "execute_result"
    }
   ],
   "source": [
    "[(x, y) for x in range(1,5) for y in range(6,10) if x != y ]"
   ]
  },
  {
   "cell_type": "code",
   "execution_count": 3,
   "id": "e6e376d4",
   "metadata": {},
   "outputs": [
    {
     "data": {
      "text/plain": [
       "26"
      ]
     },
     "execution_count": 3,
     "metadata": {},
     "output_type": "execute_result"
    }
   ],
   "source": [
    "alpha = 'abcdefghijklmnopqrstuvwxyz'\n",
    "len(alpha)"
   ]
  },
  {
   "cell_type": "code",
   "execution_count": 4,
   "id": "da051818",
   "metadata": {},
   "outputs": [
    {
     "data": {
      "text/plain": [
       "'zyxwvutsrqponmlkjihgfedcba'"
      ]
     },
     "execution_count": 4,
     "metadata": {},
     "output_type": "execute_result"
    }
   ],
   "source": [
    "reverse_alpha = ''\n",
    "for i in range(len(alpha)):\n",
    "    reverse_alpha += alpha[len(alpha) -1 -i]\n",
    "reverse_alpha"
   ]
  },
  {
   "cell_type": "code",
   "execution_count": 5,
   "id": "b196b078",
   "metadata": {},
   "outputs": [
    {
     "data": {
      "text/plain": [
       "26"
      ]
     },
     "execution_count": 5,
     "metadata": {},
     "output_type": "execute_result"
    }
   ],
   "source": [
    "len(reverse_alpha)"
   ]
  },
  {
   "cell_type": "markdown",
   "id": "964d9c38",
   "metadata": {},
   "source": [
    "# continue"
   ]
  },
  {
   "cell_type": "code",
   "execution_count": 6,
   "id": "dccb0474",
   "metadata": {},
   "outputs": [
    {
     "name": "stdout",
     "output_type": "stream",
     "text": [
      "0\n",
      "2\n",
      "4\n",
      "6\n",
      "8\n",
      "10\n",
      "12\n",
      "14\n",
      "16\n",
      "18\n"
     ]
    }
   ],
   "source": [
    "for i in range(20):\n",
    "    if i % 2 !=0:\n",
    "        continue\n",
    "    else:\n",
    "        print(i)"
   ]
  },
  {
   "cell_type": "code",
   "execution_count": 7,
   "id": "6c1f6096",
   "metadata": {},
   "outputs": [
    {
     "data": {
      "text/plain": [
       "{'k7': 49,\n",
       " 'k8': 64,\n",
       " 'k9': 81,\n",
       " 'k10': 100,\n",
       " 'k11': 121,\n",
       " 'k12': 144,\n",
       " 'k13': 169,\n",
       " 'k14': 196,\n",
       " 'k15': 225,\n",
       " 'k16': 256,\n",
       " 'k17': 289,\n",
       " 'k18': 324,\n",
       " 'k19': 361}"
      ]
     },
     "execution_count": 7,
     "metadata": {},
     "output_type": "execute_result"
    }
   ],
   "source": [
    "d1 = {'k'+str(i):i**2 for i in range(7,20)}\n",
    "d1"
   ]
  },
  {
   "cell_type": "code",
   "execution_count": 8,
   "id": "6d9b3e8e",
   "metadata": {},
   "outputs": [
    {
     "name": "stdout",
     "output_type": "stream",
     "text": [
      "k7\n",
      "k8\n",
      "k9\n",
      "k10\n",
      "k11\n",
      "k12\n",
      "k13\n",
      "k14\n",
      "k15\n",
      "k16\n",
      "k17\n",
      "k18\n",
      "k19\n"
     ]
    }
   ],
   "source": [
    "for i in d1:\n",
    "    print(i)"
   ]
  },
  {
   "cell_type": "code",
   "execution_count": 9,
   "id": "147300be",
   "metadata": {},
   "outputs": [
    {
     "name": "stdout",
     "output_type": "stream",
     "text": [
      "k7\n",
      "k8\n",
      "k9\n",
      "k10\n",
      "k11\n",
      "k12\n",
      "k13\n",
      "k14\n",
      "k15\n",
      "k16\n",
      "k17\n",
      "k18\n",
      "k19\n"
     ]
    }
   ],
   "source": [
    "for i in d1.keys():\n",
    "    print(i)"
   ]
  },
  {
   "cell_type": "code",
   "execution_count": 10,
   "id": "270723a3",
   "metadata": {},
   "outputs": [
    {
     "name": "stdout",
     "output_type": "stream",
     "text": [
      "49\n",
      "64\n",
      "81\n",
      "100\n",
      "121\n",
      "144\n",
      "169\n",
      "196\n",
      "225\n",
      "256\n",
      "289\n",
      "324\n",
      "361\n"
     ]
    }
   ],
   "source": [
    "for i in d1.values():\n",
    "    print(i)"
   ]
  },
  {
   "cell_type": "code",
   "execution_count": 11,
   "id": "f939964e",
   "metadata": {},
   "outputs": [
    {
     "name": "stdout",
     "output_type": "stream",
     "text": [
      "('k7', 49)\n",
      "('k8', 64)\n",
      "('k9', 81)\n",
      "('k10', 100)\n",
      "('k11', 121)\n",
      "('k12', 144)\n",
      "('k13', 169)\n",
      "('k14', 196)\n",
      "('k15', 225)\n",
      "('k16', 256)\n",
      "('k17', 289)\n",
      "('k18', 324)\n",
      "('k19', 361)\n"
     ]
    }
   ],
   "source": [
    "for i in d1.items():\n",
    "    print(i)"
   ]
  },
  {
   "cell_type": "code",
   "execution_count": 12,
   "id": "7338bb53",
   "metadata": {},
   "outputs": [
    {
     "name": "stdout",
     "output_type": "stream",
     "text": [
      "k7 \t 49\n",
      "------------\n",
      "k8 \t 64\n",
      "------------\n",
      "k9 \t 81\n",
      "------------\n",
      "k10 \t 100\n",
      "------------\n",
      "k11 \t 121\n",
      "------------\n",
      "k12 \t 144\n",
      "------------\n",
      "k13 \t 169\n",
      "------------\n",
      "k14 \t 196\n",
      "------------\n",
      "k15 \t 225\n",
      "------------\n",
      "k16 \t 256\n",
      "------------\n",
      "k17 \t 289\n",
      "------------\n",
      "k18 \t 324\n",
      "------------\n",
      "k19 \t 361\n",
      "------------\n"
     ]
    }
   ],
   "source": [
    "for k,v in d1.items():\n",
    "    print(k,'\\t', v)\n",
    "    print('------------')"
   ]
  },
  {
   "cell_type": "code",
   "execution_count": 13,
   "id": "224f16ad",
   "metadata": {},
   "outputs": [
    {
     "data": {
      "text/plain": [
       "['Mohammed', 'Ali', 'Sammer', 'Monther']"
      ]
     },
     "execution_count": 13,
     "metadata": {},
     "output_type": "execute_result"
    }
   ],
   "source": [
    "l1 = ['Mohammed', 'Ali', 'Sammer','Monther']\n",
    "l1"
   ]
  },
  {
   "cell_type": "code",
   "execution_count": 14,
   "id": "bae1440c",
   "metadata": {},
   "outputs": [
    {
     "name": "stdout",
     "output_type": "stream",
     "text": [
      "0 \t Mohammed\n",
      "1 \t Ali\n",
      "2 \t Sammer\n",
      "3 \t Monther\n"
     ]
    }
   ],
   "source": [
    "for i, val in enumerate(l1):\n",
    "    print(i, '\\t', val)"
   ]
  },
  {
   "cell_type": "code",
   "execution_count": 15,
   "id": "368d7c34",
   "metadata": {},
   "outputs": [
    {
     "name": "stdout",
     "output_type": "stream",
     "text": [
      "10 \t Mohammed\n",
      "11 \t Ali\n",
      "12 \t Sammer\n",
      "13 \t Monther\n"
     ]
    }
   ],
   "source": [
    "for i, val in enumerate(l1, 10):\n",
    "    print(i, '\\t', val)"
   ]
  },
  {
   "cell_type": "code",
   "execution_count": 16,
   "id": "996d4b35",
   "metadata": {},
   "outputs": [
    {
     "data": {
      "text/plain": [
       "['Syria', 'Lebanon', 'Egypt', 'Qater']"
      ]
     },
     "execution_count": 16,
     "metadata": {},
     "output_type": "execute_result"
    }
   ],
   "source": [
    "l2 = ['Syria', 'Lebanon', 'Egypt', 'Qater']\n",
    "l2"
   ]
  },
  {
   "cell_type": "code",
   "execution_count": 17,
   "id": "da2a633f",
   "metadata": {},
   "outputs": [
    {
     "name": "stdout",
     "output_type": "stream",
     "text": [
      "Mohammed \t Syria\n",
      "Ali \t Lebanon\n",
      "Sammer \t Egypt\n",
      "Monther \t Qater\n"
     ]
    }
   ],
   "source": [
    "for name, country in zip(l1, l2):\n",
    "    print(name, '\\t',  country)"
   ]
  },
  {
   "cell_type": "markdown",
   "id": "f1d60b11",
   "metadata": {},
   "source": [
    "# while loop"
   ]
  },
  {
   "cell_type": "code",
   "execution_count": 18,
   "id": "812144d5",
   "metadata": {},
   "outputs": [
    {
     "name": "stdout",
     "output_type": "stream",
     "text": [
      "10\n",
      "9\n",
      "8\n",
      "7\n",
      "6\n",
      "5\n",
      "4\n",
      "3\n",
      "2\n",
      "1\n"
     ]
    }
   ],
   "source": [
    "i = 10\n",
    "while i > 0:\n",
    "    print(i)\n",
    "    i = i - 1"
   ]
  },
  {
   "cell_type": "code",
   "execution_count": 19,
   "id": "5cd1e160",
   "metadata": {},
   "outputs": [
    {
     "name": "stdout",
     "output_type": "stream",
     "text": [
      "10\n",
      "9\n",
      "8\n",
      "7\n",
      "6\n",
      "5\n",
      "4\n",
      "3\n",
      "2\n",
      "1\n",
      "i is: 0\n"
     ]
    }
   ],
   "source": [
    "i = 10\n",
    "while i > 0:\n",
    "    print(i)\n",
    "    i = i - 1\n",
    "else:\n",
    "    print('i is:', i)"
   ]
  },
  {
   "cell_type": "code",
   "execution_count": null,
   "id": "9bb72953",
   "metadata": {},
   "outputs": [],
   "source": []
  }
 ],
 "metadata": {
  "kernelspec": {
   "display_name": "Python 3",
   "language": "python",
   "name": "python3"
  },
  "language_info": {
   "codemirror_mode": {
    "name": "ipython",
    "version": 3
   },
   "file_extension": ".py",
   "mimetype": "text/x-python",
   "name": "python",
   "nbconvert_exporter": "python",
   "pygments_lexer": "ipython3",
   "version": "3.8.8"
  }
 },
 "nbformat": 4,
 "nbformat_minor": 5
}
