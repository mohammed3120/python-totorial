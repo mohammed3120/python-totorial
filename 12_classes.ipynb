{
 "cells": [
  {
   "cell_type": "markdown",
   "id": "b9fda9ab",
   "metadata": {},
   "source": [
    "# Class"
   ]
  },
  {
   "cell_type": "code",
   "execution_count": 1,
   "id": "83d4b38a",
   "metadata": {},
   "outputs": [],
   "source": [
    "class Car:\n",
    "    model = 2001"
   ]
  },
  {
   "cell_type": "markdown",
   "id": "f3f5a5db",
   "metadata": {},
   "source": [
    "# make two copies to Car class"
   ]
  },
  {
   "cell_type": "code",
   "execution_count": 2,
   "id": "39694890",
   "metadata": {},
   "outputs": [],
   "source": [
    "car1 = Car\n",
    "car2 = Car"
   ]
  },
  {
   "cell_type": "code",
   "execution_count": 3,
   "id": "65cc85f9",
   "metadata": {},
   "outputs": [
    {
     "data": {
      "text/plain": [
       "type"
      ]
     },
     "execution_count": 3,
     "metadata": {},
     "output_type": "execute_result"
    }
   ],
   "source": [
    "type(Car)"
   ]
  },
  {
   "cell_type": "code",
   "execution_count": 4,
   "id": "7d667da6",
   "metadata": {},
   "outputs": [
    {
     "data": {
      "text/plain": [
       "type"
      ]
     },
     "execution_count": 4,
     "metadata": {},
     "output_type": "execute_result"
    }
   ],
   "source": [
    "type(car1)"
   ]
  },
  {
   "cell_type": "code",
   "execution_count": 5,
   "id": "1bd16543",
   "metadata": {},
   "outputs": [
    {
     "data": {
      "text/plain": [
       "2001"
      ]
     },
     "execution_count": 5,
     "metadata": {},
     "output_type": "execute_result"
    }
   ],
   "source": [
    "Car.model"
   ]
  },
  {
   "cell_type": "code",
   "execution_count": 6,
   "id": "620c6ce6",
   "metadata": {},
   "outputs": [
    {
     "data": {
      "text/plain": [
       "2001"
      ]
     },
     "execution_count": 6,
     "metadata": {},
     "output_type": "execute_result"
    }
   ],
   "source": [
    "car1.model"
   ]
  },
  {
   "cell_type": "code",
   "execution_count": 7,
   "id": "c4b075e3",
   "metadata": {},
   "outputs": [],
   "source": [
    "Car.model = 1900"
   ]
  },
  {
   "cell_type": "code",
   "execution_count": 8,
   "id": "822e4f2b",
   "metadata": {},
   "outputs": [
    {
     "data": {
      "text/plain": [
       "1900"
      ]
     },
     "execution_count": 8,
     "metadata": {},
     "output_type": "execute_result"
    }
   ],
   "source": [
    "Car.model"
   ]
  },
  {
   "cell_type": "code",
   "execution_count": 9,
   "id": "62fa0949",
   "metadata": {},
   "outputs": [
    {
     "data": {
      "text/plain": [
       "1900"
      ]
     },
     "execution_count": 9,
     "metadata": {},
     "output_type": "execute_result"
    }
   ],
   "source": [
    "car1.model"
   ]
  },
  {
   "cell_type": "code",
   "execution_count": 10,
   "id": "271082ef",
   "metadata": {},
   "outputs": [],
   "source": [
    "car1.model = 1950"
   ]
  },
  {
   "cell_type": "code",
   "execution_count": 11,
   "id": "74d4936a",
   "metadata": {},
   "outputs": [
    {
     "data": {
      "text/plain": [
       "1950"
      ]
     },
     "execution_count": 11,
     "metadata": {},
     "output_type": "execute_result"
    }
   ],
   "source": [
    "car1.model"
   ]
  },
  {
   "cell_type": "code",
   "execution_count": 12,
   "id": "0fb711e4",
   "metadata": {},
   "outputs": [
    {
     "data": {
      "text/plain": [
       "1950"
      ]
     },
     "execution_count": 12,
     "metadata": {},
     "output_type": "execute_result"
    }
   ],
   "source": [
    "Car.model"
   ]
  },
  {
   "cell_type": "markdown",
   "id": "43679ed6",
   "metadata": {},
   "source": [
    "# make two objects from Car class"
   ]
  },
  {
   "cell_type": "code",
   "execution_count": 13,
   "id": "0cb8e330",
   "metadata": {},
   "outputs": [],
   "source": [
    "car3 = Car()"
   ]
  },
  {
   "cell_type": "code",
   "execution_count": 14,
   "id": "84a5d71d",
   "metadata": {},
   "outputs": [],
   "source": [
    "car4 = car1()"
   ]
  },
  {
   "cell_type": "code",
   "execution_count": 15,
   "id": "db7cd67e",
   "metadata": {},
   "outputs": [
    {
     "data": {
      "text/plain": [
       "__main__.Car"
      ]
     },
     "execution_count": 15,
     "metadata": {},
     "output_type": "execute_result"
    }
   ],
   "source": [
    "type(car3)"
   ]
  },
  {
   "cell_type": "code",
   "execution_count": 16,
   "id": "29764c3a",
   "metadata": {},
   "outputs": [
    {
     "data": {
      "text/plain": [
       "__main__.Car"
      ]
     },
     "execution_count": 16,
     "metadata": {},
     "output_type": "execute_result"
    }
   ],
   "source": [
    "type(car4)"
   ]
  },
  {
   "cell_type": "code",
   "execution_count": 17,
   "id": "ba82b5e2",
   "metadata": {},
   "outputs": [
    {
     "data": {
      "text/plain": [
       "1950"
      ]
     },
     "execution_count": 17,
     "metadata": {},
     "output_type": "execute_result"
    }
   ],
   "source": [
    "car3.model"
   ]
  },
  {
   "cell_type": "code",
   "execution_count": 18,
   "id": "d8b0bce7",
   "metadata": {},
   "outputs": [],
   "source": [
    "car3.model = 3000"
   ]
  },
  {
   "cell_type": "code",
   "execution_count": 19,
   "id": "1a4861ce",
   "metadata": {},
   "outputs": [
    {
     "data": {
      "text/plain": [
       "3000"
      ]
     },
     "execution_count": 19,
     "metadata": {},
     "output_type": "execute_result"
    }
   ],
   "source": [
    "car3.model"
   ]
  },
  {
   "cell_type": "code",
   "execution_count": 20,
   "id": "1ec8e159",
   "metadata": {},
   "outputs": [
    {
     "data": {
      "text/plain": [
       "1950"
      ]
     },
     "execution_count": 20,
     "metadata": {},
     "output_type": "execute_result"
    }
   ],
   "source": [
    "car4.model"
   ]
  },
  {
   "cell_type": "code",
   "execution_count": 21,
   "id": "d7948f9a",
   "metadata": {},
   "outputs": [],
   "source": [
    "car4.model = 4000"
   ]
  },
  {
   "cell_type": "code",
   "execution_count": 22,
   "id": "f627913b",
   "metadata": {},
   "outputs": [
    {
     "data": {
      "text/plain": [
       "4000"
      ]
     },
     "execution_count": 22,
     "metadata": {},
     "output_type": "execute_result"
    }
   ],
   "source": [
    "car4.model"
   ]
  },
  {
   "cell_type": "code",
   "execution_count": 23,
   "id": "e3490099",
   "metadata": {},
   "outputs": [
    {
     "data": {
      "text/plain": [
       "1950"
      ]
     },
     "execution_count": 23,
     "metadata": {},
     "output_type": "execute_result"
    }
   ],
   "source": [
    "car1.model"
   ]
  },
  {
   "cell_type": "code",
   "execution_count": 24,
   "id": "8a68fba5",
   "metadata": {},
   "outputs": [],
   "source": [
    "class Car:\n",
    "\n",
    "    # class attribute\n",
    "    species = \"vehicle\"\n",
    "\n",
    "    # instance attribute\n",
    "    def __init__(self, name, model):\n",
    "        self.name = name\n",
    "        self.model = model"
   ]
  },
  {
   "cell_type": "code",
   "execution_count": 25,
   "id": "06ef2f4f",
   "metadata": {},
   "outputs": [],
   "source": [
    "# instantiate the Car class\n",
    "car1 = Car(\"nessan\", 1998)\n",
    "car2 = Car(\"hondai\", 2001)"
   ]
  },
  {
   "cell_type": "code",
   "execution_count": 26,
   "id": "427e0f76",
   "metadata": {},
   "outputs": [
    {
     "name": "stdout",
     "output_type": "stream",
     "text": [
      "car1 is a vehicle\n",
      "car2 is also a vehicle\n"
     ]
    }
   ],
   "source": [
    "# access the class attributes\n",
    "print(\"car1 is a {}\".format(car1.__class__.species))\n",
    "print(\"car2 is also a {}\".format(car2.__class__.species))"
   ]
  },
  {
   "cell_type": "code",
   "execution_count": 27,
   "id": "b3bbd20d",
   "metadata": {},
   "outputs": [
    {
     "name": "stdout",
     "output_type": "stream",
     "text": [
      "nessan is model 1998 \n",
      "hondai is model 2001 \n"
     ]
    }
   ],
   "source": [
    "# access the instance attributes\n",
    "print(\"{} is model {} \".format( car1.name, car1.model))\n",
    "print(\"{} is model {} \".format( car2.name, car2.model))"
   ]
  },
  {
   "cell_type": "markdown",
   "id": "9df33f5a",
   "metadata": {},
   "source": [
    "# Inheritance"
   ]
  },
  {
   "cell_type": "code",
   "execution_count": 28,
   "id": "c2a3e3c6",
   "metadata": {},
   "outputs": [],
   "source": [
    "class Polygon:\n",
    "    def __init__(self, no_of_sides):\n",
    "        self.n = no_of_sides\n",
    "        self.sides = [0 for i in range(no_of_sides)]\n",
    "\n",
    "    def inputSides(self):\n",
    "        self.sides = [float(input(\"Enter side \"+str(i+1)+\" : \")) for i in range(self.n)]\n",
    "\n",
    "    def dispSides(self):\n",
    "        for i in range(self.n):\n",
    "            print(\"Side\",i+1,\"is\",self.sides[i])"
   ]
  },
  {
   "cell_type": "code",
   "execution_count": 29,
   "id": "c19a53b8",
   "metadata": {},
   "outputs": [],
   "source": [
    "class Triangle(Polygon):\n",
    "    def __init__(self):\n",
    "        Polygon.__init__(self,3)\n",
    "\n",
    "    def findArea(self):\n",
    "        a, b, c = self.sides\n",
    "        # calculate the semi-perimeter\n",
    "        s = (a + b + c) / 2\n",
    "        area = (s*(s-a)*(s-b)*(s-c)) ** 0.5\n",
    "        print('The area of the triangle is %0.2f' %area)"
   ]
  },
  {
   "cell_type": "code",
   "execution_count": 30,
   "id": "1249ad05",
   "metadata": {},
   "outputs": [],
   "source": [
    "t1 = Triangle()"
   ]
  },
  {
   "cell_type": "code",
   "execution_count": 31,
   "id": "58bcf7f6",
   "metadata": {},
   "outputs": [
    {
     "name": "stdout",
     "output_type": "stream",
     "text": [
      "Enter side 1 : 10\n",
      "Enter side 2 : 20\n",
      "Enter side 3 : 10\n"
     ]
    }
   ],
   "source": [
    "t1.inputSides()"
   ]
  },
  {
   "cell_type": "code",
   "execution_count": 32,
   "id": "894cf4b5",
   "metadata": {},
   "outputs": [
    {
     "data": {
      "text/plain": [
       "<__main__.Triangle at 0x18ff2c7a100>"
      ]
     },
     "execution_count": 32,
     "metadata": {},
     "output_type": "execute_result"
    }
   ],
   "source": [
    "t1"
   ]
  },
  {
   "cell_type": "code",
   "execution_count": 33,
   "id": "d36eeee1",
   "metadata": {},
   "outputs": [
    {
     "name": "stdout",
     "output_type": "stream",
     "text": [
      "Side 1 is 10.0\n",
      "Side 2 is 20.0\n",
      "Side 3 is 10.0\n"
     ]
    }
   ],
   "source": [
    "t1.dispSides()"
   ]
  },
  {
   "cell_type": "code",
   "execution_count": 34,
   "id": "0552ba40",
   "metadata": {},
   "outputs": [
    {
     "name": "stdout",
     "output_type": "stream",
     "text": [
      "The area of the triangle is 0.00\n"
     ]
    }
   ],
   "source": [
    "t1.findArea()"
   ]
  },
  {
   "cell_type": "code",
   "execution_count": 35,
   "id": "10672875",
   "metadata": {},
   "outputs": [],
   "source": [
    "class Rectangle(Polygon):\n",
    "    def __init__(self):\n",
    "        Polygon.__init__(self,4)\n",
    "\n",
    "    def findArea(self):\n",
    "        hieght = max(self.sides)\n",
    "        width = min(self.sides)\n",
    "        # calculate the perimeter\n",
    "        perimeter = (hieght+ width)*2\n",
    "        area =  hieght * width\n",
    "        print('The area of the triangle is {} and the perimeter is {}'.format(area, perimeter))"
   ]
  },
  {
   "cell_type": "code",
   "execution_count": 36,
   "id": "d7b0e8bf",
   "metadata": {},
   "outputs": [],
   "source": [
    "r1 = Rectangle()"
   ]
  },
  {
   "cell_type": "code",
   "execution_count": 37,
   "id": "3f2e561a",
   "metadata": {},
   "outputs": [
    {
     "name": "stdout",
     "output_type": "stream",
     "text": [
      "Enter side 1 : 20\n",
      "Enter side 2 : 10\n",
      "Enter side 3 : 20\n",
      "Enter side 4 : 10\n"
     ]
    }
   ],
   "source": [
    "r1.inputSides()"
   ]
  },
  {
   "cell_type": "code",
   "execution_count": 38,
   "id": "7bf6edbd",
   "metadata": {},
   "outputs": [
    {
     "name": "stdout",
     "output_type": "stream",
     "text": [
      "Side 1 is 20.0\n",
      "Side 2 is 10.0\n",
      "Side 3 is 20.0\n",
      "Side 4 is 10.0\n"
     ]
    }
   ],
   "source": [
    "r1.dispSides()"
   ]
  },
  {
   "cell_type": "code",
   "execution_count": 39,
   "id": "d1f1bdd4",
   "metadata": {},
   "outputs": [
    {
     "name": "stdout",
     "output_type": "stream",
     "text": [
      "The area of the triangle is 200.0 and the perimeter is 60.0\n"
     ]
    }
   ],
   "source": [
    "r1.findArea()"
   ]
  },
  {
   "cell_type": "markdown",
   "id": "0e45ffd3",
   "metadata": {},
   "source": [
    "# isinstance"
   ]
  },
  {
   "cell_type": "code",
   "execution_count": 40,
   "id": "4b469ca4",
   "metadata": {},
   "outputs": [
    {
     "data": {
      "text/plain": [
       "True"
      ]
     },
     "execution_count": 40,
     "metadata": {},
     "output_type": "execute_result"
    }
   ],
   "source": [
    "isinstance(t1,Triangle)"
   ]
  },
  {
   "cell_type": "code",
   "execution_count": 41,
   "id": "9b83307c",
   "metadata": {},
   "outputs": [
    {
     "data": {
      "text/plain": [
       "False"
      ]
     },
     "execution_count": 41,
     "metadata": {},
     "output_type": "execute_result"
    }
   ],
   "source": [
    "isinstance(r1,Triangle)"
   ]
  },
  {
   "cell_type": "code",
   "execution_count": 42,
   "id": "f16f23df",
   "metadata": {},
   "outputs": [
    {
     "data": {
      "text/plain": [
       "True"
      ]
     },
     "execution_count": 42,
     "metadata": {},
     "output_type": "execute_result"
    }
   ],
   "source": [
    "isinstance(r1,Rectangle)"
   ]
  },
  {
   "cell_type": "markdown",
   "id": "02bcfc52",
   "metadata": {},
   "source": [
    "# issubclass"
   ]
  },
  {
   "cell_type": "code",
   "execution_count": 43,
   "id": "33746200",
   "metadata": {},
   "outputs": [
    {
     "data": {
      "text/plain": [
       "True"
      ]
     },
     "execution_count": 43,
     "metadata": {},
     "output_type": "execute_result"
    }
   ],
   "source": [
    "issubclass(bool,int)"
   ]
  },
  {
   "cell_type": "code",
   "execution_count": 44,
   "id": "81e02d99",
   "metadata": {},
   "outputs": [
    {
     "data": {
      "text/plain": [
       "True"
      ]
     },
     "execution_count": 44,
     "metadata": {},
     "output_type": "execute_result"
    }
   ],
   "source": [
    "issubclass(Triangle, Polygon)"
   ]
  },
  {
   "cell_type": "markdown",
   "id": "b408baca",
   "metadata": {},
   "source": [
    "# Multiple Inheritance"
   ]
  },
  {
   "cell_type": "code",
   "execution_count": 77,
   "id": "9bf018d2",
   "metadata": {},
   "outputs": [],
   "source": [
    "class Parent:\n",
    "    def m(self):\n",
    "        print(\"In Parent class\")\n",
    "\n",
    "class Child1(Parent):\n",
    "    def n(self):\n",
    "        print(\"In Child1 class\")\n",
    "\n",
    "class Child2(Parent):\n",
    "    def m(self):\n",
    "        print(\"In Child2 class\")\n",
    "    def f(self):\n",
    "        print(\"In Child2 class\")\n",
    "\n",
    "class Son1(Child1, Child2):\n",
    "    def m(self):\n",
    "        print(\"In Son1 class\")\n"
   ]
  },
  {
   "cell_type": "code",
   "execution_count": 78,
   "id": "caf18e23",
   "metadata": {},
   "outputs": [
    {
     "name": "stdout",
     "output_type": "stream",
     "text": [
      "In Parent class\n"
     ]
    }
   ],
   "source": [
    "obj1 = Child1()\n",
    "obj1.m()"
   ]
  },
  {
   "cell_type": "code",
   "execution_count": 79,
   "id": "1609e0b2",
   "metadata": {},
   "outputs": [
    {
     "name": "stdout",
     "output_type": "stream",
     "text": [
      "In Child1 class\n"
     ]
    }
   ],
   "source": [
    "obj1.n()"
   ]
  },
  {
   "cell_type": "code",
   "execution_count": 80,
   "id": "a591e79c",
   "metadata": {},
   "outputs": [
    {
     "name": "stdout",
     "output_type": "stream",
     "text": [
      "In Child2 class\n"
     ]
    }
   ],
   "source": [
    "obj2 = Child2()\n",
    "obj2.m()"
   ]
  },
  {
   "cell_type": "code",
   "execution_count": 81,
   "id": "4e984db7",
   "metadata": {},
   "outputs": [],
   "source": [
    "obj3 = Son1()"
   ]
  },
  {
   "cell_type": "code",
   "execution_count": 82,
   "id": "c0b32502",
   "metadata": {},
   "outputs": [
    {
     "name": "stdout",
     "output_type": "stream",
     "text": [
      "In Son1 class\n"
     ]
    }
   ],
   "source": [
    "obj3.m()"
   ]
  },
  {
   "cell_type": "code",
   "execution_count": 83,
   "id": "aa870bc2",
   "metadata": {},
   "outputs": [
    {
     "name": "stdout",
     "output_type": "stream",
     "text": [
      "In Child1 class\n"
     ]
    }
   ],
   "source": [
    "obj3.n()"
   ]
  },
  {
   "cell_type": "code",
   "execution_count": 84,
   "id": "ba21ecad",
   "metadata": {},
   "outputs": [
    {
     "name": "stdout",
     "output_type": "stream",
     "text": [
      "In Child2 class\n"
     ]
    }
   ],
   "source": [
    "obj3.f()"
   ]
  },
  {
   "cell_type": "code",
   "execution_count": 85,
   "id": "995249a8",
   "metadata": {},
   "outputs": [
    {
     "name": "stdout",
     "output_type": "stream",
     "text": [
      "[<class '__main__.Parent'>, <class 'object'>]\n"
     ]
    }
   ],
   "source": [
    "print(Parent.mro())"
   ]
  },
  {
   "cell_type": "code",
   "execution_count": 86,
   "id": "860b0ab3",
   "metadata": {},
   "outputs": [
    {
     "name": "stdout",
     "output_type": "stream",
     "text": [
      "[<class '__main__.Child1'>, <class '__main__.Parent'>, <class 'object'>]\n"
     ]
    }
   ],
   "source": [
    "print(Child1.mro())"
   ]
  },
  {
   "cell_type": "code",
   "execution_count": 87,
   "id": "b829447e",
   "metadata": {},
   "outputs": [
    {
     "name": "stdout",
     "output_type": "stream",
     "text": [
      "[<class '__main__.Child2'>, <class '__main__.Parent'>, <class 'object'>]\n"
     ]
    }
   ],
   "source": [
    "print(Child2.mro())"
   ]
  },
  {
   "cell_type": "code",
   "execution_count": 88,
   "id": "a9bd98e7",
   "metadata": {},
   "outputs": [
    {
     "name": "stdout",
     "output_type": "stream",
     "text": [
      "[<class '__main__.Son1'>, <class '__main__.Child1'>, <class '__main__.Child2'>, <class '__main__.Parent'>, <class 'object'>]\n"
     ]
    }
   ],
   "source": [
    "print(Son1.mro())"
   ]
  },
  {
   "cell_type": "markdown",
   "id": "45508f47",
   "metadata": {},
   "source": [
    "# Operator Overloading"
   ]
  },
  {
   "cell_type": "code",
   "execution_count": 92,
   "id": "722f2f98",
   "metadata": {},
   "outputs": [],
   "source": [
    "class Point:\n",
    "    def __init__(self, x=0, y=0):\n",
    "        self.x = x\n",
    "        self.y = y\n",
    "\n",
    "    def __str__(self):\n",
    "        return \"({0},{1})\".format(self.x, self.y)\n",
    "\n",
    "    def __add__(self, other):\n",
    "        x = self.x + other.x\n",
    "        y = self.y + other.y\n",
    "        return Point(x, y)"
   ]
  },
  {
   "cell_type": "code",
   "execution_count": 93,
   "id": "8bcd0c55",
   "metadata": {},
   "outputs": [
    {
     "name": "stdout",
     "output_type": "stream",
     "text": [
      "(3,5)\n"
     ]
    }
   ],
   "source": [
    "p1 = Point(1, 2)\n",
    "p2 = Point(2, 3)\n",
    "\n",
    "print(p1+p2)"
   ]
  },
  {
   "cell_type": "code",
   "execution_count": 94,
   "id": "57416d0c",
   "metadata": {},
   "outputs": [],
   "source": [
    "class Point:\n",
    "    def __init__(self, x=0, y=0):\n",
    "        self.x = x\n",
    "        self.y = y\n",
    "\n",
    "    def __str__(self):\n",
    "        return \"({0},{1})\".format(self.x, self.y)\n",
    "\n",
    "    def __add__(self, other):\n",
    "        x = self.x + other.x\n",
    "        y = self.y + other.y\n",
    "        return Point(x, y)\n",
    "    def __mul__(self, other):\n",
    "        x = self.x * other.x\n",
    "        y = self.y * other.y\n",
    "        return Point(x, y)"
   ]
  },
  {
   "cell_type": "code",
   "execution_count": 95,
   "id": "0f78c831",
   "metadata": {},
   "outputs": [
    {
     "name": "stdout",
     "output_type": "stream",
     "text": [
      "(2,6)\n"
     ]
    }
   ],
   "source": [
    "p1 = Point(1, 2)\n",
    "p2 = Point(2, 3)\n",
    "\n",
    "print(p1*p2)"
   ]
  },
  {
   "cell_type": "code",
   "execution_count": 97,
   "id": "f2fff4d8",
   "metadata": {
    "scrolled": true
   },
   "outputs": [
    {
     "name": "stdout",
     "output_type": "stream",
     "text": [
      "(2,6)\n"
     ]
    }
   ],
   "source": [
    "print(p1*p2)"
   ]
  },
  {
   "attachments": {
    "OperatorOverloading.png": {
     "image/png": "[encoded data removed]"
    }
   },
   "cell_type": "markdown",
   "id": "e7e08a8e",
   "metadata": {},
   "source": [
    "![OperatorOverloading.png](attachment:OperatorOverloading.png)"
   ]
  },
  {
   "cell_type": "code",
   "execution_count": null,
   "id": "a51a2216",
   "metadata": {},
   "outputs": [],
   "source": []
  }
 ],
 "metadata": {
  "kernelspec": {
   "display_name": "Python 3",
   "language": "python",
   "name": "python3"
  },
  "language_info": {
   "codemirror_mode": {
    "name": "ipython",
    "version": 3
   },
   "file_extension": ".py",
   "mimetype": "text/x-python",
   "name": "python",
   "nbconvert_exporter": "python",
   "pygments_lexer": "ipython3",
   "version": "3.8.8"
  }
 },
 "nbformat": 4,
 "nbformat_minor": 5
}
