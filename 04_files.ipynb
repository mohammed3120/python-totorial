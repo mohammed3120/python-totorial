{
 "cells": [
  {
   "cell_type": "markdown",
   "id": "b8004ed2",
   "metadata": {},
   "source": [
    "# open file and write on it"
   ]
  },
  {
   "cell_type": "code",
   "execution_count": 1,
   "id": "c41a3e53",
   "metadata": {},
   "outputs": [],
   "source": [
    "# I created folder and named it 'files'\n",
    "f1 = open('files\\\\file1.txt', 'w')\n",
    "f1.write('python toturial')\n",
    "f1.close()"
   ]
  },
  {
   "cell_type": "markdown",
   "id": "43adfb91",
   "metadata": {},
   "source": [
    "# Append text to file"
   ]
  },
  {
   "cell_type": "code",
   "execution_count": 2,
   "id": "4bc6b6b0",
   "metadata": {},
   "outputs": [],
   "source": [
    "f2 = open('files\\\\file1.txt', 'a')\n",
    "f2.write('\\n2022')\n",
    "f2.close()"
   ]
  },
  {
   "cell_type": "markdown",
   "id": "580b0cd8",
   "metadata": {},
   "source": [
    "# Read text file"
   ]
  },
  {
   "cell_type": "code",
   "execution_count": 3,
   "id": "e2aeb30a",
   "metadata": {},
   "outputs": [
    {
     "name": "stdout",
     "output_type": "stream",
     "text": [
      "python toturial\n",
      "\n",
      "2022\n"
     ]
    }
   ],
   "source": [
    "f3 = open('files\\\\file1.txt', 'r')\n",
    "for line in f3:\n",
    "    print(line)\n",
    "f3.close()"
   ]
  },
  {
   "cell_type": "markdown",
   "id": "3d7385d9",
   "metadata": {},
   "source": [
    "# Write to CSV file"
   ]
  },
  {
   "cell_type": "code",
   "execution_count": 4,
   "id": "8a3710a0",
   "metadata": {},
   "outputs": [],
   "source": [
    "f4 = open('files\\\\file2.csv', 'w')\n",
    "f4.write('Name')\n",
    "f4.write('\\nMohammed')\n",
    "f4.write('\\nAhmmed')\n",
    "f4.write('\\nOmar')\n",
    "f4.write('\\nRasheed')\n",
    "f4.close()"
   ]
  },
  {
   "cell_type": "markdown",
   "id": "344df6a5",
   "metadata": {},
   "source": [
    "# Appent to CSV file"
   ]
  },
  {
   "cell_type": "code",
   "execution_count": 5,
   "id": "5816eac2",
   "metadata": {},
   "outputs": [],
   "source": [
    "f5 = open('files\\\\file2.csv', 'a')\n",
    "f5.write('\\nSammer')\n",
    "f5.close()"
   ]
  },
  {
   "cell_type": "markdown",
   "id": "c89b8545",
   "metadata": {},
   "source": [
    "# Read CSV file"
   ]
  },
  {
   "cell_type": "code",
   "execution_count": 6,
   "id": "537a95ae",
   "metadata": {},
   "outputs": [
    {
     "name": "stdout",
     "output_type": "stream",
     "text": [
      "Name\n",
      "\n",
      "Mohammed\n",
      "\n",
      "Ahmmed\n",
      "\n",
      "Omar\n",
      "\n",
      "Rasheed\n",
      "\n",
      "Sammer\n"
     ]
    }
   ],
   "source": [
    "f6 = open('files\\\\file2.csv', 'r')\n",
    "for line in f6:\n",
    "    print(line)\n",
    "f6.close()"
   ]
  },
  {
   "cell_type": "markdown",
   "id": "1fa52476",
   "metadata": {},
   "source": [
    "# Write to Excel file"
   ]
  },
  {
   "cell_type": "code",
   "execution_count": 7,
   "id": "7ab39cca",
   "metadata": {},
   "outputs": [],
   "source": [
    "f7 = open('files\\\\file3.xls', 'w')\n",
    "f7.write('Name')\n",
    "f7.write('\\nMohammed')\n",
    "f7.write('\\nAhmmed')\n",
    "f7.write('\\nOmar')\n",
    "f7.write('\\nRasheed')\n",
    "f7.close()"
   ]
  },
  {
   "cell_type": "markdown",
   "id": "51ee1ee3",
   "metadata": {},
   "source": [
    "# Appent to Excel file"
   ]
  },
  {
   "cell_type": "code",
   "execution_count": 8,
   "id": "2a2e1b8c",
   "metadata": {},
   "outputs": [],
   "source": [
    "f8 = open('files\\\\file3.xls', 'a')\n",
    "f8.write('\\nSammer')\n",
    "f8.close()"
   ]
  },
  {
   "cell_type": "markdown",
   "id": "187888e2",
   "metadata": {},
   "source": [
    "# Read CSV file"
   ]
  },
  {
   "cell_type": "code",
   "execution_count": 9,
   "id": "b013482c",
   "metadata": {},
   "outputs": [
    {
     "name": "stdout",
     "output_type": "stream",
     "text": [
      "Name\n",
      "\n",
      "Mohammed\n",
      "\n",
      "Ahmmed\n",
      "\n",
      "Omar\n",
      "\n",
      "Rasheed\n",
      "\n",
      "Sammer\n"
     ]
    }
   ],
   "source": [
    "f9 = open('files\\\\file3.xls', 'r')\n",
    "for line in f9:\n",
    "    print(line)\n",
    "f9.close()"
   ]
  },
  {
   "cell_type": "markdown",
   "id": "3624ee0f",
   "metadata": {},
   "source": [
    "# Get path"
   ]
  },
  {
   "cell_type": "code",
   "execution_count": 10,
   "id": "1f300b2f",
   "metadata": {},
   "outputs": [],
   "source": [
    "import os"
   ]
  },
  {
   "cell_type": "code",
   "execution_count": 11,
   "id": "c89b3dca",
   "metadata": {},
   "outputs": [
    {
     "data": {
      "text/plain": [
       "'C:\\\\Users\\\\mohammed\\\\Desktop\\\\python-totorial'"
      ]
     },
     "execution_count": 11,
     "metadata": {},
     "output_type": "execute_result"
    }
   ],
   "source": [
    "os.getcwd()"
   ]
  },
  {
   "cell_type": "markdown",
   "id": "eb3bd210",
   "metadata": {},
   "source": [
    "# Make new folder"
   ]
  },
  {
   "cell_type": "code",
   "execution_count": 12,
   "id": "3ee2492f",
   "metadata": {},
   "outputs": [],
   "source": [
    "os.makedirs('files2', exist_ok = True) # if exist_ok = True if folder is exist then overwite it , if False create it\n",
    "                                        # if exist_ok = False if folder is exist it will be wrong"
   ]
  },
  {
   "cell_type": "markdown",
   "id": "12535e48",
   "metadata": {},
   "source": [
    "# Check if the file or folder is existed or not"
   ]
  },
  {
   "cell_type": "code",
   "execution_count": 13,
   "id": "c08604ef",
   "metadata": {},
   "outputs": [
    {
     "data": {
      "text/plain": [
       "True"
      ]
     },
     "execution_count": 13,
     "metadata": {},
     "output_type": "execute_result"
    }
   ],
   "source": [
    "os.path.exists('files2')"
   ]
  },
  {
   "cell_type": "code",
   "execution_count": 14,
   "id": "dd7d2c04",
   "metadata": {},
   "outputs": [
    {
     "data": {
      "text/plain": [
       "True"
      ]
     },
     "execution_count": 14,
     "metadata": {},
     "output_type": "execute_result"
    }
   ],
   "source": [
    "os.path.exists('files\\\\file3.xls')"
   ]
  },
  {
   "cell_type": "markdown",
   "id": "4aaef361",
   "metadata": {},
   "source": [
    "# Copy file "
   ]
  },
  {
   "cell_type": "code",
   "execution_count": 15,
   "id": "47ef6c55",
   "metadata": {},
   "outputs": [],
   "source": [
    "import shutil as sh"
   ]
  },
  {
   "cell_type": "code",
   "execution_count": 16,
   "id": "09440047",
   "metadata": {},
   "outputs": [
    {
     "data": {
      "text/plain": [
       "'files\\\\file4.xls'"
      ]
     },
     "execution_count": 16,
     "metadata": {},
     "output_type": "execute_result"
    }
   ],
   "source": [
    "sh.copyfile('files\\\\file3.xls' , 'files\\\\file4.xls')"
   ]
  },
  {
   "cell_type": "markdown",
   "id": "23434c0c",
   "metadata": {},
   "source": [
    "# copy folder with containts "
   ]
  },
  {
   "cell_type": "code",
   "execution_count": 17,
   "id": "2f0a080f",
   "metadata": {},
   "outputs": [
    {
     "data": {
      "text/plain": [
       "'files2\\\\files3'"
      ]
     },
     "execution_count": 17,
     "metadata": {},
     "output_type": "execute_result"
    }
   ],
   "source": [
    "sh.copytree('files', 'files2\\\\files3')"
   ]
  },
  {
   "cell_type": "markdown",
   "id": "85dd5d67",
   "metadata": {},
   "source": [
    "# move file and folder"
   ]
  },
  {
   "cell_type": "code",
   "execution_count": 18,
   "id": "a025d913",
   "metadata": {},
   "outputs": [
    {
     "data": {
      "text/plain": [
       "'files3'"
      ]
     },
     "execution_count": 18,
     "metadata": {},
     "output_type": "execute_result"
    }
   ],
   "source": [
    "sh.move('files2\\\\files3', 'files3')"
   ]
  },
  {
   "cell_type": "code",
   "execution_count": 19,
   "id": "caa331d3",
   "metadata": {},
   "outputs": [
    {
     "data": {
      "text/plain": [
       "'files2\\\\file2.txt'"
      ]
     },
     "execution_count": 19,
     "metadata": {},
     "output_type": "execute_result"
    }
   ],
   "source": [
    "sh.move('files3\\\\file1.txt', 'files2\\\\file2.txt')"
   ]
  }
 ],
 "metadata": {
  "kernelspec": {
   "display_name": "Python 3",
   "language": "python",
   "name": "python3"
  },
  "language_info": {
   "codemirror_mode": {
    "name": "ipython",
    "version": 3
   },
   "file_extension": ".py",
   "mimetype": "text/x-python",
   "name": "python",
   "nbconvert_exporter": "python",
   "pygments_lexer": "ipython3",
   "version": "3.8.8"
  }
 },
 "nbformat": 4,
 "nbformat_minor": 5
}
