{
 "cells": [
  {
   "cell_type": "code",
   "execution_count": 1,
   "id": "7e37c6df",
   "metadata": {},
   "outputs": [],
   "source": [
    "import math"
   ]
  },
  {
   "cell_type": "markdown",
   "id": "90ce8191",
   "metadata": {},
   "source": [
    "## math.ceil(x)"
   ]
  },
  {
   "cell_type": "code",
   "execution_count": 2,
   "id": "8c677e0a",
   "metadata": {},
   "outputs": [
    {
     "data": {
      "text/plain": [
       "3"
      ]
     },
     "execution_count": 2,
     "metadata": {},
     "output_type": "execute_result"
    }
   ],
   "source": [
    "x = 2.4\n",
    "math.ceil(x)"
   ]
  },
  {
   "cell_type": "markdown",
   "id": "fde86a41",
   "metadata": {},
   "source": [
    "## math.floor(x)"
   ]
  },
  {
   "cell_type": "code",
   "execution_count": 3,
   "id": "5c238b4b",
   "metadata": {},
   "outputs": [
    {
     "data": {
      "text/plain": [
       "2"
      ]
     },
     "execution_count": 3,
     "metadata": {},
     "output_type": "execute_result"
    }
   ],
   "source": [
    "math.floor(x)"
   ]
  },
  {
   "cell_type": "markdown",
   "id": "70177fe5",
   "metadata": {},
   "source": [
    "## factorial (العاملي)"
   ]
  },
  {
   "cell_type": "code",
   "execution_count": 4,
   "id": "98e7193f",
   "metadata": {},
   "outputs": [
    {
     "data": {
      "text/plain": [
       "120"
      ]
     },
     "execution_count": 4,
     "metadata": {},
     "output_type": "execute_result"
    }
   ],
   "source": [
    "math.factorial(5) #x sould be integer number #5! = 5*4*3*2*4 = 120"
   ]
  },
  {
   "cell_type": "markdown",
   "id": "53f73f79",
   "metadata": {},
   "source": [
    "## combinations  (التوافيق)"
   ]
  },
  {
   "cell_type": "code",
   "execution_count": 5,
   "id": "d87a8a47",
   "metadata": {},
   "outputs": [
    {
     "data": {
      "text/plain": [
       "15"
      ]
     },
     "execution_count": 5,
     "metadata": {},
     "output_type": "execute_result"
    }
   ],
   "source": [
    "int(math.factorial(6)/(math.factorial(6-2)*math.factorial(2)))  #  6! / (6-2)! * 2!"
   ]
  },
  {
   "cell_type": "code",
   "execution_count": 6,
   "id": "9d9ba746",
   "metadata": {},
   "outputs": [
    {
     "data": {
      "text/plain": [
       "15"
      ]
     },
     "execution_count": 6,
     "metadata": {},
     "output_type": "execute_result"
    }
   ],
   "source": [
    "math.comb(6, 2)   #  6! / (6-2)! * 2!"
   ]
  },
  {
   "cell_type": "code",
   "execution_count": 7,
   "id": "1e3b353a",
   "metadata": {},
   "outputs": [
    {
     "data": {
      "text/plain": [
       "161700"
      ]
     },
     "execution_count": 7,
     "metadata": {},
     "output_type": "execute_result"
    }
   ],
   "source": [
    "math.comb(100, 3)  #  100! / (100-3)! * 3!"
   ]
  },
  {
   "cell_type": "markdown",
   "id": "1bd2cc8c",
   "metadata": {},
   "source": [
    "## copy sign"
   ]
  },
  {
   "cell_type": "markdown",
   "id": "f8af434e",
   "metadata": {},
   "source": [
    "Return a float with the magnitude (absolute value) of x but the sign of y. On platforms that support signed zeros, copysign(1.0, -0.0) returns -1.0."
   ]
  },
  {
   "cell_type": "code",
   "execution_count": 8,
   "id": "39be4825",
   "metadata": {
    "scrolled": true
   },
   "outputs": [
    {
     "data": {
      "text/plain": [
       "-2.4"
      ]
     },
     "execution_count": 8,
     "metadata": {},
     "output_type": "execute_result"
    }
   ],
   "source": [
    "math.copysign(x, -3)"
   ]
  },
  {
   "cell_type": "markdown",
   "id": "8be4d162",
   "metadata": {},
   "source": [
    "## Absolute"
   ]
  },
  {
   "cell_type": "markdown",
   "id": "eda9d5d9",
   "metadata": {},
   "source": [
    "Return absolute value as float"
   ]
  },
  {
   "cell_type": "code",
   "execution_count": 9,
   "id": "0ba6330b",
   "metadata": {},
   "outputs": [
    {
     "data": {
      "text/plain": [
       "2.4"
      ]
     },
     "execution_count": 9,
     "metadata": {},
     "output_type": "execute_result"
    }
   ],
   "source": [
    "math.fabs(-x)"
   ]
  },
  {
   "cell_type": "code",
   "execution_count": 10,
   "id": "4cbfaf2f",
   "metadata": {},
   "outputs": [
    {
     "data": {
      "text/plain": [
       "10.0"
      ]
     },
     "execution_count": 10,
     "metadata": {},
     "output_type": "execute_result"
    }
   ],
   "source": [
    "math.fabs(-10)    # float  absolute"
   ]
  },
  {
   "cell_type": "markdown",
   "id": "1d5f17ff",
   "metadata": {},
   "source": [
    "## fmod"
   ]
  },
  {
   "cell_type": "code",
   "execution_count": 11,
   "id": "7d2e3b20",
   "metadata": {},
   "outputs": [
    {
     "data": {
      "text/plain": [
       "1.0"
      ]
     },
     "execution_count": 11,
     "metadata": {},
     "output_type": "execute_result"
    }
   ],
   "source": [
    "math.fmod(10, 3) # 10 % 3 = 1 as float"
   ]
  },
  {
   "cell_type": "markdown",
   "id": "f2279754",
   "metadata": {},
   "source": [
    "## fsum"
   ]
  },
  {
   "cell_type": "code",
   "execution_count": 12,
   "id": "3a41b3fa",
   "metadata": {},
   "outputs": [
    {
     "data": {
      "text/plain": [
       "0.9999999999999999"
      ]
     },
     "execution_count": 12,
     "metadata": {},
     "output_type": "execute_result"
    }
   ],
   "source": [
    "sum([.1, .1, .1, .1, .1, .1, .1, .1, .1, .1])"
   ]
  },
  {
   "cell_type": "code",
   "execution_count": 13,
   "id": "452f2206",
   "metadata": {},
   "outputs": [
    {
     "data": {
      "text/plain": [
       "1.0"
      ]
     },
     "execution_count": 13,
     "metadata": {},
     "output_type": "execute_result"
    }
   ],
   "source": [
    "math.fsum([.1, .1, .1, .1, .1, .1, .1, .1, .1, .1])"
   ]
  },
  {
   "cell_type": "markdown",
   "id": "54738811",
   "metadata": {},
   "source": [
    "## Greatest Common Divisor"
   ]
  },
  {
   "cell_type": "code",
   "execution_count": 14,
   "id": "e252c09c",
   "metadata": {},
   "outputs": [
    {
     "name": "stdout",
     "output_type": "stream",
     "text": [
      "The gcd of 60 and 48 is : 12\n"
     ]
    }
   ],
   "source": [
    "print (\"The gcd of 60 and 48 is : \", end =\"\") \n",
    "print (math.gcd(60, 48)) "
   ]
  },
  {
   "cell_type": "code",
   "execution_count": 15,
   "id": "30800d98",
   "metadata": {},
   "outputs": [],
   "source": [
    "x = 9"
   ]
  },
  {
   "cell_type": "markdown",
   "id": "c73b5ab9",
   "metadata": {},
   "source": [
    "## isnan"
   ]
  },
  {
   "cell_type": "code",
   "execution_count": 16,
   "id": "913d64e9",
   "metadata": {
    "scrolled": true
   },
   "outputs": [
    {
     "data": {
      "text/plain": [
       "False"
      ]
     },
     "execution_count": 16,
     "metadata": {},
     "output_type": "execute_result"
    }
   ],
   "source": [
    "math.isnan(x)"
   ]
  },
  {
   "cell_type": "markdown",
   "id": "edd389d2",
   "metadata": {},
   "source": [
    "## math.sqrt(x)"
   ]
  },
  {
   "cell_type": "markdown",
   "id": "e2f6a310",
   "metadata": {},
   "source": [
    "Return the square root of x."
   ]
  },
  {
   "cell_type": "code",
   "execution_count": 17,
   "id": "b1ef96e4",
   "metadata": {},
   "outputs": [
    {
     "data": {
      "text/plain": [
       "13.0"
      ]
     },
     "execution_count": 17,
     "metadata": {},
     "output_type": "execute_result"
    }
   ],
   "source": [
    "x = 169\n",
    "math.sqrt(x)"
   ]
  },
  {
   "cell_type": "markdown",
   "id": "39cdabfc",
   "metadata": {},
   "source": [
    "## isqrt"
   ]
  },
  {
   "cell_type": "code",
   "execution_count": 18,
   "id": "4cd6e39e",
   "metadata": {},
   "outputs": [
    {
     "data": {
      "text/plain": [
       "13"
      ]
     },
     "execution_count": 18,
     "metadata": {},
     "output_type": "execute_result"
    }
   ],
   "source": [
    "math.isqrt(x)"
   ]
  },
  {
   "cell_type": "code",
   "execution_count": 19,
   "id": "fee276ce",
   "metadata": {},
   "outputs": [
    {
     "data": {
      "text/plain": [
       "3"
      ]
     },
     "execution_count": 19,
     "metadata": {},
     "output_type": "execute_result"
    }
   ],
   "source": [
    "math.isqrt(9)"
   ]
  },
  {
   "cell_type": "code",
   "execution_count": 20,
   "id": "29a4059c",
   "metadata": {},
   "outputs": [
    {
     "data": {
      "text/plain": [
       "4"
      ]
     },
     "execution_count": 20,
     "metadata": {},
     "output_type": "execute_result"
    }
   ],
   "source": [
    "math.isqrt(19) # math.isqrt(19)  19 = 16 + 3 to will retuen squre of 16 == 4 "
   ]
  },
  {
   "cell_type": "markdown",
   "id": "0c3b4394",
   "metadata": {},
   "source": [
    "## remainder"
   ]
  },
  {
   "cell_type": "code",
   "execution_count": 21,
   "id": "e7ee6e16",
   "metadata": {},
   "outputs": [],
   "source": [
    "x, y = 13,10"
   ]
  },
  {
   "cell_type": "code",
   "execution_count": 22,
   "id": "7ef23d39",
   "metadata": {
    "scrolled": true
   },
   "outputs": [
    {
     "data": {
      "text/plain": [
       "3"
      ]
     },
     "execution_count": 22,
     "metadata": {},
     "output_type": "execute_result"
    }
   ],
   "source": [
    "x % y"
   ]
  },
  {
   "cell_type": "code",
   "execution_count": 23,
   "id": "8bea8593",
   "metadata": {},
   "outputs": [
    {
     "data": {
      "text/plain": [
       "3.0"
      ]
     },
     "execution_count": 23,
     "metadata": {},
     "output_type": "execute_result"
    }
   ],
   "source": [
    "math.remainder(x, y)"
   ]
  },
  {
   "cell_type": "markdown",
   "id": "fa593fa8",
   "metadata": {},
   "source": [
    "## trunc "
   ]
  },
  {
   "cell_type": "markdown",
   "id": "740f68fc",
   "metadata": {},
   "source": [
    "return the real value of number # for example : 2.5 it retured 2"
   ]
  },
  {
   "cell_type": "code",
   "execution_count": 24,
   "id": "45520878",
   "metadata": {},
   "outputs": [
    {
     "data": {
      "text/plain": [
       "2"
      ]
     },
     "execution_count": 24,
     "metadata": {},
     "output_type": "execute_result"
    }
   ],
   "source": [
    "math.trunc(2.5)"
   ]
  },
  {
   "cell_type": "code",
   "execution_count": 25,
   "id": "bf291cd1",
   "metadata": {},
   "outputs": [
    {
     "data": {
      "text/plain": [
       "2"
      ]
     },
     "execution_count": 25,
     "metadata": {},
     "output_type": "execute_result"
    }
   ],
   "source": [
    "math.trunc(2.9)"
   ]
  },
  {
   "cell_type": "code",
   "execution_count": 26,
   "id": "8239863d",
   "metadata": {},
   "outputs": [
    {
     "data": {
      "text/plain": [
       "2"
      ]
     },
     "execution_count": 26,
     "metadata": {},
     "output_type": "execute_result"
    }
   ],
   "source": [
    "math.trunc(2.1)"
   ]
  },
  {
   "cell_type": "markdown",
   "id": "4c9d5e08",
   "metadata": {},
   "source": [
    "## exp"
   ]
  },
  {
   "cell_type": "markdown",
   "id": "3ee89271",
   "metadata": {},
   "source": [
    "return math.e ** x"
   ]
  },
  {
   "cell_type": "code",
   "execution_count": 27,
   "id": "292c0dc9",
   "metadata": {},
   "outputs": [
    {
     "data": {
      "text/plain": [
       "7.38905609893065"
      ]
     },
     "execution_count": 27,
     "metadata": {},
     "output_type": "execute_result"
    }
   ],
   "source": [
    "x = 2\n",
    "math.exp(x)"
   ]
  },
  {
   "cell_type": "markdown",
   "id": "bf966431",
   "metadata": {},
   "source": [
    "## math.log(x, base = math.e)"
   ]
  },
  {
   "cell_type": "markdown",
   "id": "0f3a0181",
   "metadata": {},
   "source": [
    "log(x) == ln(x) where base is e"
   ]
  },
  {
   "cell_type": "code",
   "execution_count": 28,
   "id": "ac6553a0",
   "metadata": {},
   "outputs": [
    {
     "data": {
      "text/plain": [
       "1.0986122886681098"
      ]
     },
     "execution_count": 28,
     "metadata": {},
     "output_type": "execute_result"
    }
   ],
   "source": [
    "x = 3\n",
    "math.log(x)"
   ]
  },
  {
   "cell_type": "code",
   "execution_count": 29,
   "id": "c4c3d87e",
   "metadata": {},
   "outputs": [
    {
     "data": {
      "text/plain": [
       "1.2549471261506067"
      ]
     },
     "execution_count": 29,
     "metadata": {},
     "output_type": "execute_result"
    }
   ],
   "source": [
    "x, base = 25, 13\n",
    "math.log(x,base)"
   ]
  },
  {
   "cell_type": "markdown",
   "id": "36fc4649",
   "metadata": {},
   "source": [
    "## math.log2(x)"
   ]
  },
  {
   "cell_type": "markdown",
   "id": "1cfa5f6e",
   "metadata": {},
   "source": [
    "base equal to 2"
   ]
  },
  {
   "cell_type": "code",
   "execution_count": 30,
   "id": "a623bf41",
   "metadata": {},
   "outputs": [
    {
     "data": {
      "text/plain": [
       "2.321928094887362"
      ]
     },
     "execution_count": 30,
     "metadata": {},
     "output_type": "execute_result"
    }
   ],
   "source": [
    "x = 5\n",
    "math.log2(x)"
   ]
  },
  {
   "cell_type": "markdown",
   "id": "f71c1fee",
   "metadata": {},
   "source": [
    "## math.log10(x)"
   ]
  },
  {
   "cell_type": "markdown",
   "id": "181da3d5",
   "metadata": {},
   "source": [
    "base equal to 10"
   ]
  },
  {
   "cell_type": "code",
   "execution_count": 31,
   "id": "2fa52fda",
   "metadata": {},
   "outputs": [
    {
     "data": {
      "text/plain": [
       "0.7781512503836436"
      ]
     },
     "execution_count": 31,
     "metadata": {},
     "output_type": "execute_result"
    }
   ],
   "source": [
    "x = 6\n",
    "math.log10(x)"
   ]
  },
  {
   "cell_type": "markdown",
   "id": "67e2843e",
   "metadata": {},
   "source": [
    "## math.pow(x, y)"
   ]
  },
  {
   "cell_type": "markdown",
   "id": "37178af0",
   "metadata": {},
   "source": [
    "return x**y"
   ]
  },
  {
   "cell_type": "code",
   "execution_count": 32,
   "id": "dda78201",
   "metadata": {},
   "outputs": [
    {
     "data": {
      "text/plain": [
       "81.0"
      ]
     },
     "execution_count": 32,
     "metadata": {},
     "output_type": "execute_result"
    }
   ],
   "source": [
    "x, y = 3,4 \n",
    "math.pow(x, y)"
   ]
  },
  {
   "cell_type": "markdown",
   "id": "fb4a7c19",
   "metadata": {},
   "source": [
    "# Angular conversion"
   ]
  },
  {
   "cell_type": "markdown",
   "id": "0feceb2f",
   "metadata": {},
   "source": [
    "### math.radians(x)"
   ]
  },
  {
   "cell_type": "markdown",
   "id": "803a2cd2",
   "metadata": {},
   "source": [
    "#### Convert angle x from degrees to radians."
   ]
  },
  {
   "cell_type": "code",
   "execution_count": 33,
   "id": "ebba47f4",
   "metadata": {},
   "outputs": [
    {
     "data": {
      "text/plain": [
       "3.141592653589793"
      ]
     },
     "execution_count": 33,
     "metadata": {},
     "output_type": "execute_result"
    }
   ],
   "source": [
    "rd = math.radians(180)\n",
    "rd"
   ]
  },
  {
   "cell_type": "markdown",
   "id": "298f4afa",
   "metadata": {},
   "source": [
    "### math.degrees(x)\n"
   ]
  },
  {
   "cell_type": "markdown",
   "id": "12567b3e",
   "metadata": {},
   "source": [
    "#### Convert angle x from radians to degrees."
   ]
  },
  {
   "cell_type": "code",
   "execution_count": 34,
   "id": "d2f4ad35",
   "metadata": {},
   "outputs": [
    {
     "data": {
      "text/plain": [
       "180.0"
      ]
     },
     "execution_count": 34,
     "metadata": {},
     "output_type": "execute_result"
    }
   ],
   "source": [
    "dg = math.degrees(rd)\n",
    "dg"
   ]
  },
  {
   "cell_type": "markdown",
   "id": "7a10c896",
   "metadata": {},
   "source": [
    "# Trigonometric functions"
   ]
  },
  {
   "cell_type": "code",
   "execution_count": 35,
   "id": "1368a21e",
   "metadata": {},
   "outputs": [
    {
     "data": {
      "text/plain": [
       "-1.0"
      ]
     },
     "execution_count": 35,
     "metadata": {},
     "output_type": "execute_result"
    }
   ],
   "source": [
    "math.cos(rd)"
   ]
  },
  {
   "cell_type": "code",
   "execution_count": 36,
   "id": "6522f2bf",
   "metadata": {},
   "outputs": [
    {
     "data": {
      "text/plain": [
       "1.2246467991473532e-16"
      ]
     },
     "execution_count": 36,
     "metadata": {},
     "output_type": "execute_result"
    }
   ],
   "source": [
    "math.sin(rd)"
   ]
  },
  {
   "cell_type": "code",
   "execution_count": 37,
   "id": "d4c30158",
   "metadata": {},
   "outputs": [
    {
     "data": {
      "text/plain": [
       "-1.2246467991473532e-16"
      ]
     },
     "execution_count": 37,
     "metadata": {},
     "output_type": "execute_result"
    }
   ],
   "source": [
    "math.tan(rd)"
   ]
  },
  {
   "cell_type": "markdown",
   "id": "b4cdef42",
   "metadata": {},
   "source": [
    "## math.pi"
   ]
  },
  {
   "cell_type": "code",
   "execution_count": 38,
   "id": "bdeb1ec6",
   "metadata": {},
   "outputs": [
    {
     "data": {
      "text/plain": [
       "6.283185307179586"
      ]
     },
     "execution_count": 38,
     "metadata": {},
     "output_type": "execute_result"
    }
   ],
   "source": [
    "2*math.pi"
   ]
  },
  {
   "cell_type": "markdown",
   "id": "c5856199",
   "metadata": {},
   "source": [
    "# math.tau"
   ]
  },
  {
   "cell_type": "markdown",
   "id": "f3849055",
   "metadata": {},
   "source": [
    "#### math.tau == 2*math.pi"
   ]
  },
  {
   "cell_type": "code",
   "execution_count": 39,
   "id": "be854f4c",
   "metadata": {},
   "outputs": [
    {
     "data": {
      "text/plain": [
       "6.283185307179586"
      ]
     },
     "execution_count": 39,
     "metadata": {},
     "output_type": "execute_result"
    }
   ],
   "source": [
    "math.tau "
   ]
  },
  {
   "cell_type": "code",
   "execution_count": 40,
   "id": "29a22b46",
   "metadata": {},
   "outputs": [
    {
     "data": {
      "text/plain": [
       "6.283185307179586"
      ]
     },
     "execution_count": 40,
     "metadata": {},
     "output_type": "execute_result"
    }
   ],
   "source": [
    "2*math.pi"
   ]
  },
  {
   "cell_type": "markdown",
   "id": "c9801688",
   "metadata": {},
   "source": [
    "## math.inf"
   ]
  },
  {
   "cell_type": "code",
   "execution_count": 41,
   "id": "6619981a",
   "metadata": {},
   "outputs": [
    {
     "data": {
      "text/plain": [
       "inf"
      ]
     },
     "execution_count": 41,
     "metadata": {},
     "output_type": "execute_result"
    }
   ],
   "source": [
    "math.inf"
   ]
  },
  {
   "cell_type": "markdown",
   "id": "46ce6172",
   "metadata": {},
   "source": [
    "## math.nan"
   ]
  },
  {
   "cell_type": "code",
   "execution_count": 42,
   "id": "c8f3264a",
   "metadata": {},
   "outputs": [
    {
     "data": {
      "text/plain": [
       "nan"
      ]
     },
     "execution_count": 42,
     "metadata": {},
     "output_type": "execute_result"
    }
   ],
   "source": [
    "math.nan"
   ]
  },
  {
   "cell_type": "code",
   "execution_count": null,
   "id": "ed7171e4",
   "metadata": {},
   "outputs": [],
   "source": []
  }
 ],
 "metadata": {
  "kernelspec": {
   "display_name": "Python 3",
   "language": "python",
   "name": "python3"
  },
  "language_info": {
   "codemirror_mode": {
    "name": "ipython",
    "version": 3
   },
   "file_extension": ".py",
   "mimetype": "text/x-python",
   "name": "python",
   "nbconvert_exporter": "python",
   "pygments_lexer": "ipython3",
   "version": "3.8.8"
  }
 },
 "nbformat": 4,
 "nbformat_minor": 5
}
