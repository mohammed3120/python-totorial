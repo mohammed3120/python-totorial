{
 "cells": [
  {
   "cell_type": "markdown",
   "id": "df999398",
   "metadata": {},
   "source": [
    "# Dictionary"
   ]
  },
  {
   "cell_type": "code",
   "execution_count": 1,
   "id": "7af49635",
   "metadata": {},
   "outputs": [
    {
     "data": {
      "text/plain": [
       "{'k1': 100, 'k2': 20, 'k3': 200, 'k4': 300}"
      ]
     },
     "execution_count": 1,
     "metadata": {},
     "output_type": "execute_result"
    }
   ],
   "source": [
    "d1 = {'k1': 100, 'k2': 20, 'k3':200, 'k4':300}\n",
    "d1"
   ]
  },
  {
   "cell_type": "code",
   "execution_count": 2,
   "id": "c5721738",
   "metadata": {},
   "outputs": [
    {
     "data": {
      "text/plain": [
       "{'k0': 0,\n",
       " 'k1': 1,\n",
       " 'k2': 4,\n",
       " 'k3': 9,\n",
       " 'k4': 16,\n",
       " 'k5': 25,\n",
       " 'k6': 36,\n",
       " 'k7': 49,\n",
       " 'k8': 64,\n",
       " 'k9': 81}"
      ]
     },
     "execution_count": 2,
     "metadata": {},
     "output_type": "execute_result"
    }
   ],
   "source": [
    "d2 = { 'k'+str(n): n**2 for n in range(10) }\n",
    "d2"
   ]
  },
  {
   "cell_type": "code",
   "execution_count": 3,
   "id": "44e6b00b",
   "metadata": {},
   "outputs": [
    {
     "data": {
      "text/plain": [
       "0"
      ]
     },
     "execution_count": 3,
     "metadata": {},
     "output_type": "execute_result"
    }
   ],
   "source": [
    "d2['k0']"
   ]
  },
  {
   "cell_type": "code",
   "execution_count": 4,
   "id": "cd3d06ce",
   "metadata": {},
   "outputs": [
    {
     "data": {
      "text/plain": [
       "4"
      ]
     },
     "execution_count": 4,
     "metadata": {},
     "output_type": "execute_result"
    }
   ],
   "source": [
    "d2['k2']"
   ]
  },
  {
   "cell_type": "markdown",
   "id": "ba0e9def",
   "metadata": {},
   "source": [
    "# add element"
   ]
  },
  {
   "cell_type": "code",
   "execution_count": 5,
   "id": "2d758b3c",
   "metadata": {},
   "outputs": [
    {
     "data": {
      "text/plain": [
       "{'k0': 0,\n",
       " 'k1': 1,\n",
       " 'k2': 4,\n",
       " 'k3': 9,\n",
       " 'k4': 16,\n",
       " 'k5': 25,\n",
       " 'k6': 36,\n",
       " 'k7': 49,\n",
       " 'k8': 64,\n",
       " 'k9': 81,\n",
       " 'k10': 100}"
      ]
     },
     "execution_count": 5,
     "metadata": {},
     "output_type": "execute_result"
    }
   ],
   "source": [
    "d2['k10'] = 100 \n",
    "d2"
   ]
  },
  {
   "cell_type": "code",
   "execution_count": 6,
   "id": "ba22e59a",
   "metadata": {},
   "outputs": [
    {
     "data": {
      "text/plain": [
       "{'k0': 0,\n",
       " 'k1': 1,\n",
       " 'k2': 4,\n",
       " 'k3': 9,\n",
       " 'k4': 16,\n",
       " 'k5': 25,\n",
       " 'k6': 36,\n",
       " 'k7': 49,\n",
       " 'k8': 64,\n",
       " 'k9': 81,\n",
       " 'k10': 100,\n",
       " 'k-1': 100}"
      ]
     },
     "execution_count": 6,
     "metadata": {},
     "output_type": "execute_result"
    }
   ],
   "source": [
    "d2['k-1'] = 100 \n",
    "d2"
   ]
  },
  {
   "cell_type": "code",
   "execution_count": 7,
   "id": "d7c526c9",
   "metadata": {},
   "outputs": [
    {
     "data": {
      "text/plain": [
       "True"
      ]
     },
     "execution_count": 7,
     "metadata": {},
     "output_type": "execute_result"
    }
   ],
   "source": [
    "'k2' in d2"
   ]
  },
  {
   "cell_type": "code",
   "execution_count": 8,
   "id": "16e11cc1",
   "metadata": {},
   "outputs": [
    {
     "data": {
      "text/plain": [
       "False"
      ]
     },
     "execution_count": 8,
     "metadata": {},
     "output_type": "execute_result"
    }
   ],
   "source": [
    "'k11 ' in d2"
   ]
  },
  {
   "cell_type": "markdown",
   "id": "7b48f671",
   "metadata": {},
   "source": [
    "# values"
   ]
  },
  {
   "cell_type": "code",
   "execution_count": 9,
   "id": "0080a1a8",
   "metadata": {},
   "outputs": [
    {
     "data": {
      "text/plain": [
       "dict_values([0, 1, 4, 9, 16, 25, 36, 49, 64, 81, 100, 100])"
      ]
     },
     "execution_count": 9,
     "metadata": {},
     "output_type": "execute_result"
    }
   ],
   "source": [
    "l1 = d2.values()\n",
    "l1"
   ]
  },
  {
   "cell_type": "code",
   "execution_count": 10,
   "id": "bb44c2d9",
   "metadata": {},
   "outputs": [
    {
     "data": {
      "text/plain": [
       "dict_values"
      ]
     },
     "execution_count": 10,
     "metadata": {},
     "output_type": "execute_result"
    }
   ],
   "source": [
    "type(l1)"
   ]
  },
  {
   "cell_type": "code",
   "execution_count": 11,
   "id": "4ff38ba7",
   "metadata": {},
   "outputs": [
    {
     "data": {
      "text/plain": [
       "False"
      ]
     },
     "execution_count": 11,
     "metadata": {},
     "output_type": "execute_result"
    }
   ],
   "source": [
    "2 in d2.values()"
   ]
  },
  {
   "cell_type": "code",
   "execution_count": 12,
   "id": "8c69937f",
   "metadata": {},
   "outputs": [
    {
     "data": {
      "text/plain": [
       "False"
      ]
     },
     "execution_count": 12,
     "metadata": {},
     "output_type": "execute_result"
    }
   ],
   "source": [
    "'2' in d2.values()"
   ]
  },
  {
   "cell_type": "code",
   "execution_count": 13,
   "id": "a5881dcd",
   "metadata": {},
   "outputs": [
    {
     "data": {
      "text/plain": [
       "True"
      ]
     },
     "execution_count": 13,
     "metadata": {},
     "output_type": "execute_result"
    }
   ],
   "source": [
    "4 in d2.values()"
   ]
  },
  {
   "cell_type": "code",
   "execution_count": 14,
   "id": "a85d3b20",
   "metadata": {},
   "outputs": [
    {
     "data": {
      "text/plain": [
       "False"
      ]
     },
     "execution_count": 14,
     "metadata": {},
     "output_type": "execute_result"
    }
   ],
   "source": [
    "'4' in d2.values()"
   ]
  },
  {
   "cell_type": "markdown",
   "id": "feacdcf1",
   "metadata": {},
   "source": [
    "# get"
   ]
  },
  {
   "cell_type": "code",
   "execution_count": 15,
   "id": "a140359f",
   "metadata": {},
   "outputs": [
    {
     "data": {
      "text/plain": [
       "4"
      ]
     },
     "execution_count": 15,
     "metadata": {},
     "output_type": "execute_result"
    }
   ],
   "source": [
    "d2['k2']"
   ]
  },
  {
   "cell_type": "code",
   "execution_count": 16,
   "id": "131f67e9",
   "metadata": {},
   "outputs": [
    {
     "data": {
      "text/plain": [
       "4"
      ]
     },
     "execution_count": 16,
     "metadata": {},
     "output_type": "execute_result"
    }
   ],
   "source": [
    "d2.get('k2')"
   ]
  },
  {
   "cell_type": "code",
   "execution_count": 17,
   "id": "21a07e6f",
   "metadata": {},
   "outputs": [],
   "source": [
    "d2.get('k11')"
   ]
  },
  {
   "cell_type": "code",
   "execution_count": 18,
   "id": "f1dd31ef",
   "metadata": {},
   "outputs": [
    {
     "data": {
      "text/plain": [
       "121"
      ]
     },
     "execution_count": 18,
     "metadata": {},
     "output_type": "execute_result"
    }
   ],
   "source": [
    "d2.get('k11', 121)"
   ]
  },
  {
   "cell_type": "markdown",
   "id": "9475d091",
   "metadata": {},
   "source": [
    "# delele element"
   ]
  },
  {
   "cell_type": "code",
   "execution_count": 19,
   "id": "7ce4103b",
   "metadata": {},
   "outputs": [],
   "source": [
    "del(d2['k-1'])"
   ]
  },
  {
   "cell_type": "code",
   "execution_count": 20,
   "id": "4528fbf2",
   "metadata": {},
   "outputs": [
    {
     "data": {
      "text/plain": [
       "{'k0': 0,\n",
       " 'k1': 1,\n",
       " 'k2': 4,\n",
       " 'k3': 9,\n",
       " 'k4': 16,\n",
       " 'k5': 25,\n",
       " 'k6': 36,\n",
       " 'k7': 49,\n",
       " 'k8': 64,\n",
       " 'k9': 81,\n",
       " 'k10': 100}"
      ]
     },
     "execution_count": 20,
     "metadata": {},
     "output_type": "execute_result"
    }
   ],
   "source": [
    "d2"
   ]
  },
  {
   "cell_type": "code",
   "execution_count": 21,
   "id": "031b6a39",
   "metadata": {},
   "outputs": [
    {
     "data": {
      "text/plain": [
       "{'k1': 100, 'k2': 20, 'k3': 200, 'k4': 300}"
      ]
     },
     "execution_count": 21,
     "metadata": {},
     "output_type": "execute_result"
    }
   ],
   "source": [
    "d1"
   ]
  },
  {
   "cell_type": "markdown",
   "id": "8493d835",
   "metadata": {},
   "source": [
    "# delete dictionary"
   ]
  },
  {
   "cell_type": "code",
   "execution_count": 22,
   "id": "05234c5e",
   "metadata": {},
   "outputs": [],
   "source": [
    "del(d1)"
   ]
  },
  {
   "cell_type": "markdown",
   "id": "c14bc818",
   "metadata": {},
   "source": [
    "# clear all elements"
   ]
  },
  {
   "cell_type": "code",
   "execution_count": 23,
   "id": "af423d59",
   "metadata": {},
   "outputs": [],
   "source": [
    "d2.clear()"
   ]
  },
  {
   "cell_type": "code",
   "execution_count": 24,
   "id": "f441a4dd",
   "metadata": {},
   "outputs": [
    {
     "data": {
      "text/plain": [
       "{}"
      ]
     },
     "execution_count": 24,
     "metadata": {},
     "output_type": "execute_result"
    }
   ],
   "source": [
    "d2"
   ]
  },
  {
   "cell_type": "markdown",
   "id": "1c6edeba",
   "metadata": {},
   "source": [
    "# len"
   ]
  },
  {
   "cell_type": "code",
   "execution_count": 25,
   "id": "b17a38c0",
   "metadata": {},
   "outputs": [
    {
     "data": {
      "text/plain": [
       "{0: 0, 1: 1, 2: 8, 3: 27, 4: 64, 5: 125, 6: 216, 7: 343, 8: 512, 9: 729}"
      ]
     },
     "execution_count": 25,
     "metadata": {},
     "output_type": "execute_result"
    }
   ],
   "source": [
    "d3 = {e:e**3 for e in range(10)}\n",
    "d3"
   ]
  },
  {
   "cell_type": "code",
   "execution_count": 26,
   "id": "2d1b4d3b",
   "metadata": {},
   "outputs": [
    {
     "data": {
      "text/plain": [
       "10"
      ]
     },
     "execution_count": 26,
     "metadata": {},
     "output_type": "execute_result"
    }
   ],
   "source": [
    "len(d3)"
   ]
  },
  {
   "cell_type": "markdown",
   "id": "dd19ca19",
   "metadata": {},
   "source": [
    "# copy"
   ]
  },
  {
   "cell_type": "code",
   "execution_count": 27,
   "id": "52696257",
   "metadata": {},
   "outputs": [
    {
     "data": {
      "text/plain": [
       "{0: 0, 1: 1, 2: 8, 3: 27, 4: 64, 5: 125, 6: 216, 7: 343, 8: 512, 9: 729}"
      ]
     },
     "execution_count": 27,
     "metadata": {},
     "output_type": "execute_result"
    }
   ],
   "source": [
    "d4 = d3.copy()\n",
    "d4"
   ]
  },
  {
   "cell_type": "code",
   "execution_count": 28,
   "id": "bd2bd71a",
   "metadata": {},
   "outputs": [
    {
     "data": {
      "text/plain": [
       "{0: 0, 1: 1, 2: 8, 3: 27, 4: 64, 5: 125, 6: 216, 7: 343, 8: 512, 9: 1000}"
      ]
     },
     "execution_count": 28,
     "metadata": {},
     "output_type": "execute_result"
    }
   ],
   "source": [
    "d4[9] = 1000\n",
    "d4"
   ]
  },
  {
   "cell_type": "code",
   "execution_count": 29,
   "id": "432fb882",
   "metadata": {},
   "outputs": [
    {
     "data": {
      "text/plain": [
       "{0: 0, 1: 1, 2: 8, 3: 27, 4: 64, 5: 125, 6: 216, 7: 343, 8: 512, 9: 729}"
      ]
     },
     "execution_count": 29,
     "metadata": {},
     "output_type": "execute_result"
    }
   ],
   "source": [
    "d3"
   ]
  },
  {
   "cell_type": "markdown",
   "id": "31390c99",
   "metadata": {},
   "source": [
    "# Assinment"
   ]
  },
  {
   "cell_type": "code",
   "execution_count": 30,
   "id": "0c9a5f3b",
   "metadata": {},
   "outputs": [
    {
     "data": {
      "text/plain": [
       "{0: 0, 1: 1, 2: 8, 3: 27, 4: 64, 5: 125, 6: 216, 7: 343, 8: 512, 9: 729}"
      ]
     },
     "execution_count": 30,
     "metadata": {},
     "output_type": "execute_result"
    }
   ],
   "source": [
    "d5 = d3\n",
    "d5"
   ]
  },
  {
   "cell_type": "code",
   "execution_count": 31,
   "id": "ac24ecc8",
   "metadata": {},
   "outputs": [
    {
     "data": {
      "text/plain": [
       "{0: 20, 1: 1, 2: 8, 3: 27, 4: 64, 5: 125, 6: 216, 7: 343, 8: 512, 9: 729}"
      ]
     },
     "execution_count": 31,
     "metadata": {},
     "output_type": "execute_result"
    }
   ],
   "source": [
    "d5[0] = 20\n",
    "d5"
   ]
  },
  {
   "cell_type": "code",
   "execution_count": 32,
   "id": "90f5968a",
   "metadata": {},
   "outputs": [
    {
     "data": {
      "text/plain": [
       "{0: 20, 1: 1, 2: 8, 3: 27, 4: 64, 5: 125, 6: 216, 7: 343, 8: 512, 9: 729}"
      ]
     },
     "execution_count": 32,
     "metadata": {},
     "output_type": "execute_result"
    }
   ],
   "source": [
    "d3 # d3[0] will also be 20 "
   ]
  },
  {
   "cell_type": "markdown",
   "id": "e84bf577",
   "metadata": {},
   "source": [
    "# Make dictionary from list"
   ]
  },
  {
   "cell_type": "code",
   "execution_count": 33,
   "id": "fd0d0caa",
   "metadata": {},
   "outputs": [
    {
     "data": {
      "text/plain": [
       "['a', 'b', 'c', 'd']"
      ]
     },
     "execution_count": 33,
     "metadata": {},
     "output_type": "execute_result"
    }
   ],
   "source": [
    "l2 = ['a', 'b', 'c', 'd']\n",
    "l2"
   ]
  },
  {
   "cell_type": "code",
   "execution_count": 34,
   "id": "3fce65cd",
   "metadata": {},
   "outputs": [
    {
     "data": {
      "text/plain": [
       "{'a': None, 'b': None, 'c': None, 'd': None}"
      ]
     },
     "execution_count": 34,
     "metadata": {},
     "output_type": "execute_result"
    }
   ],
   "source": [
    "d6 = dict.fromkeys(l2)\n",
    "d6"
   ]
  },
  {
   "cell_type": "code",
   "execution_count": 35,
   "id": "5832cd14",
   "metadata": {},
   "outputs": [
    {
     "data": {
      "text/plain": [
       "{'a': None, 'b': 'Mohammed', 'c': None, 'd': None}"
      ]
     },
     "execution_count": 35,
     "metadata": {},
     "output_type": "execute_result"
    }
   ],
   "source": [
    "d6['b'] = 'Mohammed'\n",
    "d6"
   ]
  },
  {
   "cell_type": "markdown",
   "id": "5e6cd611",
   "metadata": {},
   "source": [
    "# Make dictionary from set"
   ]
  },
  {
   "cell_type": "code",
   "execution_count": 36,
   "id": "69f21dec",
   "metadata": {},
   "outputs": [
    {
     "data": {
      "text/plain": [
       "{1, 2, 3, 5}"
      ]
     },
     "execution_count": 36,
     "metadata": {},
     "output_type": "execute_result"
    }
   ],
   "source": [
    "s1 = {1,2,3,5}\n",
    "s1"
   ]
  },
  {
   "cell_type": "code",
   "execution_count": 37,
   "id": "ba9792fd",
   "metadata": {},
   "outputs": [
    {
     "data": {
      "text/plain": [
       "{1: None, 2: None, 3: None, 5: None}"
      ]
     },
     "execution_count": 37,
     "metadata": {},
     "output_type": "execute_result"
    }
   ],
   "source": [
    "d7 = dict.fromkeys(s1)\n",
    "d7"
   ]
  },
  {
   "cell_type": "code",
   "execution_count": 38,
   "id": "faab3473",
   "metadata": {},
   "outputs": [
    {
     "data": {
      "text/plain": [
       "{1: None, 2: None, 3: None, 5: 1000000000}"
      ]
     },
     "execution_count": 38,
     "metadata": {},
     "output_type": "execute_result"
    }
   ],
   "source": [
    "d7[5] = 1000000000\n",
    "d7"
   ]
  },
  {
   "cell_type": "markdown",
   "id": "35e3752a",
   "metadata": {},
   "source": [
    "# keys"
   ]
  },
  {
   "cell_type": "code",
   "execution_count": 39,
   "id": "3dabfe2d",
   "metadata": {},
   "outputs": [
    {
     "data": {
      "text/plain": [
       "{'k0': 0,\n",
       " 'k1': 1,\n",
       " 'k2': 4,\n",
       " 'k3': 9,\n",
       " 'k4': 16,\n",
       " 'k5': 25,\n",
       " 'k6': 36,\n",
       " 'k7': 49,\n",
       " 'k8': 64,\n",
       " 'k9': 81}"
      ]
     },
     "execution_count": 39,
     "metadata": {},
     "output_type": "execute_result"
    }
   ],
   "source": [
    "d8 = { 'k'+str(n): n**2 for n in range(10) }\n",
    "d8"
   ]
  },
  {
   "cell_type": "code",
   "execution_count": 40,
   "id": "820a6994",
   "metadata": {},
   "outputs": [
    {
     "data": {
      "text/plain": [
       "['k0', 'k1', 'k2', 'k3', 'k4', 'k5', 'k6', 'k7', 'k8', 'k9']"
      ]
     },
     "execution_count": 40,
     "metadata": {},
     "output_type": "execute_result"
    }
   ],
   "source": [
    "l3 = list(d8.keys())\n",
    "l3"
   ]
  },
  {
   "cell_type": "code",
   "execution_count": 41,
   "id": "b26c892f",
   "metadata": {},
   "outputs": [
    {
     "data": {
      "text/plain": [
       "{'k0', 'k1', 'k2', 'k3', 'k4', 'k5', 'k6', 'k7', 'k8', 'k9'}"
      ]
     },
     "execution_count": 41,
     "metadata": {},
     "output_type": "execute_result"
    }
   ],
   "source": [
    "s2 = set(d8.keys())\n",
    "s2"
   ]
  },
  {
   "cell_type": "code",
   "execution_count": 42,
   "id": "d4ee271a",
   "metadata": {},
   "outputs": [
    {
     "data": {
      "text/plain": [
       "('k0', 'k1', 'k2', 'k3', 'k4', 'k5', 'k6', 'k7', 'k8', 'k9')"
      ]
     },
     "execution_count": 42,
     "metadata": {},
     "output_type": "execute_result"
    }
   ],
   "source": [
    "t1 = tuple(d8.keys())\n",
    "t1"
   ]
  },
  {
   "cell_type": "markdown",
   "id": "319deed9",
   "metadata": {},
   "source": [
    "# items"
   ]
  },
  {
   "cell_type": "code",
   "execution_count": 43,
   "id": "91fa0163",
   "metadata": {},
   "outputs": [
    {
     "data": {
      "text/plain": [
       "[('k0', 0),\n",
       " ('k1', 1),\n",
       " ('k2', 4),\n",
       " ('k3', 9),\n",
       " ('k4', 16),\n",
       " ('k5', 25),\n",
       " ('k6', 36),\n",
       " ('k7', 49),\n",
       " ('k8', 64),\n",
       " ('k9', 81)]"
      ]
     },
     "execution_count": 43,
     "metadata": {},
     "output_type": "execute_result"
    }
   ],
   "source": [
    "l4 = list(d8.items())\n",
    "l4"
   ]
  },
  {
   "cell_type": "code",
   "execution_count": 44,
   "id": "e9164a11",
   "metadata": {},
   "outputs": [
    {
     "data": {
      "text/plain": [
       "{('k0', 0),\n",
       " ('k1', 1),\n",
       " ('k2', 4),\n",
       " ('k3', 9),\n",
       " ('k4', 16),\n",
       " ('k5', 25),\n",
       " ('k6', 36),\n",
       " ('k7', 49),\n",
       " ('k8', 64),\n",
       " ('k9', 81)}"
      ]
     },
     "execution_count": 44,
     "metadata": {},
     "output_type": "execute_result"
    }
   ],
   "source": [
    "s3 = set(d8.items())\n",
    "s3"
   ]
  },
  {
   "cell_type": "code",
   "execution_count": 45,
   "id": "ade535df",
   "metadata": {},
   "outputs": [
    {
     "data": {
      "text/plain": [
       "(('k0', 0),\n",
       " ('k1', 1),\n",
       " ('k2', 4),\n",
       " ('k3', 9),\n",
       " ('k4', 16),\n",
       " ('k5', 25),\n",
       " ('k6', 36),\n",
       " ('k7', 49),\n",
       " ('k8', 64),\n",
       " ('k9', 81))"
      ]
     },
     "execution_count": 45,
     "metadata": {},
     "output_type": "execute_result"
    }
   ],
   "source": [
    "t2 = tuple(d8.items())\n",
    "t2"
   ]
  },
  {
   "cell_type": "markdown",
   "id": "c7af27de",
   "metadata": {},
   "source": [
    "# Multi values"
   ]
  },
  {
   "cell_type": "code",
   "execution_count": 46,
   "id": "0e00fb7f",
   "metadata": {},
   "outputs": [
    {
     "data": {
      "text/plain": [
       "{'Ahmmed': (15, 20, 60), 'Mohammed': (50, 60, 90, 120)}"
      ]
     },
     "execution_count": 46,
     "metadata": {},
     "output_type": "execute_result"
    }
   ],
   "source": [
    "d9 = {'Ahmmed': (15,20,60), 'Mohammed': (50,60,90,120)}\n",
    "d9"
   ]
  },
  {
   "cell_type": "code",
   "execution_count": 47,
   "id": "d13670f9",
   "metadata": {},
   "outputs": [
    {
     "data": {
      "text/plain": [
       "(50, 60, 90, 120)"
      ]
     },
     "execution_count": 47,
     "metadata": {},
     "output_type": "execute_result"
    }
   ],
   "source": [
    "d9['Mohammed']"
   ]
  },
  {
   "cell_type": "code",
   "execution_count": 48,
   "id": "6a3ecffc",
   "metadata": {},
   "outputs": [
    {
     "data": {
      "text/plain": [
       "90"
      ]
     },
     "execution_count": 48,
     "metadata": {},
     "output_type": "execute_result"
    }
   ],
   "source": [
    "d9['Mohammed'][2]"
   ]
  },
  {
   "cell_type": "code",
   "execution_count": null,
   "id": "fa4d8a66",
   "metadata": {},
   "outputs": [],
   "source": []
  }
 ],
 "metadata": {
  "kernelspec": {
   "display_name": "Python 3",
   "language": "python",
   "name": "python3"
  },
  "language_info": {
   "codemirror_mode": {
    "name": "ipython",
    "version": 3
   },
   "file_extension": ".py",
   "mimetype": "text/x-python",
   "name": "python",
   "nbconvert_exporter": "python",
   "pygments_lexer": "ipython3",
   "version": "3.8.8"
  }
 },
 "nbformat": 4,
 "nbformat_minor": 5
}
