{
 "cells": [
  {
   "cell_type": "code",
   "execution_count": 1,
   "id": "187516ee",
   "metadata": {},
   "outputs": [],
   "source": [
    "import time"
   ]
  },
  {
   "cell_type": "code",
   "execution_count": 2,
   "id": "f2df09ae",
   "metadata": {},
   "outputs": [],
   "source": [
    "s1 = \"Mohammed\""
   ]
  },
  {
   "cell_type": "code",
   "execution_count": 3,
   "id": "0f97ac33",
   "metadata": {},
   "outputs": [
    {
     "data": {
      "text/plain": [
       "'M'"
      ]
     },
     "execution_count": 3,
     "metadata": {},
     "output_type": "execute_result"
    }
   ],
   "source": [
    "s1[0]"
   ]
  },
  {
   "cell_type": "code",
   "execution_count": 4,
   "id": "97687464",
   "metadata": {},
   "outputs": [
    {
     "data": {
      "text/plain": [
       "'d'"
      ]
     },
     "execution_count": 4,
     "metadata": {},
     "output_type": "execute_result"
    }
   ],
   "source": [
    "s1[-1]"
   ]
  },
  {
   "cell_type": "code",
   "execution_count": 5,
   "id": "c09bcabd",
   "metadata": {},
   "outputs": [
    {
     "data": {
      "text/plain": [
       "'MohammedMohammedMohammed'"
      ]
     },
     "execution_count": 5,
     "metadata": {},
     "output_type": "execute_result"
    }
   ],
   "source": [
    "s1*3"
   ]
  },
  {
   "cell_type": "code",
   "execution_count": 6,
   "id": "c80fedbd",
   "metadata": {},
   "outputs": [
    {
     "data": {
      "text/plain": [
       "'Mohammed Mohammed Mohammed '"
      ]
     },
     "execution_count": 6,
     "metadata": {},
     "output_type": "execute_result"
    }
   ],
   "source": [
    "(s1+' ')*3"
   ]
  },
  {
   "cell_type": "code",
   "execution_count": 7,
   "id": "b6696daf",
   "metadata": {},
   "outputs": [
    {
     "data": {
      "text/plain": [
       "'ham'"
      ]
     },
     "execution_count": 7,
     "metadata": {},
     "output_type": "execute_result"
    }
   ],
   "source": [
    "s1[2:5]"
   ]
  },
  {
   "cell_type": "code",
   "execution_count": 8,
   "id": "2ff03aec",
   "metadata": {},
   "outputs": [
    {
     "data": {
      "text/plain": [
       "'Mohamme'"
      ]
     },
     "execution_count": 8,
     "metadata": {},
     "output_type": "execute_result"
    }
   ],
   "source": [
    "s1[:-1]"
   ]
  },
  {
   "cell_type": "code",
   "execution_count": 9,
   "id": "d9c32ea3",
   "metadata": {},
   "outputs": [
    {
     "data": {
      "text/plain": [
       "'mmed'"
      ]
     },
     "execution_count": 9,
     "metadata": {},
     "output_type": "execute_result"
    }
   ],
   "source": [
    "s1[4:]"
   ]
  },
  {
   "cell_type": "code",
   "execution_count": 10,
   "id": "d1daeb38",
   "metadata": {},
   "outputs": [
    {
     "data": {
      "text/plain": [
       "'Moham'"
      ]
     },
     "execution_count": 10,
     "metadata": {},
     "output_type": "execute_result"
    }
   ],
   "source": [
    "s1[:5]"
   ]
  },
  {
   "cell_type": "code",
   "execution_count": 11,
   "id": "826fccab",
   "metadata": {},
   "outputs": [
    {
     "data": {
      "text/plain": [
       "'Mohammed'"
      ]
     },
     "execution_count": 11,
     "metadata": {},
     "output_type": "execute_result"
    }
   ],
   "source": [
    "s1[:]"
   ]
  },
  {
   "cell_type": "code",
   "execution_count": 12,
   "id": "5021bc93",
   "metadata": {},
   "outputs": [],
   "source": [
    "s2 = \"abcdefghijklmnopqrstuvwxyz\""
   ]
  },
  {
   "cell_type": "code",
   "execution_count": 13,
   "id": "0c089e62",
   "metadata": {},
   "outputs": [
    {
     "data": {
      "text/plain": [
       "26"
      ]
     },
     "execution_count": 13,
     "metadata": {},
     "output_type": "execute_result"
    }
   ],
   "source": [
    "len(s2)"
   ]
  },
  {
   "cell_type": "code",
   "execution_count": 14,
   "id": "5a7bcc30",
   "metadata": {},
   "outputs": [
    {
     "data": {
      "text/plain": [
       "'cegikmoqsuw'"
      ]
     },
     "execution_count": 14,
     "metadata": {},
     "output_type": "execute_result"
    }
   ],
   "source": [
    "s2[2:24:2] # from c to x with by 2 steps"
   ]
  },
  {
   "cell_type": "code",
   "execution_count": 15,
   "id": "44631c19",
   "metadata": {},
   "outputs": [
    {
     "data": {
      "text/plain": [
       "'djp'"
      ]
     },
     "execution_count": 15,
     "metadata": {},
     "output_type": "execute_result"
    }
   ],
   "source": [
    "s2[3:21:6]"
   ]
  },
  {
   "cell_type": "code",
   "execution_count": 16,
   "id": "e6d1c82b",
   "metadata": {},
   "outputs": [
    {
     "data": {
      "text/plain": [
       "'acegikmoqsuwy'"
      ]
     },
     "execution_count": 16,
     "metadata": {},
     "output_type": "execute_result"
    }
   ],
   "source": [
    "s2[::2]"
   ]
  },
  {
   "cell_type": "code",
   "execution_count": 17,
   "id": "92532d76",
   "metadata": {},
   "outputs": [
    {
     "data": {
      "text/plain": [
       "'zyxwvutsrqponml'"
      ]
     },
     "execution_count": 17,
     "metadata": {},
     "output_type": "execute_result"
    }
   ],
   "source": [
    "s2[-1:10:-1]"
   ]
  },
  {
   "cell_type": "code",
   "execution_count": 18,
   "id": "479e84f9",
   "metadata": {},
   "outputs": [
    {
     "data": {
      "text/plain": [
       "'zyxwvutsrqponmlkjihgfedcba'"
      ]
     },
     "execution_count": 18,
     "metadata": {},
     "output_type": "execute_result"
    }
   ],
   "source": [
    "s2[::-1] # reverse the string"
   ]
  },
  {
   "cell_type": "code",
   "execution_count": 19,
   "id": "29156d14",
   "metadata": {},
   "outputs": [
    {
     "data": {
      "text/plain": [
       "['a',\n",
       " 'b',\n",
       " 'c',\n",
       " 'd',\n",
       " 'e',\n",
       " 'f',\n",
       " 'g',\n",
       " 'h',\n",
       " 'i',\n",
       " 'j',\n",
       " 'k',\n",
       " 'l',\n",
       " 'm',\n",
       " 'n',\n",
       " 'o',\n",
       " 'p',\n",
       " 'q',\n",
       " 'r',\n",
       " 's',\n",
       " 't',\n",
       " 'u',\n",
       " 'v',\n",
       " 'w',\n",
       " 'x',\n",
       " 'y',\n",
       " 'z']"
      ]
     },
     "execution_count": 19,
     "metadata": {},
     "output_type": "execute_result"
    }
   ],
   "source": [
    "listed_s2 = list(s2)\n",
    "listed_s2"
   ]
  },
  {
   "cell_type": "code",
   "execution_count": 20,
   "id": "d6885db3",
   "metadata": {},
   "outputs": [
    {
     "data": {
      "text/plain": [
       "list"
      ]
     },
     "execution_count": 20,
     "metadata": {},
     "output_type": "execute_result"
    }
   ],
   "source": [
    "l1 = sorted(s1)\n",
    "type(l1)"
   ]
  },
  {
   "cell_type": "code",
   "execution_count": 21,
   "id": "448ff22d",
   "metadata": {},
   "outputs": [
    {
     "data": {
      "text/plain": [
       "'zxvtrpnljhfdb'"
      ]
     },
     "execution_count": 21,
     "metadata": {},
     "output_type": "execute_result"
    }
   ],
   "source": [
    "s2[::-1][::2] #reverse string with 2 steps from end to start"
   ]
  },
  {
   "cell_type": "code",
   "execution_count": 22,
   "id": "9d090c51",
   "metadata": {},
   "outputs": [],
   "source": [
    "s3 = \"I am from Syria\""
   ]
  },
  {
   "cell_type": "code",
   "execution_count": 23,
   "id": "f4dd36f1",
   "metadata": {},
   "outputs": [
    {
     "data": {
      "text/plain": [
       "['I', 'am', 'from', 'Syria']"
      ]
     },
     "execution_count": 23,
     "metadata": {},
     "output_type": "execute_result"
    }
   ],
   "source": [
    "s3.split(' ')"
   ]
  },
  {
   "cell_type": "code",
   "execution_count": 24,
   "id": "aca131f4",
   "metadata": {},
   "outputs": [
    {
     "data": {
      "text/plain": [
       "'abcdefghijklmnopqrstuvwxyzabcdefghijklmnopqrstuvwxyzabcdefghijklmnopqrstuvwxyz'"
      ]
     },
     "execution_count": 24,
     "metadata": {},
     "output_type": "execute_result"
    }
   ],
   "source": [
    "repeat_s2 = s2*3\n",
    "repeat_s2"
   ]
  },
  {
   "cell_type": "code",
   "execution_count": 25,
   "id": "84d8783e",
   "metadata": {},
   "outputs": [
    {
     "data": {
      "text/plain": [
       "{'a',\n",
       " 'b',\n",
       " 'c',\n",
       " 'd',\n",
       " 'e',\n",
       " 'f',\n",
       " 'g',\n",
       " 'h',\n",
       " 'i',\n",
       " 'j',\n",
       " 'k',\n",
       " 'l',\n",
       " 'm',\n",
       " 'n',\n",
       " 'o',\n",
       " 'p',\n",
       " 'q',\n",
       " 'r',\n",
       " 's',\n",
       " 't',\n",
       " 'u',\n",
       " 'v',\n",
       " 'w',\n",
       " 'x',\n",
       " 'y',\n",
       " 'z'}"
      ]
     },
     "execution_count": 25,
     "metadata": {},
     "output_type": "execute_result"
    }
   ],
   "source": [
    "set(repeat_s2) #get items without repeat"
   ]
  },
  {
   "cell_type": "code",
   "execution_count": 26,
   "id": "bf352042",
   "metadata": {},
   "outputs": [
    {
     "data": {
      "text/plain": [
       "'abc\\ndef\\nghi'"
      ]
     },
     "execution_count": 26,
     "metadata": {},
     "output_type": "execute_result"
    }
   ],
   "source": [
    "s4 = \"abc\\ndef\\nghi\"\n",
    "s4"
   ]
  },
  {
   "cell_type": "code",
   "execution_count": 27,
   "id": "8d24ff04",
   "metadata": {},
   "outputs": [
    {
     "data": {
      "text/plain": [
       "['abc', 'def', 'ghi']"
      ]
     },
     "execution_count": 27,
     "metadata": {},
     "output_type": "execute_result"
    }
   ],
   "source": [
    "s4.splitlines() # split by new lines"
   ]
  },
  {
   "cell_type": "markdown",
   "id": "3e30d8b4",
   "metadata": {},
   "source": [
    "# partition"
   ]
  },
  {
   "cell_type": "code",
   "execution_count": 28,
   "id": "39f6d326",
   "metadata": {},
   "outputs": [],
   "source": [
    "s5 = \"mohammed@gmail.com, mohammed@outlook.com, ali@ff.org\""
   ]
  },
  {
   "cell_type": "code",
   "execution_count": 29,
   "id": "574762ef",
   "metadata": {},
   "outputs": [
    {
     "data": {
      "text/plain": [
       "('mohammed', '@', 'gmail.com, mohammed@outlook.com, ali@ff.org')"
      ]
     },
     "execution_count": 29,
     "metadata": {},
     "output_type": "execute_result"
    }
   ],
   "source": [
    "s5.partition('@')"
   ]
  },
  {
   "cell_type": "code",
   "execution_count": 30,
   "id": "bf6f0d21",
   "metadata": {},
   "outputs": [
    {
     "data": {
      "text/plain": [
       "('mohammed@gmail.com, mohammed@outlook.com, ali', '@', 'ff.org')"
      ]
     },
     "execution_count": 30,
     "metadata": {},
     "output_type": "execute_result"
    }
   ],
   "source": [
    "s5.rpartition('@')"
   ]
  },
  {
   "cell_type": "markdown",
   "id": "7234a768",
   "metadata": {},
   "source": [
    "# find"
   ]
  },
  {
   "cell_type": "code",
   "execution_count": 31,
   "id": "d4cdfc41",
   "metadata": {},
   "outputs": [
    {
     "name": "stdout",
     "output_type": "stream",
     "text": [
      "9\n",
      "0.0\n"
     ]
    }
   ],
   "source": [
    "t0 = time.time()\n",
    "r = s5.find('gmail')\n",
    "t1 = time.time()\n",
    "print(r)\n",
    "print(t1 - t0)"
   ]
  },
  {
   "cell_type": "code",
   "execution_count": 32,
   "id": "1254ec32",
   "metadata": {},
   "outputs": [
    {
     "name": "stdout",
     "output_type": "stream",
     "text": [
      "9\n",
      "0.001001119613647461\n"
     ]
    }
   ],
   "source": [
    "t0 = time.time()\n",
    "r = s5.rfind('gmail')\n",
    "t1 = time.time()\n",
    "print(r)\n",
    "print(t1 - t0)"
   ]
  },
  {
   "cell_type": "markdown",
   "id": "e9fdf4d4",
   "metadata": {},
   "source": [
    "# replace"
   ]
  },
  {
   "cell_type": "code",
   "execution_count": 33,
   "id": "d6961c72",
   "metadata": {},
   "outputs": [
    {
     "name": "stdout",
     "output_type": "stream",
     "text": [
      "mohammed#gmail.com, mohammed#outlook.com, ali#ff.org\n",
      "0.0\n"
     ]
    }
   ],
   "source": [
    "t0 = time.time()\n",
    "r = s5.replace('@','#')\n",
    "t1 = time.time()\n",
    "print(r)\n",
    "print(t1 - t0)"
   ]
  },
  {
   "cell_type": "code",
   "execution_count": 34,
   "id": "3da17950",
   "metadata": {},
   "outputs": [
    {
     "name": "stdout",
     "output_type": "stream",
     "text": [
      "mohammed@hotmail.com, mohammed@outlook.com, ali@ff.org\n",
      "0.0\n"
     ]
    }
   ],
   "source": [
    "t0 = time.time()\n",
    "r = s5.replace('gmail','hotmail')\n",
    "t1 = time.time()\n",
    "print(r)\n",
    "print(t1 - t0)"
   ]
  },
  {
   "cell_type": "markdown",
   "id": "9d03844a",
   "metadata": {},
   "source": [
    "# count"
   ]
  },
  {
   "cell_type": "code",
   "execution_count": 35,
   "id": "bc836d5c",
   "metadata": {},
   "outputs": [
    {
     "name": "stdout",
     "output_type": "stream",
     "text": [
      "3\n",
      "0.0\n"
     ]
    }
   ],
   "source": [
    "t0 = time.time()\n",
    "r = s5.count('@')\n",
    "t1 = time.time()\n",
    "print(r)\n",
    "print(t1 - t0)"
   ]
  },
  {
   "cell_type": "code",
   "execution_count": 36,
   "id": "c0fc99eb",
   "metadata": {},
   "outputs": [
    {
     "name": "stdout",
     "output_type": "stream",
     "text": [
      "2\n",
      "0.0\n"
     ]
    }
   ],
   "source": [
    "t0 = time.time()\n",
    "r = s5.count('mohammed')\n",
    "t1 = time.time()\n",
    "print(r)\n",
    "print(t1 - t0)"
   ]
  },
  {
   "cell_type": "markdown",
   "id": "e45bec8b",
   "metadata": {},
   "source": [
    "# capitalize"
   ]
  },
  {
   "cell_type": "markdown",
   "id": "206456c0",
   "metadata": {},
   "source": [
    "### first letter is big and other letters are small"
   ]
  },
  {
   "cell_type": "code",
   "execution_count": 37,
   "id": "7a2e1313",
   "metadata": {},
   "outputs": [],
   "source": [
    "s6 = \"i am fRom SYrIA\""
   ]
  },
  {
   "cell_type": "code",
   "execution_count": 38,
   "id": "780b7ba0",
   "metadata": {},
   "outputs": [
    {
     "name": "stdout",
     "output_type": "stream",
     "text": [
      "I am from syria\n",
      "0.0\n"
     ]
    }
   ],
   "source": [
    "t0 = time.time()\n",
    "r = s6.capitalize()\n",
    "t1 = time.time()\n",
    "print(r)\n",
    "print(t1 - t0)"
   ]
  },
  {
   "cell_type": "markdown",
   "id": "fd3578ee",
   "metadata": {},
   "source": [
    "# title"
   ]
  },
  {
   "cell_type": "markdown",
   "id": "45384ba8",
   "metadata": {},
   "source": [
    "### make first letter for each word is big and other letters are small"
   ]
  },
  {
   "cell_type": "code",
   "execution_count": 39,
   "id": "878f75d0",
   "metadata": {},
   "outputs": [
    {
     "name": "stdout",
     "output_type": "stream",
     "text": [
      "I Am From Syria\n",
      "0.0\n"
     ]
    }
   ],
   "source": [
    "t0 = time.time()\n",
    "r = s6.title()\n",
    "t1 = time.time()\n",
    "print(r)\n",
    "print(t1 - t0)"
   ]
  },
  {
   "cell_type": "markdown",
   "id": "bdde8edd",
   "metadata": {},
   "source": [
    "# upper"
   ]
  },
  {
   "cell_type": "markdown",
   "id": "c501d9aa",
   "metadata": {},
   "source": [
    "### make all letter are capital"
   ]
  },
  {
   "cell_type": "code",
   "execution_count": 40,
   "id": "c63ddaf0",
   "metadata": {},
   "outputs": [
    {
     "name": "stdout",
     "output_type": "stream",
     "text": [
      "I AM FROM SYRIA\n",
      "0.0\n"
     ]
    }
   ],
   "source": [
    "t0 = time.time()\n",
    "r = s6.upper()\n",
    "t1 = time.time()\n",
    "print(r)\n",
    "print(t1 - t0)"
   ]
  },
  {
   "cell_type": "markdown",
   "id": "e18b036e",
   "metadata": {},
   "source": [
    "# lower"
   ]
  },
  {
   "cell_type": "markdown",
   "id": "9fbdbdc5",
   "metadata": {},
   "source": [
    "### make all letter are small"
   ]
  },
  {
   "cell_type": "code",
   "execution_count": 41,
   "id": "45096e4f",
   "metadata": {},
   "outputs": [
    {
     "name": "stdout",
     "output_type": "stream",
     "text": [
      "i am from syria\n",
      "0.0\n"
     ]
    }
   ],
   "source": [
    "t0 = time.time()\n",
    "r = s6.lower()\n",
    "t1 = time.time()\n",
    "print(r)\n",
    "print(t1 - t0)"
   ]
  },
  {
   "cell_type": "markdown",
   "id": "cc3472ee",
   "metadata": {},
   "source": [
    "# swapcase"
   ]
  },
  {
   "cell_type": "markdown",
   "id": "25a066b6",
   "metadata": {},
   "source": [
    "### reverse each  capital leter with small letter and each small letter with capital letter"
   ]
  },
  {
   "cell_type": "code",
   "execution_count": 42,
   "id": "f4268fc3",
   "metadata": {},
   "outputs": [
    {
     "name": "stdout",
     "output_type": "stream",
     "text": [
      "I AM FrOM syRia\n",
      "0.0\n"
     ]
    }
   ],
   "source": [
    "t0 = time.time()\n",
    "r = s6.swapcase()\n",
    "t1 = time.time()\n",
    "print(r)\n",
    "print(t1 - t0)"
   ]
  },
  {
   "cell_type": "markdown",
   "id": "9b861df3",
   "metadata": {},
   "source": [
    "# center"
   ]
  },
  {
   "cell_type": "markdown",
   "id": "1cd414ec",
   "metadata": {},
   "source": [
    "### make length of string equal to specific number if this number > length of string else no thing"
   ]
  },
  {
   "cell_type": "code",
   "execution_count": 43,
   "id": "caa07ddf",
   "metadata": {},
   "outputs": [
    {
     "name": "stdout",
     "output_type": "stream",
     "text": [
      "            i am fRom SYrIA             \n",
      "0.0\n"
     ]
    }
   ],
   "source": [
    "t0 = time.time()\n",
    "r = s6.center(40)\n",
    "t1 = time.time()\n",
    "print(r)\n",
    "print(t1 - t0)"
   ]
  },
  {
   "cell_type": "code",
   "execution_count": 44,
   "id": "ee8e672a",
   "metadata": {},
   "outputs": [
    {
     "data": {
      "text/plain": [
       "15"
      ]
     },
     "execution_count": 44,
     "metadata": {},
     "output_type": "execute_result"
    }
   ],
   "source": [
    "len(s6)"
   ]
  },
  {
   "cell_type": "code",
   "execution_count": 45,
   "id": "f4ae2e49",
   "metadata": {},
   "outputs": [
    {
     "data": {
      "text/plain": [
       "40"
      ]
     },
     "execution_count": 45,
     "metadata": {},
     "output_type": "execute_result"
    }
   ],
   "source": [
    "len(r)"
   ]
  },
  {
   "cell_type": "markdown",
   "id": "ae9e90d3",
   "metadata": {},
   "source": [
    "# ljust"
   ]
  },
  {
   "cell_type": "code",
   "execution_count": 46,
   "id": "517d8434",
   "metadata": {},
   "outputs": [
    {
     "data": {
      "text/plain": [
       "'Abdualrahmman Abduallah'"
      ]
     },
     "execution_count": 46,
     "metadata": {},
     "output_type": "execute_result"
    }
   ],
   "source": [
    "s7 = \"Abdualrahmman Abduallah\"\n",
    "s7"
   ]
  },
  {
   "cell_type": "code",
   "execution_count": 47,
   "id": "e5434868",
   "metadata": {},
   "outputs": [
    {
     "data": {
      "text/plain": [
       "'Abdualrahmman Abduallah                                               '"
      ]
     },
     "execution_count": 47,
     "metadata": {},
     "output_type": "execute_result"
    }
   ],
   "source": [
    "s7.ljust(70)"
   ]
  },
  {
   "cell_type": "code",
   "execution_count": 48,
   "id": "24ef077d",
   "metadata": {},
   "outputs": [
    {
     "name": "stdout",
     "output_type": "stream",
     "text": [
      "Abdualrahmman Abduallah                                                         \n"
     ]
    }
   ],
   "source": [
    "print(s7.ljust(80))"
   ]
  },
  {
   "cell_type": "code",
   "execution_count": 49,
   "id": "9bdc7a12",
   "metadata": {},
   "outputs": [
    {
     "data": {
      "text/plain": [
       "'Abdualrahmman Abduallah-----------------------------------------------'"
      ]
     },
     "execution_count": 49,
     "metadata": {},
     "output_type": "execute_result"
    }
   ],
   "source": [
    "s7.ljust(70, '-')"
   ]
  },
  {
   "cell_type": "code",
   "execution_count": 50,
   "id": "489dfa52",
   "metadata": {},
   "outputs": [
    {
     "data": {
      "text/plain": [
       "'Abdualrahmman Abduallah***********************************************'"
      ]
     },
     "execution_count": 50,
     "metadata": {},
     "output_type": "execute_result"
    }
   ],
   "source": [
    "s7.ljust(70, '*')"
   ]
  },
  {
   "cell_type": "markdown",
   "id": "981d9ba4",
   "metadata": {},
   "source": [
    "# rjust"
   ]
  },
  {
   "cell_type": "code",
   "execution_count": 51,
   "id": "4dc09d01",
   "metadata": {},
   "outputs": [
    {
     "data": {
      "text/plain": [
       "'                                               Abdualrahmman Abduallah'"
      ]
     },
     "execution_count": 51,
     "metadata": {},
     "output_type": "execute_result"
    }
   ],
   "source": [
    "s7.rjust(70)"
   ]
  },
  {
   "cell_type": "code",
   "execution_count": 52,
   "id": "e6747eb1",
   "metadata": {},
   "outputs": [
    {
     "data": {
      "text/plain": [
       "'///////////////////////////////////////////////Abdualrahmman Abduallah'"
      ]
     },
     "execution_count": 52,
     "metadata": {},
     "output_type": "execute_result"
    }
   ],
   "source": [
    "s7.rjust(70, '/')"
   ]
  },
  {
   "cell_type": "markdown",
   "id": "94fd7535",
   "metadata": {},
   "source": [
    "# zfill"
   ]
  },
  {
   "cell_type": "code",
   "execution_count": 53,
   "id": "40a13ea3",
   "metadata": {},
   "outputs": [],
   "source": [
    "s8 = '128'"
   ]
  },
  {
   "cell_type": "code",
   "execution_count": 54,
   "id": "1ae4f92c",
   "metadata": {},
   "outputs": [
    {
     "data": {
      "text/plain": [
       "'00000000000000000128'"
      ]
     },
     "execution_count": 54,
     "metadata": {},
     "output_type": "execute_result"
    }
   ],
   "source": [
    "s8.zfill(20)"
   ]
  },
  {
   "cell_type": "markdown",
   "id": "bb262476",
   "metadata": {},
   "source": [
    "# isalpha"
   ]
  },
  {
   "cell_type": "code",
   "execution_count": 55,
   "id": "ecc67930",
   "metadata": {},
   "outputs": [],
   "source": [
    "s9 = 'ahmmed'"
   ]
  },
  {
   "cell_type": "code",
   "execution_count": 56,
   "id": "3811b12f",
   "metadata": {},
   "outputs": [
    {
     "data": {
      "text/plain": [
       "True"
      ]
     },
     "execution_count": 56,
     "metadata": {},
     "output_type": "execute_result"
    }
   ],
   "source": [
    "s9.isalpha()"
   ]
  },
  {
   "cell_type": "code",
   "execution_count": 57,
   "id": "6a7492c9",
   "metadata": {},
   "outputs": [
    {
     "data": {
      "text/plain": [
       "False"
      ]
     },
     "execution_count": 57,
     "metadata": {},
     "output_type": "execute_result"
    }
   ],
   "source": [
    "s8.isalpha()"
   ]
  },
  {
   "cell_type": "markdown",
   "id": "f9185f31",
   "metadata": {},
   "source": [
    "# strip"
   ]
  },
  {
   "cell_type": "markdown",
   "id": "b393b926",
   "metadata": {},
   "source": [
    "### delete spaces before text and after it"
   ]
  },
  {
   "cell_type": "code",
   "execution_count": 58,
   "id": "46f01714",
   "metadata": {},
   "outputs": [],
   "source": [
    "s10 = '  aa mm '"
   ]
  },
  {
   "cell_type": "code",
   "execution_count": 59,
   "id": "9527e87d",
   "metadata": {},
   "outputs": [
    {
     "data": {
      "text/plain": [
       "'  aa mm '"
      ]
     },
     "execution_count": 59,
     "metadata": {},
     "output_type": "execute_result"
    }
   ],
   "source": [
    "s10"
   ]
  },
  {
   "cell_type": "code",
   "execution_count": 60,
   "id": "e1a43208",
   "metadata": {},
   "outputs": [
    {
     "data": {
      "text/plain": [
       "'aa mm'"
      ]
     },
     "execution_count": 60,
     "metadata": {},
     "output_type": "execute_result"
    }
   ],
   "source": [
    "s10.strip()"
   ]
  },
  {
   "cell_type": "code",
   "execution_count": 61,
   "id": "96b59eaa",
   "metadata": {},
   "outputs": [],
   "source": [
    "s11 = \"--Mohammed***\""
   ]
  },
  {
   "cell_type": "code",
   "execution_count": 62,
   "id": "6edd10f8",
   "metadata": {},
   "outputs": [
    {
     "data": {
      "text/plain": [
       "'Mohammed***'"
      ]
     },
     "execution_count": 62,
     "metadata": {},
     "output_type": "execute_result"
    }
   ],
   "source": [
    "s11.strip('-')"
   ]
  },
  {
   "cell_type": "code",
   "execution_count": 63,
   "id": "d3ce2344",
   "metadata": {},
   "outputs": [
    {
     "data": {
      "text/plain": [
       "'--Mohammed'"
      ]
     },
     "execution_count": 63,
     "metadata": {},
     "output_type": "execute_result"
    }
   ],
   "source": [
    "s11.strip('*')"
   ]
  },
  {
   "cell_type": "code",
   "execution_count": 64,
   "id": "8d9c0447",
   "metadata": {},
   "outputs": [
    {
     "data": {
      "text/plain": [
       "'Mohammed'"
      ]
     },
     "execution_count": 64,
     "metadata": {},
     "output_type": "execute_result"
    }
   ],
   "source": [
    "s11.strip('-*')"
   ]
  },
  {
   "cell_type": "markdown",
   "id": "7891ca23",
   "metadata": {},
   "source": [
    "# lstrip"
   ]
  },
  {
   "cell_type": "markdown",
   "id": "813c81e8",
   "metadata": {},
   "source": [
    "### delete spaces before text"
   ]
  },
  {
   "cell_type": "code",
   "execution_count": 65,
   "id": "8f21aa86",
   "metadata": {},
   "outputs": [
    {
     "data": {
      "text/plain": [
       "'aa mm '"
      ]
     },
     "execution_count": 65,
     "metadata": {},
     "output_type": "execute_result"
    }
   ],
   "source": [
    "s10.lstrip()"
   ]
  },
  {
   "cell_type": "code",
   "execution_count": 66,
   "id": "1e78ec0b",
   "metadata": {},
   "outputs": [
    {
     "data": {
      "text/plain": [
       "'Mohammed***'"
      ]
     },
     "execution_count": 66,
     "metadata": {},
     "output_type": "execute_result"
    }
   ],
   "source": [
    "s11.lstrip('-')"
   ]
  },
  {
   "cell_type": "code",
   "execution_count": 67,
   "id": "712c707f",
   "metadata": {},
   "outputs": [
    {
     "data": {
      "text/plain": [
       "'Mohammed***'"
      ]
     },
     "execution_count": 67,
     "metadata": {},
     "output_type": "execute_result"
    }
   ],
   "source": [
    "s11.lstrip('-*')"
   ]
  },
  {
   "cell_type": "markdown",
   "id": "12162614",
   "metadata": {},
   "source": [
    "# rstrip"
   ]
  },
  {
   "cell_type": "markdown",
   "id": "64bd8660",
   "metadata": {},
   "source": [
    "### delete spaces  after text"
   ]
  },
  {
   "cell_type": "code",
   "execution_count": 68,
   "id": "9920a307",
   "metadata": {},
   "outputs": [
    {
     "data": {
      "text/plain": [
       "'  aa mm'"
      ]
     },
     "execution_count": 68,
     "metadata": {},
     "output_type": "execute_result"
    }
   ],
   "source": [
    "s10.rstrip()"
   ]
  },
  {
   "cell_type": "code",
   "execution_count": 69,
   "id": "82ab2477",
   "metadata": {},
   "outputs": [
    {
     "data": {
      "text/plain": [
       "'--Mohammed***'"
      ]
     },
     "execution_count": 69,
     "metadata": {},
     "output_type": "execute_result"
    }
   ],
   "source": [
    "s11.rstrip('-')"
   ]
  },
  {
   "cell_type": "code",
   "execution_count": 70,
   "id": "f2f6a8c9",
   "metadata": {},
   "outputs": [
    {
     "data": {
      "text/plain": [
       "'--Mohammed'"
      ]
     },
     "execution_count": 70,
     "metadata": {},
     "output_type": "execute_result"
    }
   ],
   "source": [
    "s11.rstrip('*')"
   ]
  },
  {
   "cell_type": "code",
   "execution_count": 71,
   "id": "5b4d0e0f",
   "metadata": {},
   "outputs": [
    {
     "data": {
      "text/plain": [
       "'--Mohammed'"
      ]
     },
     "execution_count": 71,
     "metadata": {},
     "output_type": "execute_result"
    }
   ],
   "source": [
    "s11.rstrip('-*')"
   ]
  },
  {
   "cell_type": "markdown",
   "id": "48ff4cf1",
   "metadata": {},
   "source": [
    "# scap from back slash"
   ]
  },
  {
   "cell_type": "code",
   "execution_count": 72,
   "id": "b720668e",
   "metadata": {},
   "outputs": [
    {
     "name": "stdout",
     "output_type": "stream",
     "text": [
      "C:win10\n",
      "ew folder\n"
     ]
    }
   ],
   "source": [
    "s12 = \"C:win10\\new folder\"\n",
    "print(s12)"
   ]
  },
  {
   "cell_type": "code",
   "execution_count": 73,
   "id": "223b8f30",
   "metadata": {},
   "outputs": [
    {
     "name": "stdout",
     "output_type": "stream",
     "text": [
      "C:win10\\new folder\n"
     ]
    }
   ],
   "source": [
    "s12 = r\"C:win10\\new folder\"\n",
    "print(s12)"
   ]
  },
  {
   "cell_type": "markdown",
   "id": "93de6b5c",
   "metadata": {},
   "source": [
    "# multi lines string"
   ]
  },
  {
   "cell_type": "code",
   "execution_count": 74,
   "id": "ab674ac2",
   "metadata": {},
   "outputs": [
    {
     "name": "stdout",
     "output_type": "stream",
     "text": [
      "\n",
      "Mohammed\n",
      "Abduallah\n",
      "from\n",
      "Syria\n",
      "\n"
     ]
    }
   ],
   "source": [
    "s13 = '''\n",
    "Mohammed\n",
    "Abduallah\n",
    "from\n",
    "Syria\n",
    "'''\n",
    "print(s13)"
   ]
  },
  {
   "cell_type": "code",
   "execution_count": 75,
   "id": "9da16303",
   "metadata": {},
   "outputs": [
    {
     "data": {
      "text/plain": [
       "['', 'Mohammed', 'Abduallah', 'from', 'Syria']"
      ]
     },
     "execution_count": 75,
     "metadata": {},
     "output_type": "execute_result"
    }
   ],
   "source": [
    "s13.splitlines()"
   ]
  },
  {
   "cell_type": "code",
   "execution_count": 76,
   "id": "dc55abc4",
   "metadata": {},
   "outputs": [
    {
     "name": "stdout",
     "output_type": "stream",
     "text": [
      "aaa\n",
      "bbbbbbb\n"
     ]
    }
   ],
   "source": [
    "a, b = \"aaa\", \"bbbbbbb\"\n",
    "print(a)\n",
    "print(b)"
   ]
  },
  {
   "cell_type": "code",
   "execution_count": 77,
   "id": "f14db20e",
   "metadata": {},
   "outputs": [
    {
     "name": "stdout",
     "output_type": "stream",
     "text": [
      "aaabbbbbbb\n"
     ]
    }
   ],
   "source": [
    "print(a, end = '')\n",
    "print(b)"
   ]
  },
  {
   "cell_type": "markdown",
   "id": "15f79307",
   "metadata": {},
   "source": [
    "# printing"
   ]
  },
  {
   "cell_type": "code",
   "execution_count": 78,
   "id": "6aa1a0c2",
   "metadata": {},
   "outputs": [
    {
     "data": {
      "text/plain": [
       "'My first name is: mohammed \\tand last name is: Abduallah'"
      ]
     },
     "execution_count": 78,
     "metadata": {},
     "output_type": "execute_result"
    }
   ],
   "source": [
    "f = \"mohammed\"\n",
    "l = 'Abduallah'\n",
    "age = 27\n",
    "fn = 'My first name is: %s \\tand last name is: %s' %(f, l)\n",
    "my_age = 'My age is: %d' %age\n",
    "fn"
   ]
  },
  {
   "cell_type": "code",
   "execution_count": 79,
   "id": "07d16d43",
   "metadata": {},
   "outputs": [
    {
     "name": "stdout",
     "output_type": "stream",
     "text": [
      "My age is: 27\n"
     ]
    }
   ],
   "source": [
    "print(my_age)"
   ]
  },
  {
   "cell_type": "code",
   "execution_count": 80,
   "id": "926d2b41",
   "metadata": {},
   "outputs": [
    {
     "name": "stdout",
     "output_type": "stream",
     "text": [
      "My first name is: mohammed \tand last name is: Abduallah\n"
     ]
    }
   ],
   "source": [
    "print(fn)"
   ]
  },
  {
   "cell_type": "code",
   "execution_count": 81,
   "id": "37bbf87a",
   "metadata": {},
   "outputs": [
    {
     "name": "stdout",
     "output_type": "stream",
     "text": [
      "aaa          Ahmmed Abduallah\n"
     ]
    }
   ],
   "source": [
    "c = \"aaa %15s Abduallah\" %\"Ahmmed\" #fiveteen spaces\n",
    "print(c)"
   ]
  },
  {
   "cell_type": "code",
   "execution_count": 82,
   "id": "cc81a308",
   "metadata": {},
   "outputs": [
    {
     "name": "stdout",
     "output_type": "stream",
     "text": [
      "bbb 000000000027\n"
     ]
    }
   ],
   "source": [
    "d = \"bbb %012d\" %27 #make all 12\n",
    "print(d)"
   ]
  },
  {
   "cell_type": "markdown",
   "id": "4271f9e6",
   "metadata": {},
   "source": [
    "# isdigit"
   ]
  },
  {
   "cell_type": "markdown",
   "id": "95c2b4ad",
   "metadata": {},
   "source": [
    "### is all the string digit?"
   ]
  },
  {
   "cell_type": "code",
   "execution_count": 83,
   "id": "0fe0d532",
   "metadata": {},
   "outputs": [],
   "source": [
    "s14 = \"12345\"\n",
    "s15 = \"Mohammed3120\""
   ]
  },
  {
   "cell_type": "code",
   "execution_count": 84,
   "id": "ba119b52",
   "metadata": {},
   "outputs": [
    {
     "data": {
      "text/plain": [
       "True"
      ]
     },
     "execution_count": 84,
     "metadata": {},
     "output_type": "execute_result"
    }
   ],
   "source": [
    "s14.isdigit()"
   ]
  },
  {
   "cell_type": "code",
   "execution_count": 85,
   "id": "45348214",
   "metadata": {},
   "outputs": [
    {
     "data": {
      "text/plain": [
       "False"
      ]
     },
     "execution_count": 85,
     "metadata": {},
     "output_type": "execute_result"
    }
   ],
   "source": [
    "s15.isdigit()"
   ]
  },
  {
   "cell_type": "code",
   "execution_count": 86,
   "id": "4b25b0a1",
   "metadata": {},
   "outputs": [],
   "source": [
    "s16 = \"MOHAMMED\"\n",
    "s17 = \"mohammed\""
   ]
  },
  {
   "cell_type": "markdown",
   "id": "2d2cf509",
   "metadata": {},
   "source": [
    "# isupper"
   ]
  },
  {
   "cell_type": "code",
   "execution_count": 87,
   "id": "ac057994",
   "metadata": {},
   "outputs": [
    {
     "data": {
      "text/plain": [
       "False"
      ]
     },
     "execution_count": 87,
     "metadata": {},
     "output_type": "execute_result"
    }
   ],
   "source": [
    "s15.isupper()"
   ]
  },
  {
   "cell_type": "code",
   "execution_count": 88,
   "id": "bb5e02b5",
   "metadata": {},
   "outputs": [
    {
     "data": {
      "text/plain": [
       "True"
      ]
     },
     "execution_count": 88,
     "metadata": {},
     "output_type": "execute_result"
    }
   ],
   "source": [
    "s16.isupper()"
   ]
  },
  {
   "cell_type": "code",
   "execution_count": 89,
   "id": "801c82a7",
   "metadata": {},
   "outputs": [
    {
     "data": {
      "text/plain": [
       "False"
      ]
     },
     "execution_count": 89,
     "metadata": {},
     "output_type": "execute_result"
    }
   ],
   "source": [
    "s17.isupper()"
   ]
  },
  {
   "cell_type": "markdown",
   "id": "d6ecfff3",
   "metadata": {},
   "source": [
    "# islower"
   ]
  },
  {
   "cell_type": "code",
   "execution_count": 90,
   "id": "1da4eb4e",
   "metadata": {},
   "outputs": [
    {
     "data": {
      "text/plain": [
       "False"
      ]
     },
     "execution_count": 90,
     "metadata": {},
     "output_type": "execute_result"
    }
   ],
   "source": [
    "s16.islower()"
   ]
  },
  {
   "cell_type": "code",
   "execution_count": 91,
   "id": "4e4df49e",
   "metadata": {},
   "outputs": [
    {
     "data": {
      "text/plain": [
       "True"
      ]
     },
     "execution_count": 91,
     "metadata": {},
     "output_type": "execute_result"
    }
   ],
   "source": [
    "s17.islower()"
   ]
  },
  {
   "cell_type": "markdown",
   "id": "71af6c2a",
   "metadata": {},
   "source": [
    "# istitle"
   ]
  },
  {
   "cell_type": "markdown",
   "id": "09b433fe",
   "metadata": {},
   "source": [
    "### is the first letter capital??"
   ]
  },
  {
   "cell_type": "code",
   "execution_count": 92,
   "id": "74e0c001",
   "metadata": {},
   "outputs": [
    {
     "data": {
      "text/plain": [
       "True"
      ]
     },
     "execution_count": 92,
     "metadata": {},
     "output_type": "execute_result"
    }
   ],
   "source": [
    "s15.istitle()"
   ]
  },
  {
   "cell_type": "code",
   "execution_count": 93,
   "id": "78fd9cf7",
   "metadata": {},
   "outputs": [
    {
     "data": {
      "text/plain": [
       "False"
      ]
     },
     "execution_count": 93,
     "metadata": {},
     "output_type": "execute_result"
    }
   ],
   "source": [
    "s16.istitle()"
   ]
  },
  {
   "cell_type": "code",
   "execution_count": 94,
   "id": "7b9a6edc",
   "metadata": {},
   "outputs": [
    {
     "data": {
      "text/plain": [
       "False"
      ]
     },
     "execution_count": 94,
     "metadata": {},
     "output_type": "execute_result"
    }
   ],
   "source": [
    "s17.istitle()"
   ]
  },
  {
   "cell_type": "markdown",
   "id": "ab2e1f29",
   "metadata": {},
   "source": [
    "# endswith"
   ]
  },
  {
   "cell_type": "code",
   "execution_count": 95,
   "id": "c8db4ea5",
   "metadata": {},
   "outputs": [
    {
     "data": {
      "text/plain": [
       "True"
      ]
     },
     "execution_count": 95,
     "metadata": {},
     "output_type": "execute_result"
    }
   ],
   "source": [
    "s15.endswith('3120')"
   ]
  },
  {
   "cell_type": "code",
   "execution_count": 96,
   "id": "1475277d",
   "metadata": {},
   "outputs": [
    {
     "data": {
      "text/plain": [
       "False"
      ]
     },
     "execution_count": 96,
     "metadata": {},
     "output_type": "execute_result"
    }
   ],
   "source": [
    "s15.endswith('00')"
   ]
  },
  {
   "cell_type": "markdown",
   "id": "a603eadd",
   "metadata": {},
   "source": [
    "# startswith"
   ]
  },
  {
   "cell_type": "code",
   "execution_count": 97,
   "id": "b33ef41f",
   "metadata": {},
   "outputs": [
    {
     "data": {
      "text/plain": [
       "False"
      ]
     },
     "execution_count": 97,
     "metadata": {},
     "output_type": "execute_result"
    }
   ],
   "source": [
    "s15.startswith('3120')"
   ]
  },
  {
   "cell_type": "code",
   "execution_count": 98,
   "id": "54938bfe",
   "metadata": {},
   "outputs": [
    {
     "data": {
      "text/plain": [
       "False"
      ]
     },
     "execution_count": 98,
     "metadata": {},
     "output_type": "execute_result"
    }
   ],
   "source": [
    "s15.startswith('mo')"
   ]
  },
  {
   "cell_type": "code",
   "execution_count": 99,
   "id": "b1e3ed60",
   "metadata": {},
   "outputs": [
    {
     "data": {
      "text/plain": [
       "True"
      ]
     },
     "execution_count": 99,
     "metadata": {},
     "output_type": "execute_result"
    }
   ],
   "source": [
    "s15.startswith('Moh')"
   ]
  },
  {
   "cell_type": "markdown",
   "id": "2d1c07d9",
   "metadata": {},
   "source": [
    "# join"
   ]
  },
  {
   "cell_type": "code",
   "execution_count": 100,
   "id": "ab6deaa6",
   "metadata": {},
   "outputs": [
    {
     "data": {
      "text/plain": [
       "'am bm c'"
      ]
     },
     "execution_count": 100,
     "metadata": {},
     "output_type": "execute_result"
    }
   ],
   "source": [
    "s18 = \"m \".join(('a','b','c'))\n",
    "s18"
   ]
  },
  {
   "cell_type": "code",
   "execution_count": 101,
   "id": "c04b017a",
   "metadata": {},
   "outputs": [
    {
     "name": "stdout",
     "output_type": "stream",
     "text": [
      "a\tb\tc\n"
     ]
    }
   ],
   "source": [
    "s18 = \"\\t\".join(('a','b','c'))\n",
    "print(s18)"
   ]
  },
  {
   "cell_type": "code",
   "execution_count": 102,
   "id": "e84860c9",
   "metadata": {},
   "outputs": [
    {
     "name": "stdout",
     "output_type": "stream",
     "text": [
      "a\n",
      "b\n",
      "c\n"
     ]
    }
   ],
   "source": [
    "s18 = \"\\n\".join(('a','b','c'))\n",
    "print(s18)"
   ]
  },
  {
   "cell_type": "code",
   "execution_count": 103,
   "id": "393f3a81",
   "metadata": {},
   "outputs": [],
   "source": [
    "a = ['aa', 'bb', 'cc']"
   ]
  },
  {
   "cell_type": "code",
   "execution_count": 104,
   "id": "358fa504",
   "metadata": {},
   "outputs": [
    {
     "name": "stdout",
     "output_type": "stream",
     "text": [
      "aa\tbb\tcc\n"
     ]
    }
   ],
   "source": [
    "s18 = \"\\t\".join(a)\n",
    "print(s18)"
   ]
  },
  {
   "cell_type": "code",
   "execution_count": 105,
   "id": "4d144a06",
   "metadata": {},
   "outputs": [
    {
     "data": {
      "text/plain": [
       "['a',\n",
       " 'b',\n",
       " 'c',\n",
       " 'd',\n",
       " 'e',\n",
       " 'f',\n",
       " 'g',\n",
       " 'h',\n",
       " 'i',\n",
       " 'j',\n",
       " 'k',\n",
       " 'l',\n",
       " 'm',\n",
       " 'n',\n",
       " 'o',\n",
       " 'p',\n",
       " 'q',\n",
       " 'r',\n",
       " 's',\n",
       " 't',\n",
       " 'u',\n",
       " 'v',\n",
       " 'w',\n",
       " 'x',\n",
       " 'y',\n",
       " 'z']"
      ]
     },
     "execution_count": 105,
     "metadata": {},
     "output_type": "execute_result"
    }
   ],
   "source": [
    "listed_s2"
   ]
  },
  {
   "cell_type": "code",
   "execution_count": 106,
   "id": "5d873805",
   "metadata": {},
   "outputs": [
    {
     "data": {
      "text/plain": [
       "list"
      ]
     },
     "execution_count": 106,
     "metadata": {},
     "output_type": "execute_result"
    }
   ],
   "source": [
    "type(listed_s2)"
   ]
  },
  {
   "cell_type": "code",
   "execution_count": 107,
   "id": "8f721a24",
   "metadata": {},
   "outputs": [
    {
     "data": {
      "text/plain": [
       "'abcdefghijklmnopqrstuvwxyz'"
      ]
     },
     "execution_count": 107,
     "metadata": {},
     "output_type": "execute_result"
    }
   ],
   "source": [
    "''.join(listed_s2)"
   ]
  },
  {
   "cell_type": "markdown",
   "id": "d35c9ab2",
   "metadata": {},
   "source": [
    "# format"
   ]
  },
  {
   "cell_type": "code",
   "execution_count": 108,
   "id": "9c0e23d1",
   "metadata": {},
   "outputs": [
    {
     "name": "stdout",
     "output_type": "stream",
     "text": [
      "Ahmmed and Abd\n"
     ]
    }
   ],
   "source": [
    "s19 = \"{} and {}\".format('Ahmmed','Abd')\n",
    "print(s19)"
   ]
  },
  {
   "cell_type": "code",
   "execution_count": 109,
   "id": "22efc5aa",
   "metadata": {},
   "outputs": [
    {
     "name": "stdout",
     "output_type": "stream",
     "text": [
      "Ahmmed and Abd\n"
     ]
    }
   ],
   "source": [
    "s19 = \"{0} and {1}\".format('Ahmmed', 'Abd')\n",
    "print(s19)"
   ]
  },
  {
   "cell_type": "code",
   "execution_count": 110,
   "id": "dbb8fdcf",
   "metadata": {},
   "outputs": [
    {
     "name": "stdout",
     "output_type": "stream",
     "text": [
      "Abd and Ahmmed\n"
     ]
    }
   ],
   "source": [
    "s19 = \"{1} and {0}\".format('Ahmmed', 'Abd')\n",
    "print(s19)"
   ]
  },
  {
   "cell_type": "code",
   "execution_count": 111,
   "id": "efd4e50d",
   "metadata": {},
   "outputs": [
    {
     "name": "stdout",
     "output_type": "stream",
     "text": [
      "Abd and Ahmmed\n"
     ]
    }
   ],
   "source": [
    "s19 = \"{cc} and {bb}\".format(bb = 'Ahmmed', cc = 'Abd')\n",
    "print(s19)"
   ]
  },
  {
   "cell_type": "code",
   "execution_count": 112,
   "id": "a226823f",
   "metadata": {},
   "outputs": [],
   "source": [
    "import math"
   ]
  },
  {
   "cell_type": "code",
   "execution_count": 113,
   "id": "34dd610a",
   "metadata": {},
   "outputs": [
    {
     "name": "stdout",
     "output_type": "stream",
     "text": [
      "pi = 3.14\n"
     ]
    }
   ],
   "source": [
    "s20 = \"pi = {0:.2f}\".format(math.pi)\n",
    "print(s20)"
   ]
  },
  {
   "cell_type": "code",
   "execution_count": 114,
   "id": "e816cbaa",
   "metadata": {},
   "outputs": [
    {
     "name": "stdout",
     "output_type": "stream",
     "text": [
      "ahmmed is 20 years old\n"
     ]
    }
   ],
   "source": [
    "s21 = \"{:s} is {:d} years old\".format('ahmmed',20)\n",
    "print(s21)"
   ]
  },
  {
   "cell_type": "markdown",
   "id": "f4a8f199",
   "metadata": {},
   "source": [
    "### centring the string"
   ]
  },
  {
   "cell_type": "code",
   "execution_count": 115,
   "id": "b8f62986",
   "metadata": {
    "scrolled": true
   },
   "outputs": [
    {
     "name": "stdout",
     "output_type": "stream",
     "text": [
      "            Ahmmed            \n"
     ]
    }
   ],
   "source": [
    "s22 = \"{:^30}\".format('Ahmmed')\n",
    "print(s22)"
   ]
  },
  {
   "cell_type": "markdown",
   "id": "ea8f55d5",
   "metadata": {},
   "source": [
    "### each one make spaces with specific number"
   ]
  },
  {
   "cell_type": "code",
   "execution_count": 116,
   "id": "57dc1cec",
   "metadata": {},
   "outputs": [
    {
     "name": "stdout",
     "output_type": "stream",
     "text": [
      "Ahmmed                         is           123456789\n"
     ]
    }
   ],
   "source": [
    "s23 = \"{0:30} is{1:20}\".format('Ahmmed', 123456789)\n",
    "print(s23)"
   ]
  },
  {
   "cell_type": "code",
   "execution_count": null,
   "id": "1fe9ec86",
   "metadata": {},
   "outputs": [],
   "source": []
  }
 ],
 "metadata": {
  "kernelspec": {
   "display_name": "Python 3",
   "language": "python",
   "name": "python3"
  },
  "language_info": {
   "codemirror_mode": {
    "name": "ipython",
    "version": 3
   },
   "file_extension": ".py",
   "mimetype": "text/x-python",
   "name": "python",
   "nbconvert_exporter": "python",
   "pygments_lexer": "ipython3",
   "version": "3.8.8"
  }
 },
 "nbformat": 4,
 "nbformat_minor": 5
}
